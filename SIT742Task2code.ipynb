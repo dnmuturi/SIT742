{
  "nbformat": 4,
  "nbformat_minor": 0,
  "metadata": {
    "colab": {
      "provenance": [],
      "authorship_tag": "ABX9TyNiAfoR15tdjU4RahkMTi+2",
      "include_colab_link": true
    },
    "kernelspec": {
      "name": "python3",
      "display_name": "Python 3"
    },
    "language_info": {
      "name": "python"
    }
  },
  "cells": [
    {
      "cell_type": "markdown",
      "metadata": {
        "id": "view-in-github",
        "colab_type": "text"
      },
      "source": [
        "<a href=\"https://colab.research.google.com/github/dnmuturi/SIT742/blob/main/SIT742Task2code.ipynb\" target=\"_parent\"><img src=\"https://colab.research.google.com/assets/colab-badge.svg\" alt=\"Open In Colab\"/></a>"
      ]
    },
    {
      "cell_type": "markdown",
      "source": [
        "**END TERM ASSIGNMENT**\n",
        "\n",
        " **GROUP C30 Members**\n",
        "\n",
        "1. David Muturi - S225177509\n",
        "2. Nhlanhla Matukane - S225177376\n",
        "3. Vincent Nwobi -"
      ],
      "metadata": {
        "id": "SzkIZK2xplg8"
      }
    },
    {
      "cell_type": "markdown",
      "source": [
        "### **Part 1**"
      ],
      "metadata": {
        "id": "cdkp7fJMbMMd"
      }
    },
    {
      "cell_type": "markdown",
      "source": [
        "**Answer 1.1**"
      ],
      "metadata": {
        "id": "G0MnsqpJbQ5r"
      }
    },
    {
      "cell_type": "markdown",
      "source": [],
      "metadata": {
        "id": "66zjb3xbDqrb"
      }
    },
    {
      "cell_type": "code",
      "metadata": {
        "colab": {
          "base_uri": "https://localhost:8080/"
        },
        "id": "53955062",
        "outputId": "bd4c2f12-95e1-4c0d-fb14-2a3760efe5c5"
      },
      "source": [
        "#install the spark library\n",
        "!pip install pyspark"
      ],
      "execution_count": 120,
      "outputs": [
        {
          "output_type": "stream",
          "name": "stdout",
          "text": [
            "Requirement already satisfied: pyspark in /usr/local/lib/python3.12/dist-packages (3.5.1)\n",
            "Requirement already satisfied: py4j==0.10.9.7 in /usr/local/lib/python3.12/dist-packages (from pyspark) (0.10.9.7)\n"
          ]
        }
      ]
    },
    {
      "cell_type": "code",
      "source": [
        "#load necessary libraries\n",
        "import warnings\n",
        "warnings.filterwarnings(\"ignore\")\n",
        "\n",
        "from google.colab import drive\n",
        "from pyspark.sql import SparkSession\n",
        "from pyspark.sql.types import DoubleType\n",
        "import pandas as pd\n",
        "from pyspark.sql.functions import col, from_unixtime, to_date, when, lit, trim, count, date_format,avg\n",
        "\n",
        "from google.colab import drive\n",
        "import matplotlib.pyplot as plt\n",
        "import seaborn as sns\n"
      ],
      "metadata": {
        "id": "C4Ktnb9OqiWo"
      },
      "execution_count": 121,
      "outputs": []
    },
    {
      "cell_type": "code",
      "source": [
        "# Mount Google Drive\n",
        "drive.mount('/content/drive')\n",
        "# Define the path to the CSV file\n",
        "csv_path = '/content/drive/My Drive/SIT742/review.csv'"
      ],
      "metadata": {
        "colab": {
          "base_uri": "https://localhost:8080/"
        },
        "id": "_cA9x7Pi0Wc-",
        "outputId": "9afcb7b4-0088-4f12-df2a-ac14ee6a6adf"
      },
      "execution_count": 122,
      "outputs": [
        {
          "output_type": "stream",
          "name": "stdout",
          "text": [
            "Drive already mounted at /content/drive; to attempt to forcibly remount, call drive.mount(\"/content/drive\", force_remount=True).\n"
          ]
        }
      ]
    },
    {
      "cell_type": "code",
      "source": [
        "# Create a SparkSession\n",
        "spark = SparkSession.builder.appName(\"ReadCSVCorrectly\").getOrCreate()\n",
        "# Read the CSV file into a PySpark DataFrame with options to improve parsing\n",
        "try:\n",
        "    df_review= spark.read.csv(\n",
        "        csv_path,\n",
        "        header=True,\n",
        "        inferSchema=True,\n",
        "        sep=',',  # Assuming comma is the delimiter\n",
        "        quote='\"', # Assuming double quotes are used for quoting fields\n",
        "        escape='\"', # Assuming double quotes are escaped by double quotes\n",
        "        multiLine=True # Set to true if text column contains newline characters\n",
        "    )\n",
        "    print(\"CSV file loaded successfully!\")\n",
        "    df_review.show(5, truncate=False) # Display the first five rows without truncating\n",
        "except Exception as e:\n",
        "    print(f\"An error occurred: {e}\")"
      ],
      "metadata": {
        "colab": {
          "base_uri": "https://localhost:8080/"
        },
        "id": "Lx7OlPqe6TN_",
        "outputId": "51fadcce-0552-4ce0-c02d-e980a34e2153"
      },
      "execution_count": 123,
      "outputs": [
        {
          "output_type": "stream",
          "name": "stdout",
          "text": [
            "CSV file loaded successfully!\n",
            "+---------------------+-----------------+-------------+------+------------------------------------------------------------------------------------------------------------------------------------------------------------------------------------------------------------------------------------------------------------------------------------------------------------------------------------------------------------------------------------------------------------------------------------------------------------------------------------------------------------------------------------------------------------------------------------------------------------------------------------------------------------------------------------------------------------------------------------------------------------------------+----+----+-------------------------------------+\n",
            "|user_id              |name             |time         |rating|text                                                                                                                                                                                                                                                                                                                                                                                                                                                                                                                                                                                                                                                                                                                                                                    |pics|resp|gmap_id                              |\n",
            "+---------------------+-----------------+-------------+------+------------------------------------------------------------------------------------------------------------------------------------------------------------------------------------------------------------------------------------------------------------------------------------------------------------------------------------------------------------------------------------------------------------------------------------------------------------------------------------------------------------------------------------------------------------------------------------------------------------------------------------------------------------------------------------------------------------------------------------------------------------------------+----+----+-------------------------------------+\n",
            "|1.091298048426862E20 |Nicki Gore       |1566331951619|5     |We always stay here when in Valdez for silver salmon fishing. The elderly couple that run it are amazing to talk to, extremely helpful. The campsites are very well maintained.                                                                                                                                                                                                                                                                                                                                                                                                                                                                                                                                                                                         |NULL|NULL|0x56b646ed2220b77f:0xd8975e316de80952|\n",
            "|1.1324092640575896E20|Allen Ratliff    |1504917982385|5     |Great campground for the price. Nice hot unlimited showers, laundy, and  spacious wooded lots. Full hook ups. Late check in available.                                                                                                                                                                                                                                                                                                                                                                                                                                                                                                                                                                                                                                  |NULL|NULL|0x56b646ed2220b77f:0xd8975e316de80952|\n",
            "|1.1304483789114126E20|Jonathan Tringali|1474765901185|4     |We tent camped here for 2 nights while exploring Valdez. The center of the campground was in the open and there are treed sites around the edges. Don't expect lower foliage separating the sites. Still this is much nicer than the other RV parking lots in town which seemed wide open.\\n\\nThere is a bath house with 1 set of coin operated washer/dryer, 2 restrooms (sink toilet) and 2 shower rooms (sink, toilet, shower). The hot water will run out after a few showers. They provide floor mats towels for you to use which is nice, but they lack vent fans to remove moisture so it is prone to mold.\\n\\nWi-Fi didn't reach our site on the back edge of the campground. Overall we were happy with our stay at this campground and would stay there again.|NULL|NULL|0x56b646ed2220b77f:0xd8975e316de80952|\n",
            "|1.1032915514759202E20|S Blad           |1472858535682|4     |This place is just a few miles outside Valdez, which I thought was a bonus.  It was surrounded by woods and had some trees throughout the park for shade.  The bathrooms were clean and the showers were nice.  The dump station was a little underwhelming.  Overall, I'm really glad I stayed here and not one of the gravel lots in valdez.                                                                                                                                                                                                                                                                                                                                                                                                                          |NULL|NULL|0x56b646ed2220b77f:0xd8975e316de80952|\n",
            "|1.08989634908602E20  |Daniel Formoso   |1529649811341|5     |Probably the nicest and cleanest campground we've been to in Alaska.                                                                                                                                                                                                                                                                                                                                                                                                                                                                                                                                                                                                                                                                                                    |NULL|NULL|0x56b646ed2220b77f:0xd8975e316de80952|\n",
            "+---------------------+-----------------+-------------+------+------------------------------------------------------------------------------------------------------------------------------------------------------------------------------------------------------------------------------------------------------------------------------------------------------------------------------------------------------------------------------------------------------------------------------------------------------------------------------------------------------------------------------------------------------------------------------------------------------------------------------------------------------------------------------------------------------------------------------------------------------------------------+----+----+-------------------------------------+\n",
            "only showing top 5 rows\n",
            "\n"
          ]
        }
      ]
    },
    {
      "cell_type": "code",
      "source": [
        "# show data tpes\n",
        "df_review.printSchema()"
      ],
      "metadata": {
        "colab": {
          "base_uri": "https://localhost:8080/"
        },
        "id": "WiMlxprAEUhs",
        "outputId": "eb289020-9e2a-4e5e-bce6-c48fef822244"
      },
      "execution_count": 124,
      "outputs": [
        {
          "output_type": "stream",
          "name": "stdout",
          "text": [
            "root\n",
            " |-- user_id: double (nullable = true)\n",
            " |-- name: string (nullable = true)\n",
            " |-- time: long (nullable = true)\n",
            " |-- rating: integer (nullable = true)\n",
            " |-- text: string (nullable = true)\n",
            " |-- pics: string (nullable = true)\n",
            " |-- resp: string (nullable = true)\n",
            " |-- gmap_id: string (nullable = true)\n",
            "\n"
          ]
        }
      ]
    },
    {
      "cell_type": "code",
      "source": [
        "#show summary statistics\n",
        "df_review.describe().show()"
      ],
      "metadata": {
        "colab": {
          "base_uri": "https://localhost:8080/"
        },
        "id": "X0bNcdeKJ3Ot",
        "outputId": "6278dbc3-72dd-44fe-c01e-4cc61923a552"
      },
      "execution_count": 125,
      "outputs": [
        {
          "output_type": "stream",
          "name": "stdout",
          "text": [
            "+-------+--------------------+------------+--------------------+------------------+--------------------+--------------------+--------------------+--------------------+\n",
            "|summary|             user_id|        name|                time|            rating|                text|                pics|                resp|             gmap_id|\n",
            "+-------+--------------------+------------+--------------------+------------------+--------------------+--------------------+--------------------+--------------------+\n",
            "|  count|              521515|      521515|              521515|            521515|              298257|               20851|               44232|              521515|\n",
            "|   mean|1.091263946357014...|1.59456176E8|1.550301924036441E12| 4.283750227701984|                NULL|                NULL|                NULL|                NULL|\n",
            "| stddev|5.306023249666912...|         0.0|  3.8404430568757E10|1.0356221247508024|                NULL|                NULL|                NULL|                NULL|\n",
            "|    min|1.000026695878496...|           #|       1192279277223|                 1|! Fantastic custo...|[{'url': ['https:...|{'time': 13583586...|0x4391e31e06c0fba...|\n",
            "|    max|1.184461969624494...|      홍진유|       1631131711388|                 5|              🦋🍃🦅|[{'url': ['https:...|{'time': 16309533...|0x89c2804a7a0f7fd...|\n",
            "+-------+--------------------+------------+--------------------+------------------+--------------------+--------------------+--------------------+--------------------+\n",
            "\n"
          ]
        }
      ]
    },
    {
      "cell_type": "markdown",
      "source": [
        "**Answer 1.1.1**"
      ],
      "metadata": {
        "id": "oRj2lOE-raGs"
      }
    },
    {
      "cell_type": "code",
      "source": [
        "#function to count rows that are none or null\n",
        "def show_empty_rows(df):\n",
        "  # Filter rows where 'text' column is null or an empty string\n",
        "  null_or_empty_text_count = df.filter(\n",
        "    col(\"text\").isNull() | (trim(col(\"text\")) == \"\")\n",
        "  ).count()\n",
        "  return null_or_empty_text_count"
      ],
      "metadata": {
        "id": "4nA-TOEw_6yz"
      },
      "execution_count": 126,
      "outputs": []
    },
    {
      "cell_type": "code",
      "source": [
        "#show count of empty rows in text field before filling in with no review\n",
        "print(f\"The number of empty rows in the text column before replacing with 'no review' is: {show_empty_rows(df_review)}\")"
      ],
      "metadata": {
        "colab": {
          "base_uri": "https://localhost:8080/"
        },
        "id": "jwc7vMd8CERM",
        "outputId": "0edcf4d3-cc82-4834-d4bb-64891b4a5033"
      },
      "execution_count": 127,
      "outputs": [
        {
          "output_type": "stream",
          "name": "stdout",
          "text": [
            "The number of empty rows in the text column before replacing with 'no review' is: 223258\n"
          ]
        }
      ]
    },
    {
      "cell_type": "code",
      "source": [
        "# Replace null values with \"No review\"\n",
        "df_review = df_review.fillna({'text': 'no review'})\n",
        "\n",
        "# Replace empty strings (after trimming whitespace) with \"No review\"\n",
        "df_review = df_review.withColumn(\"text\",\n",
        "    when(trim(col(\"text\")) == \"\", lit(\"no review\")).otherwise(col(\"text\"))\n",
        ")\n",
        "\n",
        "# Show the count of text column with  to verify the changes\n",
        "print(f\"The number of empty rows in the text column after replacing with no review is: {show_empty_rows(df_review)}\")\n",
        "\n",
        "# Count rows where the 'text' column is 'no review'\n",
        "no_review_count = df_review.filter(col(\"text\") == \"no review\").count()\n",
        "\n",
        "print(f\"The number of reviews with 'no review' in the text column is: {no_review_count}\")\n"
      ],
      "metadata": {
        "colab": {
          "base_uri": "https://localhost:8080/"
        },
        "id": "xcXbFlC-Arya",
        "outputId": "ff40b09f-c66e-4043-f8f0-7f2b662238c9"
      },
      "execution_count": 128,
      "outputs": [
        {
          "output_type": "stream",
          "name": "stdout",
          "text": [
            "The number of empty rows in the text column after replacing with no review is: 0\n",
            "The number of reviews with 'no review' in the text column is: 223258\n"
          ]
        }
      ]
    },
    {
      "cell_type": "markdown",
      "source": [
        "**Answer 1.1.2**"
      ],
      "metadata": {
        "id": "PGG6r7-otTdg"
      }
    },
    {
      "cell_type": "code",
      "source": [
        "# Set the time parser policy to legacy to handle potential parsing issues\n",
        "spark.conf.set(\"spark.sql.legacy.timeParserPolicy\", \"LEGACY\")\n",
        "\n",
        "# Convert 'time' from epoch milliseconds to a timestamp, then to a date string\n",
        "df_review = df_review.withColumn(\n",
        "    \"newtime\",\n",
        "    to_date(from_unixtime(col(\"time\") / 1000), \"yyyy-MM-dd\")\n",
        ")\n",
        "\n",
        "# Display the first few rows with the new column\n",
        "df_review.select(\"user_id\",\"name\",\"rating\",\"time\", \"newtime\",\"text\",\"gmap_id\").show(5)"
      ],
      "metadata": {
        "id": "e702ILlLH2oF",
        "colab": {
          "base_uri": "https://localhost:8080/"
        },
        "outputId": "55d12e66-bb32-46f8-dc25-d2891e29c7db"
      },
      "execution_count": 129,
      "outputs": [
        {
          "output_type": "stream",
          "name": "stdout",
          "text": [
            "+--------------------+-----------------+------+-------------+----------+--------------------+--------------------+\n",
            "|             user_id|             name|rating|         time|   newtime|                text|             gmap_id|\n",
            "+--------------------+-----------------+------+-------------+----------+--------------------+--------------------+\n",
            "|1.091298048426862E20|       Nicki Gore|     5|1566331951619|2019-08-20|We always stay he...|0x56b646ed2220b77...|\n",
            "|1.132409264057589...|    Allen Ratliff|     5|1504917982385|2017-09-09|Great campground ...|0x56b646ed2220b77...|\n",
            "|1.130448378911412...|Jonathan Tringali|     4|1474765901185|2016-09-25|We tent camped he...|0x56b646ed2220b77...|\n",
            "|1.103291551475920...|           S Blad|     4|1472858535682|2016-09-02|This place is jus...|0x56b646ed2220b77...|\n",
            "| 1.08989634908602E20|   Daniel Formoso|     5|1529649811341|2018-06-22|Probably the nice...|0x56b646ed2220b77...|\n",
            "+--------------------+-----------------+------+-------------+----------+--------------------+--------------------+\n",
            "only showing top 5 rows\n",
            "\n"
          ]
        }
      ]
    },
    {
      "cell_type": "markdown",
      "source": [
        "**Answer 1.2**"
      ],
      "metadata": {
        "id": "s9SOA54GxrVX"
      }
    },
    {
      "cell_type": "markdown",
      "source": [
        "**Answer 1.2.1**"
      ],
      "metadata": {
        "id": "73LlzorL555T"
      }
    },
    {
      "cell_type": "code",
      "source": [
        "# Calculate the number of reviews per unique gmap_id\n",
        "reviews_per_gmap = df_review.groupBy(\"gmap_id\").agg(count(\"*\").alias(\"review_count\"))\n",
        "\n",
        "# Cast the review_count to float type\n",
        "reviews_per_gmap = reviews_per_gmap.withColumn(\"review_count\", col(\"review_count\").cast(DoubleType()))\n",
        "\n",
        "# Show the top 5 results\n",
        "print(\"Number of reviews per unique gmap_id (Top 5):\")\n",
        "reviews_per_gmap.orderBy(col(\"review_count\").desc()).show(5)"
      ],
      "metadata": {
        "id": "aPzG0khxewGJ",
        "colab": {
          "base_uri": "https://localhost:8080/"
        },
        "outputId": "a8f6b3c2-aa40-488f-8222-e7eba42126b8"
      },
      "execution_count": 130,
      "outputs": [
        {
          "output_type": "stream",
          "name": "stdout",
          "text": [
            "Number of reviews per unique gmap_id (Top 5):\n",
            "+--------------------+------------+\n",
            "|             gmap_id|review_count|\n",
            "+--------------------+------------+\n",
            "|0x56c897b9ce6000d...|      2833.0|\n",
            "|0x56c899d05892048...|      2594.0|\n",
            "|0x56c897c63697ee3...|      2258.0|\n",
            "|0x56c8965ee2fb87a...|      2237.0|\n",
            "|0x56c89629bde7481...|      2219.0|\n",
            "+--------------------+------------+\n",
            "only showing top 5 rows\n",
            "\n"
          ]
        }
      ]
    },
    {
      "cell_type": "markdown",
      "source": [
        "**Answer 1.2.2**"
      ],
      "metadata": {
        "id": "smGy0nJf6Akh"
      }
    },
    {
      "cell_type": "code",
      "source": [
        "# Convert PySpark DataFrame to pandas DataFrame\n",
        "df = df_review.toPandas()\n",
        "\n",
        "# Create 'review_time' column at the hour level\n",
        "df['review_time'] = pd.to_datetime(df['time'], unit='ms').dt.hour\n",
        "\n",
        "# Display the first 5 rows of the pandas DataFrame\n",
        "print(\"Pandas DataFrame with 'review_time' column (Top 5):\")\n",
        "display(df.head())"
      ],
      "metadata": {
        "colab": {
          "base_uri": "https://localhost:8080/",
          "height": 224
        },
        "id": "GKKiQDDB4JRt",
        "outputId": "99203411-3870-44bd-ee24-2a4d2fb6b92d"
      },
      "execution_count": 131,
      "outputs": [
        {
          "output_type": "stream",
          "name": "stdout",
          "text": [
            "Pandas DataFrame with 'review_time' column (Top 5):\n"
          ]
        },
        {
          "output_type": "display_data",
          "data": {
            "text/plain": [
              "        user_id               name           time  rating  \\\n",
              "0  1.091298e+20         Nicki Gore  1566331951619       5   \n",
              "1  1.132409e+20      Allen Ratliff  1504917982385       5   \n",
              "2  1.130448e+20  Jonathan Tringali  1474765901185       4   \n",
              "3  1.103292e+20             S Blad  1472858535682       4   \n",
              "4  1.089896e+20     Daniel Formoso  1529649811341       5   \n",
              "\n",
              "                                                text  pics  resp  \\\n",
              "0  We always stay here when in Valdez for silver ...  None  None   \n",
              "1  Great campground for the price. Nice hot unlim...  None  None   \n",
              "2  We tent camped here for 2 nights while explori...  None  None   \n",
              "3  This place is just a few miles outside Valdez,...  None  None   \n",
              "4  Probably the nicest and cleanest campground we...  None  None   \n",
              "\n",
              "                                 gmap_id     newtime  review_time  \n",
              "0  0x56b646ed2220b77f:0xd8975e316de80952  2019-08-20           20  \n",
              "1  0x56b646ed2220b77f:0xd8975e316de80952  2017-09-09            0  \n",
              "2  0x56b646ed2220b77f:0xd8975e316de80952  2016-09-25            1  \n",
              "3  0x56b646ed2220b77f:0xd8975e316de80952  2016-09-02           23  \n",
              "4  0x56b646ed2220b77f:0xd8975e316de80952  2018-06-22            6  "
            ],
            "text/html": [
              "\n",
              "  <div id=\"df-f4e523dd-7870-4f1c-9631-a407d2455221\" class=\"colab-df-container\">\n",
              "    <div>\n",
              "<style scoped>\n",
              "    .dataframe tbody tr th:only-of-type {\n",
              "        vertical-align: middle;\n",
              "    }\n",
              "\n",
              "    .dataframe tbody tr th {\n",
              "        vertical-align: top;\n",
              "    }\n",
              "\n",
              "    .dataframe thead th {\n",
              "        text-align: right;\n",
              "    }\n",
              "</style>\n",
              "<table border=\"1\" class=\"dataframe\">\n",
              "  <thead>\n",
              "    <tr style=\"text-align: right;\">\n",
              "      <th></th>\n",
              "      <th>user_id</th>\n",
              "      <th>name</th>\n",
              "      <th>time</th>\n",
              "      <th>rating</th>\n",
              "      <th>text</th>\n",
              "      <th>pics</th>\n",
              "      <th>resp</th>\n",
              "      <th>gmap_id</th>\n",
              "      <th>newtime</th>\n",
              "      <th>review_time</th>\n",
              "    </tr>\n",
              "  </thead>\n",
              "  <tbody>\n",
              "    <tr>\n",
              "      <th>0</th>\n",
              "      <td>1.091298e+20</td>\n",
              "      <td>Nicki Gore</td>\n",
              "      <td>1566331951619</td>\n",
              "      <td>5</td>\n",
              "      <td>We always stay here when in Valdez for silver ...</td>\n",
              "      <td>None</td>\n",
              "      <td>None</td>\n",
              "      <td>0x56b646ed2220b77f:0xd8975e316de80952</td>\n",
              "      <td>2019-08-20</td>\n",
              "      <td>20</td>\n",
              "    </tr>\n",
              "    <tr>\n",
              "      <th>1</th>\n",
              "      <td>1.132409e+20</td>\n",
              "      <td>Allen Ratliff</td>\n",
              "      <td>1504917982385</td>\n",
              "      <td>5</td>\n",
              "      <td>Great campground for the price. Nice hot unlim...</td>\n",
              "      <td>None</td>\n",
              "      <td>None</td>\n",
              "      <td>0x56b646ed2220b77f:0xd8975e316de80952</td>\n",
              "      <td>2017-09-09</td>\n",
              "      <td>0</td>\n",
              "    </tr>\n",
              "    <tr>\n",
              "      <th>2</th>\n",
              "      <td>1.130448e+20</td>\n",
              "      <td>Jonathan Tringali</td>\n",
              "      <td>1474765901185</td>\n",
              "      <td>4</td>\n",
              "      <td>We tent camped here for 2 nights while explori...</td>\n",
              "      <td>None</td>\n",
              "      <td>None</td>\n",
              "      <td>0x56b646ed2220b77f:0xd8975e316de80952</td>\n",
              "      <td>2016-09-25</td>\n",
              "      <td>1</td>\n",
              "    </tr>\n",
              "    <tr>\n",
              "      <th>3</th>\n",
              "      <td>1.103292e+20</td>\n",
              "      <td>S Blad</td>\n",
              "      <td>1472858535682</td>\n",
              "      <td>4</td>\n",
              "      <td>This place is just a few miles outside Valdez,...</td>\n",
              "      <td>None</td>\n",
              "      <td>None</td>\n",
              "      <td>0x56b646ed2220b77f:0xd8975e316de80952</td>\n",
              "      <td>2016-09-02</td>\n",
              "      <td>23</td>\n",
              "    </tr>\n",
              "    <tr>\n",
              "      <th>4</th>\n",
              "      <td>1.089896e+20</td>\n",
              "      <td>Daniel Formoso</td>\n",
              "      <td>1529649811341</td>\n",
              "      <td>5</td>\n",
              "      <td>Probably the nicest and cleanest campground we...</td>\n",
              "      <td>None</td>\n",
              "      <td>None</td>\n",
              "      <td>0x56b646ed2220b77f:0xd8975e316de80952</td>\n",
              "      <td>2018-06-22</td>\n",
              "      <td>6</td>\n",
              "    </tr>\n",
              "  </tbody>\n",
              "</table>\n",
              "</div>\n",
              "    <div class=\"colab-df-buttons\">\n",
              "\n",
              "  <div class=\"colab-df-container\">\n",
              "    <button class=\"colab-df-convert\" onclick=\"convertToInteractive('df-f4e523dd-7870-4f1c-9631-a407d2455221')\"\n",
              "            title=\"Convert this dataframe to an interactive table.\"\n",
              "            style=\"display:none;\">\n",
              "\n",
              "  <svg xmlns=\"http://www.w3.org/2000/svg\" height=\"24px\" viewBox=\"0 -960 960 960\">\n",
              "    <path d=\"M120-120v-720h720v720H120Zm60-500h600v-160H180v160Zm220 220h160v-160H400v160Zm0 220h160v-160H400v160ZM180-400h160v-160H180v160Zm440 0h160v-160H620v160ZM180-180h160v-160H180v160Zm440 0h160v-160H620v160Z\"/>\n",
              "  </svg>\n",
              "    </button>\n",
              "\n",
              "  <style>\n",
              "    .colab-df-container {\n",
              "      display:flex;\n",
              "      gap: 12px;\n",
              "    }\n",
              "\n",
              "    .colab-df-convert {\n",
              "      background-color: #E8F0FE;\n",
              "      border: none;\n",
              "      border-radius: 50%;\n",
              "      cursor: pointer;\n",
              "      display: none;\n",
              "      fill: #1967D2;\n",
              "      height: 32px;\n",
              "      padding: 0 0 0 0;\n",
              "      width: 32px;\n",
              "    }\n",
              "\n",
              "    .colab-df-convert:hover {\n",
              "      background-color: #E2EBFA;\n",
              "      box-shadow: 0px 1px 2px rgba(60, 64, 67, 0.3), 0px 1px 3px 1px rgba(60, 64, 67, 0.15);\n",
              "      fill: #174EA6;\n",
              "    }\n",
              "\n",
              "    .colab-df-buttons div {\n",
              "      margin-bottom: 4px;\n",
              "    }\n",
              "\n",
              "    [theme=dark] .colab-df-convert {\n",
              "      background-color: #3B4455;\n",
              "      fill: #D2E3FC;\n",
              "    }\n",
              "\n",
              "    [theme=dark] .colab-df-convert:hover {\n",
              "      background-color: #434B5C;\n",
              "      box-shadow: 0px 1px 3px 1px rgba(0, 0, 0, 0.15);\n",
              "      filter: drop-shadow(0px 1px 2px rgba(0, 0, 0, 0.3));\n",
              "      fill: #FFFFFF;\n",
              "    }\n",
              "  </style>\n",
              "\n",
              "    <script>\n",
              "      const buttonEl =\n",
              "        document.querySelector('#df-f4e523dd-7870-4f1c-9631-a407d2455221 button.colab-df-convert');\n",
              "      buttonEl.style.display =\n",
              "        google.colab.kernel.accessAllowed ? 'block' : 'none';\n",
              "\n",
              "      async function convertToInteractive(key) {\n",
              "        const element = document.querySelector('#df-f4e523dd-7870-4f1c-9631-a407d2455221');\n",
              "        const dataTable =\n",
              "          await google.colab.kernel.invokeFunction('convertToInteractive',\n",
              "                                                    [key], {});\n",
              "        if (!dataTable) return;\n",
              "\n",
              "        const docLinkHtml = 'Like what you see? Visit the ' +\n",
              "          '<a target=\"_blank\" href=https://colab.research.google.com/notebooks/data_table.ipynb>data table notebook</a>'\n",
              "          + ' to learn more about interactive tables.';\n",
              "        element.innerHTML = '';\n",
              "        dataTable['output_type'] = 'display_data';\n",
              "        await google.colab.output.renderOutput(dataTable, element);\n",
              "        const docLink = document.createElement('div');\n",
              "        docLink.innerHTML = docLinkHtml;\n",
              "        element.appendChild(docLink);\n",
              "      }\n",
              "    </script>\n",
              "  </div>\n",
              "\n",
              "\n",
              "    <div id=\"df-b1f0cb66-50f1-4a74-8f69-7ecc32c6f25d\">\n",
              "      <button class=\"colab-df-quickchart\" onclick=\"quickchart('df-b1f0cb66-50f1-4a74-8f69-7ecc32c6f25d')\"\n",
              "                title=\"Suggest charts\"\n",
              "                style=\"display:none;\">\n",
              "\n",
              "<svg xmlns=\"http://www.w3.org/2000/svg\" height=\"24px\"viewBox=\"0 0 24 24\"\n",
              "     width=\"24px\">\n",
              "    <g>\n",
              "        <path d=\"M19 3H5c-1.1 0-2 .9-2 2v14c0 1.1.9 2 2 2h14c1.1 0 2-.9 2-2V5c0-1.1-.9-2-2-2zM9 17H7v-7h2v7zm4 0h-2V7h2v10zm4 0h-2v-4h2v4z\"/>\n",
              "    </g>\n",
              "</svg>\n",
              "      </button>\n",
              "\n",
              "<style>\n",
              "  .colab-df-quickchart {\n",
              "      --bg-color: #E8F0FE;\n",
              "      --fill-color: #1967D2;\n",
              "      --hover-bg-color: #E2EBFA;\n",
              "      --hover-fill-color: #174EA6;\n",
              "      --disabled-fill-color: #AAA;\n",
              "      --disabled-bg-color: #DDD;\n",
              "  }\n",
              "\n",
              "  [theme=dark] .colab-df-quickchart {\n",
              "      --bg-color: #3B4455;\n",
              "      --fill-color: #D2E3FC;\n",
              "      --hover-bg-color: #434B5C;\n",
              "      --hover-fill-color: #FFFFFF;\n",
              "      --disabled-bg-color: #3B4455;\n",
              "      --disabled-fill-color: #666;\n",
              "  }\n",
              "\n",
              "  .colab-df-quickchart {\n",
              "    background-color: var(--bg-color);\n",
              "    border: none;\n",
              "    border-radius: 50%;\n",
              "    cursor: pointer;\n",
              "    display: none;\n",
              "    fill: var(--fill-color);\n",
              "    height: 32px;\n",
              "    padding: 0;\n",
              "    width: 32px;\n",
              "  }\n",
              "\n",
              "  .colab-df-quickchart:hover {\n",
              "    background-color: var(--hover-bg-color);\n",
              "    box-shadow: 0 1px 2px rgba(60, 64, 67, 0.3), 0 1px 3px 1px rgba(60, 64, 67, 0.15);\n",
              "    fill: var(--button-hover-fill-color);\n",
              "  }\n",
              "\n",
              "  .colab-df-quickchart-complete:disabled,\n",
              "  .colab-df-quickchart-complete:disabled:hover {\n",
              "    background-color: var(--disabled-bg-color);\n",
              "    fill: var(--disabled-fill-color);\n",
              "    box-shadow: none;\n",
              "  }\n",
              "\n",
              "  .colab-df-spinner {\n",
              "    border: 2px solid var(--fill-color);\n",
              "    border-color: transparent;\n",
              "    border-bottom-color: var(--fill-color);\n",
              "    animation:\n",
              "      spin 1s steps(1) infinite;\n",
              "  }\n",
              "\n",
              "  @keyframes spin {\n",
              "    0% {\n",
              "      border-color: transparent;\n",
              "      border-bottom-color: var(--fill-color);\n",
              "      border-left-color: var(--fill-color);\n",
              "    }\n",
              "    20% {\n",
              "      border-color: transparent;\n",
              "      border-left-color: var(--fill-color);\n",
              "      border-top-color: var(--fill-color);\n",
              "    }\n",
              "    30% {\n",
              "      border-color: transparent;\n",
              "      border-left-color: var(--fill-color);\n",
              "      border-top-color: var(--fill-color);\n",
              "      border-right-color: var(--fill-color);\n",
              "    }\n",
              "    40% {\n",
              "      border-color: transparent;\n",
              "      border-right-color: var(--fill-color);\n",
              "      border-top-color: var(--fill-color);\n",
              "    }\n",
              "    60% {\n",
              "      border-color: transparent;\n",
              "      border-right-color: var(--fill-color);\n",
              "    }\n",
              "    80% {\n",
              "      border-color: transparent;\n",
              "      border-right-color: var(--fill-color);\n",
              "      border-bottom-color: var(--fill-color);\n",
              "    }\n",
              "    90% {\n",
              "      border-color: transparent;\n",
              "      border-bottom-color: var(--fill-color);\n",
              "    }\n",
              "  }\n",
              "</style>\n",
              "\n",
              "      <script>\n",
              "        async function quickchart(key) {\n",
              "          const quickchartButtonEl =\n",
              "            document.querySelector('#' + key + ' button');\n",
              "          quickchartButtonEl.disabled = true;  // To prevent multiple clicks.\n",
              "          quickchartButtonEl.classList.add('colab-df-spinner');\n",
              "          try {\n",
              "            const charts = await google.colab.kernel.invokeFunction(\n",
              "                'suggestCharts', [key], {});\n",
              "          } catch (error) {\n",
              "            console.error('Error during call to suggestCharts:', error);\n",
              "          }\n",
              "          quickchartButtonEl.classList.remove('colab-df-spinner');\n",
              "          quickchartButtonEl.classList.add('colab-df-quickchart-complete');\n",
              "        }\n",
              "        (() => {\n",
              "          let quickchartButtonEl =\n",
              "            document.querySelector('#df-b1f0cb66-50f1-4a74-8f69-7ecc32c6f25d button');\n",
              "          quickchartButtonEl.style.display =\n",
              "            google.colab.kernel.accessAllowed ? 'block' : 'none';\n",
              "        })();\n",
              "      </script>\n",
              "    </div>\n",
              "\n",
              "    </div>\n",
              "  </div>\n"
            ],
            "application/vnd.google.colaboratory.intrinsic+json": {
              "type": "dataframe",
              "repr_error": "Out of range float values are not JSON compliant: nan"
            }
          },
          "metadata": {}
        }
      ]
    },
    {
      "cell_type": "markdown",
      "source": [
        "**Answer 1.2.3**"
      ],
      "metadata": {
        "id": "br0XEAsR6DPr"
      }
    },
    {
      "cell_type": "code",
      "metadata": {
        "colab": {
          "base_uri": "https://localhost:8080/",
          "height": 1000
        },
        "id": "2082982c",
        "outputId": "f3d5eeea-9a4f-4403-dcbd-fb9ecf979f1b"
      },
      "source": [
        "# Analyze the distribution of reviews by hour\n",
        "plt.figure(figsize=(10, 6))\n",
        "sns.countplot(data=df, x='review_time', palette='viridis')\n",
        "plt.title('Distribution of Review Times by Hour')\n",
        "plt.xlabel('Hour of the Day')\n",
        "plt.ylabel('Number of Reviews')\n",
        "plt.xticks(range(0, 24))\n",
        "plt.grid(axis='y')\n",
        "plt.show()\n",
        "\n",
        "# Analyze the number of businesses reviewed at different times\n",
        "# For simplicity, let's consider the number of unique gmap_ids that have reviews at each hour.\n",
        "unique_gmap_ids_per_hour = df.groupby('review_time')['gmap_id'].nunique().reset_index()\n",
        "\n",
        "plt.figure(figsize=(10, 6))\n",
        "sns.barplot(data=unique_gmap_ids_per_hour, x='review_time', y='gmap_id', palette='viridis')\n",
        "plt.title('Number of Unique Businesses Reviewed per Hour')\n",
        "plt.xlabel('Hour of the Day')\n",
        "plt.ylabel('Number of Unique Businesses')\n",
        "plt.xticks(range(0, 24))\n",
        "plt.grid(axis='y')\n",
        "plt.show()"
      ],
      "execution_count": 132,
      "outputs": [
        {
          "output_type": "display_data",
          "data": {
            "text/plain": [
              "<Figure size 1000x600 with 1 Axes>"
            ],
            "image/png": "[encoded data removed]"
          },
          "metadata": {}
        },
        {
          "output_type": "display_data",
          "data": {
            "text/plain": [
              "<Figure size 1000x600 with 1 Axes>"
            ],
            "image/png": "[encoded data removed]"
          },
          "metadata": {}
        }
      ]
    },
    {
      "cell_type": "markdown",
      "metadata": {
        "id": "fe1c49ca"
      },
      "source": [
        "### Insights from Visualizations\n",
        "\n",
        "The visualizations above provide insights into the review patterns based on the time of day:\n",
        "\n",
        "**Distribution of Review Times by Hour:**\n",
        "- The first plot shows the total number of reviews submitted at each hour of the day.\n",
        "- We can observe that there is a peak in reviews during certain hours, indicating when users are most active in leaving feedback. This could be related to business operating hours, user routines, or other factors.\n",
        "\n",
        "**Number of Unique Businesses Reviewed per Hour:**\n",
        "- The second plot shows the number of distinct businesses (identified by `gmap_id`) that received at least one review during each hour.\n",
        "- This helps understand if reviews are spread across many businesses throughout the day or concentrated on a few during specific times.\n",
        "\n",
        "Further analysis could involve looking at the average rating per hour, the types of businesses reviewed at different times, or correlating review times with other factors in the dataset."
      ]
    },
    {
      "cell_type": "code",
      "source": [
        "# Define the path to the second CSV file\n",
        "meta_csv_path = '/content/drive/My Drive/SIT742/meta-review-business.csv'\n",
        "\n",
        "# Read the second CSV file into a PySpark DataFrame\n",
        "try:\n",
        "    df_meta = spark.read.csv(\n",
        "        meta_csv_path,\n",
        "        header=True,\n",
        "        inferSchema=True,\n",
        "        sep=',',  # Assuming comma is the delimiter\n",
        "        quote='\"', # Assuming double quotes are used for quoting fields\n",
        "        escape='\"', # Assuming double quotes are escaped by double quotes\n",
        "        multiLine=True # Set to true if text column contains newline characters\n",
        "    )\n",
        "    print(\"Meta CSV file loaded successfully!\")\n",
        "    df_meta.show(5, truncate=False) # Display the first five rows without truncating\n",
        "except Exception as e:\n",
        "    print(f\"An error occurred while loading meta CSV: {e}\")"
      ],
      "metadata": {
        "colab": {
          "base_uri": "https://localhost:8080/"
        },
        "id": "DIFxrO7WBpZ5",
        "outputId": "80e69084-0104-4e5e-e80b-550b4d010fa3"
      },
      "execution_count": 133,
      "outputs": [
        {
          "output_type": "stream",
          "name": "stdout",
          "text": [
            "Meta CSV file loaded successfully!\n",
            "+---------------------------+------------------------------------------------------------------+-------------------------------------+-----------+------------------+-------------------+------------------------------------------------+----------+--------------+-----+--------------------------------------------------------------------------------------------------------------------------------------------------------------------------------+------------------------------------------------------------------------------------------------------------------------------------------------------------------------------------------+-----------------------+-------------------------------------------------------------------------------------------------------------------------------------------------------------------------------------------------------------+----------------------------------------------------------------------------------------------------------------+\n",
            "|name                       |address                                                           |gmap_id                              |description|latitude          |longitude          |category                                        |avg_rating|num_of_reviews|price|hours                                                                                                                                                                           |MISC                                                                                                                                                                                      |state                  |relative_results                                                                                                                                                                                             |url                                                                                                             |\n",
            "+---------------------------+------------------------------------------------------------------+-------------------------------------+-----------+------------------+-------------------+------------------------------------------------+----------+--------------+-----+--------------------------------------------------------------------------------------------------------------------------------------------------------------------------------+------------------------------------------------------------------------------------------------------------------------------------------------------------------------------------------+-----------------------+-------------------------------------------------------------------------------------------------------------------------------------------------------------------------------------------------------------+----------------------------------------------------------------------------------------------------------------+\n",
            "|Bear Creek Cabins & RV Park|Bear Creek Cabins & RV Park, 3181 Richardson Hwy, Valdez, AK 99686|0x56b646ed2220b77f:0xd8975e316de80952|NULL       |61.1006437        |-146.21455179999998|['RV park', 'Cabin rental agency', 'Campground']|4.5       |18            |NULL |NULL                                                                                                                                                                            |NULL                                                                                                                                                                                      |NULL                   |['0x56b6445fd9f9e387:0x6dd3d374ef56431a', '0x56b646917980df8b:0x5092593808fd5683', '0x56b646902f0e02db:0xe98efd617fbcc18b', '0x56b6468ea1b3a017:0x9e4cf985a172fcac', '0x56b6468d13a3cf57:0xf06b0906affed5b6']|https://www.google.com/maps/place//data=!4m2!3m1!1s0x56b646ed2220b77f:0xd8975e316de80952?authuser=-1&hl=en&gl=us|\n",
            "|Anchorage Market           |Anchorage Market, 88th Ave, Anchorage, AK 99515                   |0x56c8992b5dee7225:0x9f7f4bf151868cf7|NULL       |61.1414349        |-149.8684816       |[\"Farmers' market\"]                             |4.2       |18            |NULL |[['Thursday', 'Closed'], ['Friday', '10AM–5PM'], ['Saturday', '10AM–5PM'], ['Sunday', '10AM–5PM'], ['Monday', 'Closed'], ['Tuesday', 'Closed'], ['Wednesday', 'Closed']]        |{'Service options': ['In-store shopping'], 'Accessibility': ['Wheelchair accessible entrance']}                                                                                           |Closed ⋅ Opens 10AM Fri|NULL                                                                                                                                                                                                         |https://www.google.com/maps/place//data=!4m2!3m1!1s0x56c8992b5dee7225:0x9f7f4bf151868cf7?authuser=-1&hl=en&gl=us|\n",
            "|Happy Camper RV            |Happy Camper RV, 1151 N Shenandoah Dr # 4, Palmer, AK 99645       |0x56c8e0455225be87:0xf24828df75e2f8ae|NULL       |61.591855499999994|-149.2906566       |['RV repair shop']                              |4.4       |28            |NULL |NULL                                                                                                                                                                            |{'Accessibility': ['Wheelchair accessible entrance'], 'Amenities': ['Mechanic'], 'Planning': ['Appointments recommended']}                                                                |NULL                   |['0x56c8e104d9929a1d:0x2070ad63defadbf', '0x56c91f08c8dd5123:0x8896bac511938278', '0x56c8e09cd012ee45:0xf2838f4de29529c3', '0x56c8e0259af71a65:0x75e1d237141b21f0']                                          |https://www.google.com/maps/place//data=!4m2!3m1!1s0x56c8e0455225be87:0xf24828df75e2f8ae?authuser=-1&hl=en&gl=us|\n",
            "|Cajun Corner               |Cajun Corner, 302 G St, Anchorage, AK 99501                       |0x56c8bdb5d91017cd:0xca19fd9afceed343|NULL       |61.219378299999995|-149.8958522       |['American restaurant']                         |4.5       |24            |NULL |[['Wednesday', '11AM–2PM'], ['Thursday', '11AM–2PM'], ['Friday', '11AM–2PM'], ['Saturday', '11AM–2PM'], ['Sunday', 'Closed'], ['Monday', '11AM–2PM'], ['Tuesday', '11AM–2PM']]  |{'Service options': ['Takeout', 'Dine-in', 'Delivery'], 'Popular for': ['Dinner', 'Solo dining'], 'Dining options': ['Dessert'], 'Amenities': ['Good for kids'], 'Atmosphere': ['Casual']}|Closed ⋅ Opens 11AM Thu|NULL                                                                                                                                                                                                         |https://www.google.com/maps/place//data=!4m2!3m1!1s0x56c8bdb5d91017cd:0xca19fd9afceed343?authuser=-1&hl=en&gl=us|\n",
            "|Alaska General Seafoods    |Alaska General Seafoods, 980 Stedman St, Ketchikan, AK 99901      |0x540c251956395673:0x16f5a4fe26c18931|NULL       |55.336118799999994|-131.6306694       |['Seafood wholesaler', 'Food']                  |4.7       |8             |NULL |[['Wednesday', '7AM–11PM'], ['Thursday', '7AM–11PM'], ['Friday', '7AM–11PM'], ['Saturday', '7AM–11PM'], ['Sunday', '7AM–11PM'], ['Monday', '7AM–11PM'], ['Tuesday', '7AM–11PM']]|NULL                                                                                                                                                                                      |Open ⋅ Closes 11PM     |['0x540c25a882a72685:0xac5663d19d0a1893', '0x540c25a8a1f96287:0x6041195e00ca105f', '0x540c251b5c78f2b3:0xf9b013e498c3b978', '0x540c25a6001ef629:0xbe2cdfb65aac4023']                                         |https://www.google.com/maps/place//data=!4m2!3m1!1s0x540c251956395673:0x16f5a4fe26c18931?authuser=-1&hl=en&gl=us|\n",
            "+---------------------------+------------------------------------------------------------------+-------------------------------------+-----------+------------------+-------------------+------------------------------------------------+----------+--------------+-----+--------------------------------------------------------------------------------------------------------------------------------------------------------------------------------+------------------------------------------------------------------------------------------------------------------------------------------------------------------------------------------+-----------------------+-------------------------------------------------------------------------------------------------------------------------------------------------------------------------------------------------------------+----------------------------------------------------------------------------------------------------------------+\n",
            "only showing top 5 rows\n",
            "\n"
          ]
        }
      ]
    },
    {
      "cell_type": "code",
      "source": [
        "# Join the two DataFrames on the 'gmap_id' column\n",
        "joined_df = df_review.join(df_meta, on=\"gmap_id\", how=\"inner\")\n",
        "\n",
        "# Show the schema and some rows of the joined DataFrame\n",
        "print(\"Joined DataFrame Schema:\")\n",
        "joined_df.printSchema()\n",
        "\n",
        "print(\"Joined DataFrame (Top 5):\")\n",
        "joined_df.show(5, truncate=False)"
      ],
      "metadata": {
        "colab": {
          "base_uri": "https://localhost:8080/"
        },
        "id": "480yoGtO52Oy",
        "outputId": "4d4b915d-4001-4de6-d02a-60117d2c032b"
      },
      "execution_count": 134,
      "outputs": [
        {
          "output_type": "stream",
          "name": "stdout",
          "text": [
            "Joined DataFrame Schema:\n",
            "root\n",
            " |-- gmap_id: string (nullable = true)\n",
            " |-- user_id: double (nullable = true)\n",
            " |-- name: string (nullable = true)\n",
            " |-- time: long (nullable = true)\n",
            " |-- rating: integer (nullable = true)\n",
            " |-- text: string (nullable = false)\n",
            " |-- pics: string (nullable = true)\n",
            " |-- resp: string (nullable = true)\n",
            " |-- newtime: date (nullable = true)\n",
            " |-- name: string (nullable = true)\n",
            " |-- address: string (nullable = true)\n",
            " |-- description: string (nullable = true)\n",
            " |-- latitude: double (nullable = true)\n",
            " |-- longitude: double (nullable = true)\n",
            " |-- category: string (nullable = true)\n",
            " |-- avg_rating: double (nullable = true)\n",
            " |-- num_of_reviews: integer (nullable = true)\n",
            " |-- price: string (nullable = true)\n",
            " |-- hours: string (nullable = true)\n",
            " |-- MISC: string (nullable = true)\n",
            " |-- state: string (nullable = true)\n",
            " |-- relative_results: string (nullable = true)\n",
            " |-- url: string (nullable = true)\n",
            "\n",
            "Joined DataFrame (Top 5):\n",
            "+-------------------------------------+---------------------+-----------------+-------------+------+------------------------------------------------------------------------------------------------------------------------------------------------------------------------------------------------------------------------------------------------------------------------------------------------------------------------------------------------------------------------------------------------------------------------------------------------------------------------------------------------------------------------------------------------------------------------------------------------------------------------------------------------------------------------------------------------------------------------------------------------------------------------+----+----+----------+---------------------------+------------------------------------------------------------------+-----------+----------+-------------------+------------------------------------------------+----------+--------------+-----+-----+----+-----+-------------------------------------------------------------------------------------------------------------------------------------------------------------------------------------------------------------+----------------------------------------------------------------------------------------------------------------+\n",
            "|gmap_id                              |user_id              |name             |time         |rating|text                                                                                                                                                                                                                                                                                                                                                                                                                                                                                                                                                                                                                                                                                                                                                                    |pics|resp|newtime   |name                       |address                                                           |description|latitude  |longitude          |category                                        |avg_rating|num_of_reviews|price|hours|MISC|state|relative_results                                                                                                                                                                                             |url                                                                                                             |\n",
            "+-------------------------------------+---------------------+-----------------+-------------+------+------------------------------------------------------------------------------------------------------------------------------------------------------------------------------------------------------------------------------------------------------------------------------------------------------------------------------------------------------------------------------------------------------------------------------------------------------------------------------------------------------------------------------------------------------------------------------------------------------------------------------------------------------------------------------------------------------------------------------------------------------------------------+----+----+----------+---------------------------+------------------------------------------------------------------+-----------+----------+-------------------+------------------------------------------------+----------+--------------+-----+-----+----+-----+-------------------------------------------------------------------------------------------------------------------------------------------------------------------------------------------------------------+----------------------------------------------------------------------------------------------------------------+\n",
            "|0x56b646ed2220b77f:0xd8975e316de80952|1.091298048426862E20 |Nicki Gore       |1566331951619|5     |We always stay here when in Valdez for silver salmon fishing. The elderly couple that run it are amazing to talk to, extremely helpful. The campsites are very well maintained.                                                                                                                                                                                                                                                                                                                                                                                                                                                                                                                                                                                         |NULL|NULL|2019-08-20|Bear Creek Cabins & RV Park|Bear Creek Cabins & RV Park, 3181 Richardson Hwy, Valdez, AK 99686|NULL       |61.1006437|-146.21455179999998|['RV park', 'Cabin rental agency', 'Campground']|4.5       |18            |NULL |NULL |NULL|NULL |['0x56b6445fd9f9e387:0x6dd3d374ef56431a', '0x56b646917980df8b:0x5092593808fd5683', '0x56b646902f0e02db:0xe98efd617fbcc18b', '0x56b6468ea1b3a017:0x9e4cf985a172fcac', '0x56b6468d13a3cf57:0xf06b0906affed5b6']|https://www.google.com/maps/place//data=!4m2!3m1!1s0x56b646ed2220b77f:0xd8975e316de80952?authuser=-1&hl=en&gl=us|\n",
            "|0x56b646ed2220b77f:0xd8975e316de80952|1.091298048426862E20 |Nicki Gore       |1566331951619|5     |We always stay here when in Valdez for silver salmon fishing. The elderly couple that run it are amazing to talk to, extremely helpful. The campsites are very well maintained.                                                                                                                                                                                                                                                                                                                                                                                                                                                                                                                                                                                         |NULL|NULL|2019-08-20|Bear Creek Cabins & RV Park|Bear Creek Cabins & RV Park, 3181 Richardson Hwy, Valdez, AK 99686|NULL       |61.1006437|-146.21455179999998|['RV park', 'Cabin rental agency', 'Campground']|4.5       |18            |NULL |NULL |NULL|NULL |['0x56b6445fd9f9e387:0x6dd3d374ef56431a', '0x56b646917980df8b:0x5092593808fd5683', '0x56b646902f0e02db:0xe98efd617fbcc18b', '0x56b6468ea1b3a017:0x9e4cf985a172fcac', '0x56b6468d13a3cf57:0xf06b0906affed5b6']|https://www.google.com/maps/place//data=!4m2!3m1!1s0x56b646ed2220b77f:0xd8975e316de80952?authuser=-1&hl=en&gl=us|\n",
            "|0x56b646ed2220b77f:0xd8975e316de80952|1.1324092640575896E20|Allen Ratliff    |1504917982385|5     |Great campground for the price. Nice hot unlimited showers, laundy, and  spacious wooded lots. Full hook ups. Late check in available.                                                                                                                                                                                                                                                                                                                                                                                                                                                                                                                                                                                                                                  |NULL|NULL|2017-09-09|Bear Creek Cabins & RV Park|Bear Creek Cabins & RV Park, 3181 Richardson Hwy, Valdez, AK 99686|NULL       |61.1006437|-146.21455179999998|['RV park', 'Cabin rental agency', 'Campground']|4.5       |18            |NULL |NULL |NULL|NULL |['0x56b6445fd9f9e387:0x6dd3d374ef56431a', '0x56b646917980df8b:0x5092593808fd5683', '0x56b646902f0e02db:0xe98efd617fbcc18b', '0x56b6468ea1b3a017:0x9e4cf985a172fcac', '0x56b6468d13a3cf57:0xf06b0906affed5b6']|https://www.google.com/maps/place//data=!4m2!3m1!1s0x56b646ed2220b77f:0xd8975e316de80952?authuser=-1&hl=en&gl=us|\n",
            "|0x56b646ed2220b77f:0xd8975e316de80952|1.1324092640575896E20|Allen Ratliff    |1504917982385|5     |Great campground for the price. Nice hot unlimited showers, laundy, and  spacious wooded lots. Full hook ups. Late check in available.                                                                                                                                                                                                                                                                                                                                                                                                                                                                                                                                                                                                                                  |NULL|NULL|2017-09-09|Bear Creek Cabins & RV Park|Bear Creek Cabins & RV Park, 3181 Richardson Hwy, Valdez, AK 99686|NULL       |61.1006437|-146.21455179999998|['RV park', 'Cabin rental agency', 'Campground']|4.5       |18            |NULL |NULL |NULL|NULL |['0x56b6445fd9f9e387:0x6dd3d374ef56431a', '0x56b646917980df8b:0x5092593808fd5683', '0x56b646902f0e02db:0xe98efd617fbcc18b', '0x56b6468ea1b3a017:0x9e4cf985a172fcac', '0x56b6468d13a3cf57:0xf06b0906affed5b6']|https://www.google.com/maps/place//data=!4m2!3m1!1s0x56b646ed2220b77f:0xd8975e316de80952?authuser=-1&hl=en&gl=us|\n",
            "|0x56b646ed2220b77f:0xd8975e316de80952|1.1304483789114126E20|Jonathan Tringali|1474765901185|4     |We tent camped here for 2 nights while exploring Valdez. The center of the campground was in the open and there are treed sites around the edges. Don't expect lower foliage separating the sites. Still this is much nicer than the other RV parking lots in town which seemed wide open.\\n\\nThere is a bath house with 1 set of coin operated washer/dryer, 2 restrooms (sink toilet) and 2 shower rooms (sink, toilet, shower). The hot water will run out after a few showers. They provide floor mats towels for you to use which is nice, but they lack vent fans to remove moisture so it is prone to mold.\\n\\nWi-Fi didn't reach our site on the back edge of the campground. Overall we were happy with our stay at this campground and would stay there again.|NULL|NULL|2016-09-25|Bear Creek Cabins & RV Park|Bear Creek Cabins & RV Park, 3181 Richardson Hwy, Valdez, AK 99686|NULL       |61.1006437|-146.21455179999998|['RV park', 'Cabin rental agency', 'Campground']|4.5       |18            |NULL |NULL |NULL|NULL |['0x56b6445fd9f9e387:0x6dd3d374ef56431a', '0x56b646917980df8b:0x5092593808fd5683', '0x56b646902f0e02db:0xe98efd617fbcc18b', '0x56b6468ea1b3a017:0x9e4cf985a172fcac', '0x56b6468d13a3cf57:0xf06b0906affed5b6']|https://www.google.com/maps/place//data=!4m2!3m1!1s0x56b646ed2220b77f:0xd8975e316de80952?authuser=-1&hl=en&gl=us|\n",
            "+-------------------------------------+---------------------+-----------------+-------------+------+------------------------------------------------------------------------------------------------------------------------------------------------------------------------------------------------------------------------------------------------------------------------------------------------------------------------------------------------------------------------------------------------------------------------------------------------------------------------------------------------------------------------------------------------------------------------------------------------------------------------------------------------------------------------------------------------------------------------------------------------------------------------+----+----+----------+---------------------------+------------------------------------------------------------------+-----------+----------+-------------------+------------------------------------------------+----------+--------------+-----+-----+----+-----+-------------------------------------------------------------------------------------------------------------------------------------------------------------------------------------------------------------+----------------------------------------------------------------------------------------------------------------+\n",
            "only showing top 5 rows\n",
            "\n"
          ]
        }
      ]
    },
    {
      "cell_type": "code",
      "source": [
        "# Extract the day of the week from the 'newtime' column\n",
        "joined_df_with_day = joined_df.withColumn(\"day_of_week\", date_format(col(\"newtime\"), \"E\"))\n",
        "\n",
        "# Group by day of the week and count the reviews\n",
        "reviews_by_day = joined_df_with_day.groupBy(\"day_of_week\").count()\n",
        "\n",
        "# Define the order of the days of the week for plotting\n",
        "day_order = [\"Mon\", \"Tue\", \"Wed\", \"Thu\", \"Fri\", \"Sat\", \"Sun\"]\n",
        "\n",
        "# Convert to pandas DataFrame for plotting\n",
        "reviews_by_day_pd = reviews_by_day.toPandas()\n",
        "\n",
        "# Sort the pandas DataFrame by the defined day order\n",
        "reviews_by_day_pd['day_of_week'] = pd.Categorical(reviews_by_day_pd['day_of_week'], categories=day_order, ordered=True)\n",
        "reviews_by_day_pd = reviews_by_day_pd.sort_values('day_of_week')\n",
        "\n",
        "\n",
        "# Plot the results as a line chart\n",
        "plt.figure(figsize=(10, 6))\n",
        "sns.lineplot(data=reviews_by_day_pd, x='day_of_week', y='count', marker='o')\n",
        "plt.title('Number of Reviews per Day of the Week (Joined Data)')\n",
        "plt.xlabel('Day of the Week')\n",
        "plt.ylabel('Number of Reviews')\n",
        "plt.grid(axis='y')\n",
        "plt.show()"
      ],
      "metadata": {
        "colab": {
          "base_uri": "https://localhost:8080/",
          "height": 564
        },
        "id": "w54ao2_eCUEV",
        "outputId": "33fd358f-f093-44e3-be5b-1db17e60fc95"
      },
      "execution_count": 135,
      "outputs": [
        {
          "output_type": "display_data",
          "data": {
            "text/plain": [
              "<Figure size 1000x600 with 1 Axes>"
            ],
            "image/png": "[encoded data removed]"
          },
          "metadata": {}
        }
      ]
    },
    {
      "cell_type": "code",
      "source": [
        "# Find the day with the maximum number of reviews\n",
        "peak_day = reviews_by_day_pd.loc[reviews_by_day_pd['count'].idxmax()]['day_of_week']\n",
        "print(f\"The workday with the most reviews is: {peak_day}\")\n",
        "\n",
        "# Rename the 'name' column in df_meta to avoid ambiguity\n",
        "df_meta_renamed = df_meta.withColumnRenamed(\"name\", \"business_name\")\n",
        "\n",
        "# Re-join the dataframes with the renamed column\n",
        "# Ensure the 'newtime' column and 'day_of_week' are still available after re-joining\n",
        "\n",
        "joined_df_renamed = df_review.join(df_meta_renamed, on=\"gmap_id\", how=\"inner\")\n",
        "joined_df_with_day = joined_df_renamed.withColumn(\"day_of_week\", date_format(col(\"newtime\"), \"E\"))\n",
        "\n",
        "\n",
        "# Filter the joined DataFrame for the peak day\n",
        "peak_day_df = joined_df_with_day.filter(col(\"day_of_week\") == peak_day)\n",
        "\n",
        "# Group by business name and category and calculate the average rating\n",
        "avg_rating_by_business = peak_day_df.groupBy(\"business_name\", \"category\").agg(avg(\"rating\").alias(\"average_rating\"))\n",
        "\n",
        "# Find the business(es) with the highest average rating on the peak day\n",
        "highest_rated_businesses = avg_rating_by_business.orderBy(col(\"average_rating\").desc()).limit(5)\n",
        "\n",
        "print(f\"\\nBusinesses with the highest average rating on {peak_day} (Top 5):\")\n",
        "highest_rated_businesses.show(truncate=False)"
      ],
      "metadata": {
        "colab": {
          "base_uri": "https://localhost:8080/"
        },
        "id": "Oliw0wxTDMIX",
        "outputId": "de93e2db-7fb9-4ed9-977a-15c577280a78"
      },
      "execution_count": 136,
      "outputs": [
        {
          "output_type": "stream",
          "name": "stdout",
          "text": [
            "The workday with the most reviews is: Sun\n",
            "\n",
            "Businesses with the highest average rating on Sun (Top 5):\n",
            "+--------------------------------------+-------------------------------------------+--------------+\n",
            "|business_name                         |category                                   |average_rating|\n",
            "+--------------------------------------+-------------------------------------------+--------------+\n",
            "|Stony Hill Scenic Overlook            |['Vista point', 'Tourist attraction']      |5.0           |\n",
            "|Novus Glass                           |['Auto glass shop', 'Glass repair service']|5.0           |\n",
            "|Rugged Brews                          |['Coffee shop']                            |5.0           |\n",
            "|Morgan's Landing State Recreation Area|['State park', 'Tourist attraction']       |5.0           |\n",
            "|Ptarmigan Campground                  |['Campground']                             |5.0           |\n",
            "+--------------------------------------+-------------------------------------------+--------------+\n",
            "\n"
          ]
        }
      ]
    }
  ]
}