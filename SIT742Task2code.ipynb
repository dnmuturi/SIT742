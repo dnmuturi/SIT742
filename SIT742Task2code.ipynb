{
  "nbformat": 4,
  "nbformat_minor": 0,
  "metadata": {
    "colab": {
      "provenance": [],
      "authorship_tag": "ABX9TyNA4stw8HQDB/HN1fbHF414",
      "include_colab_link": true
    },
    "kernelspec": {
      "name": "python3",
      "display_name": "Python 3"
    },
    "language_info": {
      "name": "python"
    }
  },
  "cells": [
    {
      "cell_type": "markdown",
      "metadata": {
        "id": "view-in-github",
        "colab_type": "text"
      },
      "source": [
        "<a href=\"https://colab.research.google.com/github/dnmuturi/SIT742/blob/main/SIT742Task2code.ipynb\" target=\"_parent\"><img src=\"https://colab.research.google.com/assets/colab-badge.svg\" alt=\"Open In Colab\"/></a>"
      ]
    },
    {
      "cell_type": "markdown",
      "source": [
        "**END TERM ASSIGNMENT**\n",
        "\n",
        " **GROUP C30 Members**\n",
        "\n",
        "1. David Muturi - S225177509\n",
        "2. Nhlanhla Matukane - S225177376\n",
        "3. Vincent Nwobi - S225177483"
      ],
      "metadata": {
        "id": "SzkIZK2xplg8"
      }
    },
    {
      "cell_type": "markdown",
      "source": [
        "### **Part 1**"
      ],
      "metadata": {
        "id": "cdkp7fJMbMMd"
      }
    },
    {
      "cell_type": "code",
      "metadata": {
        "colab": {
          "base_uri": "https://localhost:8080/"
        },
        "id": "53955062",
        "outputId": "8afe680a-7d8d-4730-904a-95bf8c52e9c7"
      },
      "source": [
        "#install the missing libraries library\n",
        "!pip install pyspark\n",
        "!pip install wget"
      ],
      "execution_count": 1,
      "outputs": [
        {
          "output_type": "stream",
          "name": "stdout",
          "text": [
            "Requirement already satisfied: pyspark in /usr/local/lib/python3.12/dist-packages (3.5.1)\n",
            "Requirement already satisfied: py4j==0.10.9.7 in /usr/local/lib/python3.12/dist-packages (from pyspark) (0.10.9.7)\n",
            "Requirement already satisfied: wget in /usr/local/lib/python3.12/dist-packages (3.2)\n"
          ]
        }
      ]
    },
    {
      "cell_type": "code",
      "source": [
        "#load necessary libraries\n",
        "\n",
        "import warnings\n",
        "warnings.filterwarnings(\"ignore\")\n",
        "\n",
        "#load libraries for reading in zipped file from github\n",
        "import requests\n",
        "from io import BytesIO\n",
        "from zipfile import ZipFile\n",
        "\n",
        "import wget\n",
        "import zipfile\n",
        "import os\n",
        "\n",
        "#load needed Spark libraries and functions\n",
        "from pyspark.sql import SparkSession\n",
        "from pyspark.sql.types import DoubleType,IntegerType\n",
        "import pandas as pd\n",
        "from pyspark.sql.functions import col, from_unixtime, to_date, when, lit, trim, count, date_format,avg,struct, asc,udf,expr\n",
        "from pyspark.sql.functions import lower, regexp_replace, split, explode, year, concat_ws, length, collect_list,rank,countDistinct, month, dayofweek\n",
        "from pyspark.sql.window import Window\n",
        "from pyspark.ml.evaluation import RegressionEvaluator\n",
        "from pyspark.ml.recommendation import ALS\n",
        "from pyspark.sql import Row\n",
        "from pyspark.sql.types import IntegerType\n",
        "from pyspark.sql.functions import hash\n",
        "\n",
        "#load needed data manipulation, analysis, visualization and modelling libraries\n",
        "import re\n",
        "from collections import Counter\n",
        "from wordcloud import WordCloud\n",
        "\n",
        "import matplotlib.pyplot as plt\n",
        "import seaborn as sns\n",
        "from statsmodels.tsa.seasonal import seasonal_decompose\n",
        "from statsmodels.tsa.arima.model import ARIMA\n",
        "from sklearn.metrics import mean_absolute_error\n",
        "from itertools import product\n",
        "import numpy as np\n",
        "from sklearn.metrics.pairwise import cosine_similarity\n",
        "from scipy.sparse import csr_matrix\n",
        "from itertools import combinations\n",
        "from collections import defaultdict\n",
        "from datetime import timedelta\n",
        "from math import isnan\n"
      ],
      "metadata": {
        "id": "C4Ktnb9OqiWo"
      },
      "execution_count": 2,
      "outputs": []
    },
    {
      "cell_type": "markdown",
      "source": [
        "**The code below loads the data for this assignment from the github repository**"
      ],
      "metadata": {
        "id": "Cs8Z7-thgekM"
      }
    },
    {
      "cell_type": "code",
      "source": [
        "zip_url = 'https://github.com/tulip-lab/sit742/raw/refs/heads/develop/Jupyter/data/business_review_submission.zip'\n",
        "# The desired filename for the downloaded zip file\n",
        "zip_filename = 'business_review_submission.zip'\n",
        "# The directory to extract the contents into\n",
        "extract_directory = '/content/sample_data'\n",
        "\n",
        "\n",
        "# --- Download the zip file ---\n",
        "print(f\"Downloading file from {zip_url}...\")\n",
        "try:\n",
        "    wget.download(zip_url, zip_filename)\n",
        "    print(f\"\\nDownload complete. File saved as '{zip_filename}'.\")\n",
        "except Exception as e:\n",
        "    print(f\"\\nAn error occurred during download: {e}\")\n",
        "    # Exit if download fails\n",
        "    exit()\n",
        "\n",
        "# --- Access the contents ---\n",
        "# Ensure the extraction directory exists\n",
        "os.makedirs(extract_directory, exist_ok=True)\n",
        "\n",
        "try:\n",
        "    # Open the zip file for reading\n",
        "    with zipfile.ZipFile(zip_filename, 'r') as zip_ref:\n",
        "        print(f\"Extracting contents to '{extract_directory}'...\")\n",
        "        # Extract all files from the zip archive\n",
        "        zip_ref.extractall(extract_directory)\n",
        "        print(\"Extraction complete.\")\n",
        "\n",
        "        # Optional: List and read a file from the extracted contents\n",
        "        print(\"\\nContents of extracted files:\")\n",
        "        for file_name in zip_ref.namelist():\n",
        "            print(f\"- {file_name}\")\n",
        "            # Example: Read and print the content of a specific file\n",
        "            if file_name.endswith('.txt'):\n",
        "                with zip_ref.open(file_name) as file_content:\n",
        "                    print(file_content.read().decode('utf-8'))\n",
        "\n",
        "except zipfile.BadZipFile:\n",
        "    print(f\"Error: The downloaded file '{zip_filename}' is not a valid zip file.\")\n",
        "except Exception as e:\n",
        "    print(f\"An error occurred during extraction: {e}\")\n",
        "\n",
        "# Define the path to the CSV file\n",
        "csv_path = '/content/sample_data/review.csv'\n",
        "# Define the path to the second CSV file\n",
        "meta_csv_path = '/content/sample_data/meta-review-business.csv'"
      ],
      "metadata": {
        "colab": {
          "base_uri": "https://localhost:8080/"
        },
        "id": "7VUX1SdRHE0g",
        "outputId": "a200959d-bf00-4f2b-d7be-82d0f0a16be5"
      },
      "execution_count": 3,
      "outputs": [
        {
          "output_type": "stream",
          "name": "stdout",
          "text": [
            "Downloading file from https://github.com/tulip-lab/sit742/raw/refs/heads/develop/Jupyter/data/business_review_submission.zip...\n",
            "\n",
            "Download complete. File saved as 'business_review_submission.zip'.\n",
            "Extracting contents to '/content/sample_data'...\n",
            "Extraction complete.\n",
            "\n",
            "Contents of extracted files:\n",
            "- review.csv\n",
            "- meta-review-business.csv\n"
          ]
        }
      ]
    },
    {
      "cell_type": "markdown",
      "source": [
        "**This code loads the review data into a spark dataframe.**"
      ],
      "metadata": {
        "id": "tcy6_zwWhDWg"
      }
    },
    {
      "cell_type": "code",
      "source": [
        "# Create a SparkSession\n",
        "spark = SparkSession.builder.appName(\"ReadCSVCorrectly\").getOrCreate()\n",
        "# Read the CSV file into a PySpark DataFrame with options to improve parsing\n",
        "try:\n",
        "    df_review= spark.read.csv(\n",
        "        csv_path,\n",
        "        header=True,\n",
        "        inferSchema=True,\n",
        "        sep=',',  # Assuming comma is the delimiter\n",
        "        quote='\"', # Assuming double quotes are used for quoting fields\n",
        "        escape='\"', # Assuming double quotes are escaped by double quotes\n",
        "        multiLine=True # Set to true if text column contains newline characters\n",
        "    )\n",
        "    print(\"CSV file loaded successfully!\")\n",
        "    df_review.show(5, truncate=False) # Display the first five rows without truncating\n",
        "except Exception as e:\n",
        "    print(f\"An error occurred: {e}\")"
      ],
      "metadata": {
        "colab": {
          "base_uri": "https://localhost:8080/"
        },
        "id": "Lx7OlPqe6TN_",
        "outputId": "7dc30197-b3b9-45de-fed0-f9bac7a758cd"
      },
      "execution_count": 4,
      "outputs": [
        {
          "output_type": "stream",
          "name": "stdout",
          "text": [
            "CSV file loaded successfully!\n",
            "+---------------------+-----------------+-------------+------+------------------------------------------------------------------------------------------------------------------------------------------------------------------------------------------------------------------------------------------------------------------------------------------------------------------------------------------------------------------------------------------------------------------------------------------------------------------------------------------------------------------------------------------------------------------------------------------------------------------------------------------------------------------------------------------------------------------------------------------------------------------------+----+----+-------------------------------------+\n",
            "|user_id              |name             |time         |rating|text                                                                                                                                                                                                                                                                                                                                                                                                                                                                                                                                                                                                                                                                                                                                                                    |pics|resp|gmap_id                              |\n",
            "+---------------------+-----------------+-------------+------+------------------------------------------------------------------------------------------------------------------------------------------------------------------------------------------------------------------------------------------------------------------------------------------------------------------------------------------------------------------------------------------------------------------------------------------------------------------------------------------------------------------------------------------------------------------------------------------------------------------------------------------------------------------------------------------------------------------------------------------------------------------------+----+----+-------------------------------------+\n",
            "|1.091298048426862E20 |Nicki Gore       |1566331951619|5     |We always stay here when in Valdez for silver salmon fishing. The elderly couple that run it are amazing to talk to, extremely helpful. The campsites are very well maintained.                                                                                                                                                                                                                                                                                                                                                                                                                                                                                                                                                                                         |NULL|NULL|0x56b646ed2220b77f:0xd8975e316de80952|\n",
            "|1.1324092640575896E20|Allen Ratliff    |1504917982385|5     |Great campground for the price. Nice hot unlimited showers, laundy, and  spacious wooded lots. Full hook ups. Late check in available.                                                                                                                                                                                                                                                                                                                                                                                                                                                                                                                                                                                                                                  |NULL|NULL|0x56b646ed2220b77f:0xd8975e316de80952|\n",
            "|1.1304483789114126E20|Jonathan Tringali|1474765901185|4     |We tent camped here for 2 nights while exploring Valdez. The center of the campground was in the open and there are treed sites around the edges. Don't expect lower foliage separating the sites. Still this is much nicer than the other RV parking lots in town which seemed wide open.\\n\\nThere is a bath house with 1 set of coin operated washer/dryer, 2 restrooms (sink toilet) and 2 shower rooms (sink, toilet, shower). The hot water will run out after a few showers. They provide floor mats towels for you to use which is nice, but they lack vent fans to remove moisture so it is prone to mold.\\n\\nWi-Fi didn't reach our site on the back edge of the campground. Overall we were happy with our stay at this campground and would stay there again.|NULL|NULL|0x56b646ed2220b77f:0xd8975e316de80952|\n",
            "|1.1032915514759202E20|S Blad           |1472858535682|4     |This place is just a few miles outside Valdez, which I thought was a bonus.  It was surrounded by woods and had some trees throughout the park for shade.  The bathrooms were clean and the showers were nice.  The dump station was a little underwhelming.  Overall, I'm really glad I stayed here and not one of the gravel lots in valdez.                                                                                                                                                                                                                                                                                                                                                                                                                          |NULL|NULL|0x56b646ed2220b77f:0xd8975e316de80952|\n",
            "|1.08989634908602E20  |Daniel Formoso   |1529649811341|5     |Probably the nicest and cleanest campground we've been to in Alaska.                                                                                                                                                                                                                                                                                                                                                                                                                                                                                                                                                                                                                                                                                                    |NULL|NULL|0x56b646ed2220b77f:0xd8975e316de80952|\n",
            "+---------------------+-----------------+-------------+------+------------------------------------------------------------------------------------------------------------------------------------------------------------------------------------------------------------------------------------------------------------------------------------------------------------------------------------------------------------------------------------------------------------------------------------------------------------------------------------------------------------------------------------------------------------------------------------------------------------------------------------------------------------------------------------------------------------------------------------------------------------------------+----+----+-------------------------------------+\n",
            "only showing top 5 rows\n",
            "\n"
          ]
        }
      ]
    },
    {
      "cell_type": "code",
      "source": [
        "# show data tpes\n",
        "df_review.printSchema()"
      ],
      "metadata": {
        "colab": {
          "base_uri": "https://localhost:8080/"
        },
        "id": "WiMlxprAEUhs",
        "outputId": "b9843d1b-6449-448d-9718-d081c5af7766"
      },
      "execution_count": 5,
      "outputs": [
        {
          "output_type": "stream",
          "name": "stdout",
          "text": [
            "root\n",
            " |-- user_id: double (nullable = true)\n",
            " |-- name: string (nullable = true)\n",
            " |-- time: long (nullable = true)\n",
            " |-- rating: integer (nullable = true)\n",
            " |-- text: string (nullable = true)\n",
            " |-- pics: string (nullable = true)\n",
            " |-- resp: string (nullable = true)\n",
            " |-- gmap_id: string (nullable = true)\n",
            "\n"
          ]
        }
      ]
    },
    {
      "cell_type": "markdown",
      "source": [
        "**Observations**\n",
        "\n",
        "i)  The review data has 8 variables (3 are numeric while 5 are string objects)"
      ],
      "metadata": {
        "id": "sQJPhbYhovsS"
      }
    },
    {
      "cell_type": "code",
      "source": [
        "#check total no of records in the dataset\n",
        "df_review.count()"
      ],
      "metadata": {
        "colab": {
          "base_uri": "https://localhost:8080/"
        },
        "id": "fEn2lEstsVji",
        "outputId": "9f754b01-3c2e-4cd8-ab82-6a8591cfbd37"
      },
      "execution_count": 6,
      "outputs": [
        {
          "output_type": "execute_result",
          "data": {
            "text/plain": [
              "521515"
            ]
          },
          "metadata": {},
          "execution_count": 6
        }
      ]
    },
    {
      "cell_type": "code",
      "source": [
        "#show summary statistics\n",
        "df_review.describe().show()"
      ],
      "metadata": {
        "colab": {
          "base_uri": "https://localhost:8080/"
        },
        "id": "X0bNcdeKJ3Ot",
        "outputId": "2fcb4990-5860-4dea-e6f7-04238fc23fe6"
      },
      "execution_count": 7,
      "outputs": [
        {
          "output_type": "stream",
          "name": "stdout",
          "text": [
            "+-------+--------------------+------------+--------------------+------------------+--------------------+--------------------+--------------------+--------------------+\n",
            "|summary|             user_id|        name|                time|            rating|                text|                pics|                resp|             gmap_id|\n",
            "+-------+--------------------+------------+--------------------+------------------+--------------------+--------------------+--------------------+--------------------+\n",
            "|  count|              521515|      521515|              521515|            521515|              298257|               20851|               44232|              521515|\n",
            "|   mean|1.091263946357014...|1.59456176E8|1.550301924036441E12| 4.283750227701984|                NULL|                NULL|                NULL|                NULL|\n",
            "| stddev|5.306023249666912...|         0.0|  3.8404430568757E10|1.0356221247508024|                NULL|                NULL|                NULL|                NULL|\n",
            "|    min|1.000026695878496...|           #|       1192279277223|                 1|! Fantastic custo...|[{'url': ['https:...|{'time': 13583586...|0x4391e31e06c0fba...|\n",
            "|    max|1.184461969624494...|      홍진유|       1631131711388|                 5|              🦋🍃🦅|[{'url': ['https:...|{'time': 16309533...|0x89c2804a7a0f7fd...|\n",
            "+-------+--------------------+------------+--------------------+------------------+--------------------+--------------------+--------------------+--------------------+\n",
            "\n"
          ]
        }
      ]
    },
    {
      "cell_type": "markdown",
      "source": [
        "**Observations**\n",
        "\n",
        "i) There are 521,515 total reviews in the dataset.\n",
        "\n",
        "ii)  user_id, gmap_id, name, time and rating have the same total count (521,515) meaning they are not empty.\n",
        "\n",
        "iii) text has 298,257 records meaning there are missing values for this variable.\n",
        "\n",
        "iv) pics and resp variables  also  have missing values.\n",
        "\n",
        "v)  The mean rating is about 4.28"
      ],
      "metadata": {
        "id": "0m-amC-xsgKo"
      }
    },
    {
      "cell_type": "markdown",
      "source": [
        "**The code block below loads the metadata into a spark data frame**"
      ],
      "metadata": {
        "id": "B0uNuJHLhLDI"
      }
    },
    {
      "cell_type": "code",
      "source": [
        "# Read the metadata CSV file into a PySpark DataFrame\n",
        "try:\n",
        "    df_meta = spark.read.csv(\n",
        "        meta_csv_path,\n",
        "        header=True,\n",
        "        inferSchema=True,\n",
        "        sep=',',  # Assuming comma is the delimiter\n",
        "        quote='\"', # Assuming double quotes are used for quoting fields\n",
        "        escape='\"', # Assuming double quotes are escaped by double quotes\n",
        "        multiLine=True # Set to true if text column contains newline characters\n",
        "    )\n",
        "    print(\"Meta CSV file loaded successfully!\")\n",
        "    df_meta.show(5, truncate=False) # Display the first five rows without truncating\n",
        "except Exception as e:\n",
        "    print(f\"An error occurred while loading meta CSV: {e}\")"
      ],
      "metadata": {
        "colab": {
          "base_uri": "https://localhost:8080/"
        },
        "id": "tba1DvxPjtSH",
        "outputId": "74efd50c-5e5f-4a83-e99e-da2793c8764e"
      },
      "execution_count": 8,
      "outputs": [
        {
          "output_type": "stream",
          "name": "stdout",
          "text": [
            "Meta CSV file loaded successfully!\n",
            "+---------------------------+------------------------------------------------------------------+-------------------------------------+-----------+------------------+-------------------+------------------------------------------------+----------+--------------+-----+--------------------------------------------------------------------------------------------------------------------------------------------------------------------------------+------------------------------------------------------------------------------------------------------------------------------------------------------------------------------------------+-----------------------+-------------------------------------------------------------------------------------------------------------------------------------------------------------------------------------------------------------+----------------------------------------------------------------------------------------------------------------+\n",
            "|name                       |address                                                           |gmap_id                              |description|latitude          |longitude          |category                                        |avg_rating|num_of_reviews|price|hours                                                                                                                                                                           |MISC                                                                                                                                                                                      |state                  |relative_results                                                                                                                                                                                             |url                                                                                                             |\n",
            "+---------------------------+------------------------------------------------------------------+-------------------------------------+-----------+------------------+-------------------+------------------------------------------------+----------+--------------+-----+--------------------------------------------------------------------------------------------------------------------------------------------------------------------------------+------------------------------------------------------------------------------------------------------------------------------------------------------------------------------------------+-----------------------+-------------------------------------------------------------------------------------------------------------------------------------------------------------------------------------------------------------+----------------------------------------------------------------------------------------------------------------+\n",
            "|Bear Creek Cabins & RV Park|Bear Creek Cabins & RV Park, 3181 Richardson Hwy, Valdez, AK 99686|0x56b646ed2220b77f:0xd8975e316de80952|NULL       |61.1006437        |-146.21455179999998|['RV park', 'Cabin rental agency', 'Campground']|4.5       |18            |NULL |NULL                                                                                                                                                                            |NULL                                                                                                                                                                                      |NULL                   |['0x56b6445fd9f9e387:0x6dd3d374ef56431a', '0x56b646917980df8b:0x5092593808fd5683', '0x56b646902f0e02db:0xe98efd617fbcc18b', '0x56b6468ea1b3a017:0x9e4cf985a172fcac', '0x56b6468d13a3cf57:0xf06b0906affed5b6']|https://www.google.com/maps/place//data=!4m2!3m1!1s0x56b646ed2220b77f:0xd8975e316de80952?authuser=-1&hl=en&gl=us|\n",
            "|Anchorage Market           |Anchorage Market, 88th Ave, Anchorage, AK 99515                   |0x56c8992b5dee7225:0x9f7f4bf151868cf7|NULL       |61.1414349        |-149.8684816       |[\"Farmers' market\"]                             |4.2       |18            |NULL |[['Thursday', 'Closed'], ['Friday', '10AM–5PM'], ['Saturday', '10AM–5PM'], ['Sunday', '10AM–5PM'], ['Monday', 'Closed'], ['Tuesday', 'Closed'], ['Wednesday', 'Closed']]        |{'Service options': ['In-store shopping'], 'Accessibility': ['Wheelchair accessible entrance']}                                                                                           |Closed ⋅ Opens 10AM Fri|NULL                                                                                                                                                                                                         |https://www.google.com/maps/place//data=!4m2!3m1!1s0x56c8992b5dee7225:0x9f7f4bf151868cf7?authuser=-1&hl=en&gl=us|\n",
            "|Happy Camper RV            |Happy Camper RV, 1151 N Shenandoah Dr # 4, Palmer, AK 99645       |0x56c8e0455225be87:0xf24828df75e2f8ae|NULL       |61.591855499999994|-149.2906566       |['RV repair shop']                              |4.4       |28            |NULL |NULL                                                                                                                                                                            |{'Accessibility': ['Wheelchair accessible entrance'], 'Amenities': ['Mechanic'], 'Planning': ['Appointments recommended']}                                                                |NULL                   |['0x56c8e104d9929a1d:0x2070ad63defadbf', '0x56c91f08c8dd5123:0x8896bac511938278', '0x56c8e09cd012ee45:0xf2838f4de29529c3', '0x56c8e0259af71a65:0x75e1d237141b21f0']                                          |https://www.google.com/maps/place//data=!4m2!3m1!1s0x56c8e0455225be87:0xf24828df75e2f8ae?authuser=-1&hl=en&gl=us|\n",
            "|Cajun Corner               |Cajun Corner, 302 G St, Anchorage, AK 99501                       |0x56c8bdb5d91017cd:0xca19fd9afceed343|NULL       |61.219378299999995|-149.8958522       |['American restaurant']                         |4.5       |24            |NULL |[['Wednesday', '11AM–2PM'], ['Thursday', '11AM–2PM'], ['Friday', '11AM–2PM'], ['Saturday', '11AM–2PM'], ['Sunday', 'Closed'], ['Monday', '11AM–2PM'], ['Tuesday', '11AM–2PM']]  |{'Service options': ['Takeout', 'Dine-in', 'Delivery'], 'Popular for': ['Dinner', 'Solo dining'], 'Dining options': ['Dessert'], 'Amenities': ['Good for kids'], 'Atmosphere': ['Casual']}|Closed ⋅ Opens 11AM Thu|NULL                                                                                                                                                                                                         |https://www.google.com/maps/place//data=!4m2!3m1!1s0x56c8bdb5d91017cd:0xca19fd9afceed343?authuser=-1&hl=en&gl=us|\n",
            "|Alaska General Seafoods    |Alaska General Seafoods, 980 Stedman St, Ketchikan, AK 99901      |0x540c251956395673:0x16f5a4fe26c18931|NULL       |55.336118799999994|-131.6306694       |['Seafood wholesaler', 'Food']                  |4.7       |8             |NULL |[['Wednesday', '7AM–11PM'], ['Thursday', '7AM–11PM'], ['Friday', '7AM–11PM'], ['Saturday', '7AM–11PM'], ['Sunday', '7AM–11PM'], ['Monday', '7AM–11PM'], ['Tuesday', '7AM–11PM']]|NULL                                                                                                                                                                                      |Open ⋅ Closes 11PM     |['0x540c25a882a72685:0xac5663d19d0a1893', '0x540c25a8a1f96287:0x6041195e00ca105f', '0x540c251b5c78f2b3:0xf9b013e498c3b978', '0x540c25a6001ef629:0xbe2cdfb65aac4023']                                         |https://www.google.com/maps/place//data=!4m2!3m1!1s0x540c251956395673:0x16f5a4fe26c18931?authuser=-1&hl=en&gl=us|\n",
            "+---------------------------+------------------------------------------------------------------+-------------------------------------+-----------+------------------+-------------------+------------------------------------------------+----------+--------------+-----+--------------------------------------------------------------------------------------------------------------------------------------------------------------------------------+------------------------------------------------------------------------------------------------------------------------------------------------------------------------------------------+-----------------------+-------------------------------------------------------------------------------------------------------------------------------------------------------------------------------------------------------------+----------------------------------------------------------------------------------------------------------------+\n",
            "only showing top 5 rows\n",
            "\n"
          ]
        }
      ]
    },
    {
      "cell_type": "code",
      "source": [
        "# show meta data data types\n",
        "df_meta.printSchema()"
      ],
      "metadata": {
        "colab": {
          "base_uri": "https://localhost:8080/"
        },
        "id": "CHp4cHfDrMqs",
        "outputId": "0d0ea4ff-43ab-4b1b-bd17-9ca0c3a68f78"
      },
      "execution_count": 9,
      "outputs": [
        {
          "output_type": "stream",
          "name": "stdout",
          "text": [
            "root\n",
            " |-- name: string (nullable = true)\n",
            " |-- address: string (nullable = true)\n",
            " |-- gmap_id: string (nullable = true)\n",
            " |-- description: string (nullable = true)\n",
            " |-- latitude: double (nullable = true)\n",
            " |-- longitude: double (nullable = true)\n",
            " |-- category: string (nullable = true)\n",
            " |-- avg_rating: double (nullable = true)\n",
            " |-- num_of_reviews: integer (nullable = true)\n",
            " |-- price: string (nullable = true)\n",
            " |-- hours: string (nullable = true)\n",
            " |-- MISC: string (nullable = true)\n",
            " |-- state: string (nullable = true)\n",
            " |-- relative_results: string (nullable = true)\n",
            " |-- url: string (nullable = true)\n",
            "\n"
          ]
        }
      ]
    },
    {
      "cell_type": "markdown",
      "source": [
        "**Observations**\n",
        "\n",
        "i) The meta-data dataset has 15 variables. 12 are string objects while three (longitude, latitude and avg_rating are numeric of type double)"
      ],
      "metadata": {
        "id": "gXEgXz3iv4HF"
      }
    },
    {
      "cell_type": "code",
      "source": [
        "#show total records in meta data"
      ],
      "metadata": {
        "id": "IHochUQuu5Bf"
      },
      "execution_count": 10,
      "outputs": []
    },
    {
      "cell_type": "code",
      "source": [
        "df_meta.count()"
      ],
      "metadata": {
        "colab": {
          "base_uri": "https://localhost:8080/"
        },
        "id": "AQdgbNCWu-LU",
        "outputId": "b7c7ed5d-d254-4392-bdec-658b171f91e0"
      },
      "execution_count": 11,
      "outputs": [
        {
          "output_type": "execute_result",
          "data": {
            "text/plain": [
              "12774"
            ]
          },
          "metadata": {},
          "execution_count": 11
        }
      ]
    },
    {
      "cell_type": "code",
      "source": [
        "#show meta data summary statistics\n",
        "df_meta.describe().show()"
      ],
      "metadata": {
        "colab": {
          "base_uri": "https://localhost:8080/"
        },
        "id": "i3GIxfV1rV0A",
        "outputId": "71276670-f579-4198-c118-9ed60dd6b834"
      },
      "execution_count": 12,
      "outputs": [
        {
          "output_type": "stream",
          "name": "stdout",
          "text": [
            "+-------+--------------------+--------------------+--------------------+--------------------+------------------+-------------------+--------------------+------------------+------------------+-----+--------------------+--------------------+------------------+--------------------+--------------------+\n",
            "|summary|                name|             address|             gmap_id|         description|          latitude|          longitude|            category|        avg_rating|    num_of_reviews|price|               hours|                MISC|             state|    relative_results|                 url|\n",
            "+-------+--------------------+--------------------+--------------------+--------------------+------------------+-------------------+--------------------+------------------+------------------+-----+--------------------+--------------------+------------------+--------------------+--------------------+\n",
            "|  count|               12774|               12606|               12774|                1516|             12774|              12774|               12712|             12774|             12774| 1585|                8684|                9387|              8062|               10966|               12774|\n",
            "|   mean|                NULL|                NULL|                NULL|                NULL| 61.18295624810573|-147.36179500679455|                NULL| 4.359026146860845|  82.2957570064193| NULL|                NULL|                NULL|              NULL|                NULL|                NULL|\n",
            "| stddev|                NULL|                NULL|                NULL|                NULL|2.5294815467075082| 14.474633680627432|                NULL|0.6014150102089059|216.04284558249157| NULL|                NULL|                NULL|              NULL|                NULL|                NULL|\n",
            "|    min|\"FORMERLY\" WIGGY'...|\"FORMERLY\" WIGGY'...|0x416236174b04757...|1,424.5 hectare l...|28.647889799999998|-178.80707619999998|[\"Bahá'í house of...|               1.0|                 1|    $|[['Friday', '10:1...|{'Accessibility':...|            Closed|['0x416236174b047...|https://www.googl...|\n",
            "|    max|🚚Eagle Towing An...|🚚Eagle Towing An...|0x89c2804a7a0f7fd...|Zoo exhibiting a ...|           71.3875|              180.0|             ['Zoo']|               5.0|              6591|   ₩₩|[['Wednesday', 'O...|{'Service options...|Temporarily closed|['0x89e4174506b94...|https://www.googl...|\n",
            "+-------+--------------------+--------------------+--------------------+--------------------+------------------+-------------------+--------------------+------------------+------------------+-----+--------------------+--------------------+------------------+--------------------+--------------------+\n",
            "\n"
          ]
        }
      ]
    },
    {
      "cell_type": "markdown",
      "source": [
        "**Observations**\n",
        "\n",
        "i) The metadata dataset has 12,774 records.\n",
        "\n",
        "ii) name,gmap_id,latitude,longitude, avg_rating, num_reviews are not missing any values while all other variables have missing values.\n",
        "\n",
        "ii) The mean average rating is about 4.359"
      ],
      "metadata": {
        "id": "zO7l0aPChoUC"
      }
    },
    {
      "cell_type": "markdown",
      "source": [
        "**Answer 1.1**"
      ],
      "metadata": {
        "id": "G0MnsqpJbQ5r"
      }
    },
    {
      "cell_type": "markdown",
      "source": [
        "**Answer 1.1.1**"
      ],
      "metadata": {
        "id": "oRj2lOE-raGs"
      }
    },
    {
      "cell_type": "code",
      "source": [
        "#function to count rows that are none or null\n",
        "def count_empty_rows(df):\n",
        "  # Filter rows where 'text' column is null or an empty string\n",
        "  null_or_empty_text_count = df.filter(\n",
        "    col(\"text\").isNull() | (trim(col(\"text\")) == \"\")\n",
        "  ).count()\n",
        "  return null_or_empty_text_count"
      ],
      "metadata": {
        "id": "4nA-TOEw_6yz"
      },
      "execution_count": 13,
      "outputs": []
    },
    {
      "cell_type": "code",
      "source": [
        "#show count of empty rows in text field before filling in with no review\n",
        "print(f\"The number of empty rows in the text column before replacing with 'no review' is: {count_empty_rows(df_review)}\")"
      ],
      "metadata": {
        "colab": {
          "base_uri": "https://localhost:8080/"
        },
        "id": "jwc7vMd8CERM",
        "outputId": "40ca3b49-d1e5-4a59-f2b0-8a00f8fa27d9"
      },
      "execution_count": 14,
      "outputs": [
        {
          "output_type": "stream",
          "name": "stdout",
          "text": [
            "The number of empty rows in the text column before replacing with 'no review' is: 223258\n"
          ]
        }
      ]
    },
    {
      "cell_type": "code",
      "source": [
        "# Replace null values with \"No review\"\n",
        "df_review = df_review.fillna({'text': 'no review'})\n",
        "\n",
        "# Replace empty strings (after trimming whitespace) with \"No review\"\n",
        "df_review = df_review.withColumn(\"text\",\n",
        "    when(trim(col(\"text\")) == \"\", lit(\"no review\")).otherwise(col(\"text\"))\n",
        ")\n",
        "\n",
        "# Show the count of text column which is empty or null to verify the changes\n",
        "print(f\"The number of empty rows in the text column after replacing with no review is: {count_empty_rows(df_review)}\")\n",
        "\n",
        "# Count rows where the 'text' column is 'no review'\n",
        "no_review_count = df_review.filter(col(\"text\") == \"no review\").count()\n",
        "\n",
        "print(f\"The number of reviews with 'no review' in the text column is: {no_review_count}\")\n"
      ],
      "metadata": {
        "colab": {
          "base_uri": "https://localhost:8080/"
        },
        "id": "xcXbFlC-Arya",
        "outputId": "7f41efe2-7607-48b8-fb15-57a1585cf916"
      },
      "execution_count": 15,
      "outputs": [
        {
          "output_type": "stream",
          "name": "stdout",
          "text": [
            "The number of empty rows in the text column after replacing with no review is: 0\n",
            "The number of reviews with 'no review' in the text column is: 223258\n"
          ]
        }
      ]
    },
    {
      "cell_type": "markdown",
      "source": [
        "**Observations**\n",
        "\n",
        "i) All the missing values in the text variable are about 223,258 about 42.8% of total records.\n",
        "\n",
        "ii) All these values were replaced with 'no review' as confirmed in the code above.\n",
        "\n",
        "iii) Although the code can be optimized for compactness by using fewer lines, the step by step approach used above ensures easy readability and understandability"
      ],
      "metadata": {
        "id": "r2pCs30wxtMa"
      }
    },
    {
      "cell_type": "markdown",
      "source": [
        "**Answer 1.1.2**"
      ],
      "metadata": {
        "id": "PGG6r7-otTdg"
      }
    },
    {
      "cell_type": "code",
      "source": [
        "# Set the legacy time parser policy to corrected to handle potential parsing issues\n",
        "spark.conf.set(\"spark.sql.legacy.timeParserPolicy\", \"CORRECTED\")\n",
        "\n",
        "# Convert 'time' from epoch milliseconds to a timestamp, then to a date string\n",
        "df_review = df_review.withColumn(\n",
        "    \"newtime\",\n",
        "    to_date(from_unixtime(col(\"time\") / 1000).cast(\"timestamp\"), \"yyyy-MM-dd\")\n",
        ")\n",
        "\n",
        "# Display the first few rows with the new column\n",
        "df_review.select(\"user_id\",\"name\",\"rating\",\"time\", \"newtime\",\"text\",\"gmap_id\").show(5)"
      ],
      "metadata": {
        "id": "e702ILlLH2oF",
        "colab": {
          "base_uri": "https://localhost:8080/"
        },
        "outputId": "6727b2bc-cfd0-4ab6-8508-2f595505cb09"
      },
      "execution_count": 16,
      "outputs": [
        {
          "output_type": "stream",
          "name": "stdout",
          "text": [
            "+--------------------+-----------------+------+-------------+----------+--------------------+--------------------+\n",
            "|             user_id|             name|rating|         time|   newtime|                text|             gmap_id|\n",
            "+--------------------+-----------------+------+-------------+----------+--------------------+--------------------+\n",
            "|1.091298048426862E20|       Nicki Gore|     5|1566331951619|2019-08-20|We always stay he...|0x56b646ed2220b77...|\n",
            "|1.132409264057589...|    Allen Ratliff|     5|1504917982385|2017-09-09|Great campground ...|0x56b646ed2220b77...|\n",
            "|1.130448378911412...|Jonathan Tringali|     4|1474765901185|2016-09-25|We tent camped he...|0x56b646ed2220b77...|\n",
            "|1.103291551475920...|           S Blad|     4|1472858535682|2016-09-02|This place is jus...|0x56b646ed2220b77...|\n",
            "| 1.08989634908602E20|   Daniel Formoso|     5|1529649811341|2018-06-22|Probably the nice...|0x56b646ed2220b77...|\n",
            "+--------------------+-----------------+------+-------------+----------+--------------------+--------------------+\n",
            "only showing top 5 rows\n",
            "\n"
          ]
        }
      ]
    },
    {
      "cell_type": "markdown",
      "source": [
        "**Comments**"
      ],
      "metadata": {
        "id": "2nglZT7LzNS2"
      }
    },
    {
      "cell_type": "markdown",
      "source": [
        "i) The above code converts the new time column which we established above was of type long into epoch milliseconds to epoch seconds since the function \"from_unixtime\" expects seconds and then extracts the date part without the time portion.\n",
        "\n",
        "ii) While the cast part is not necessary it ensures that spark treats the data in the column as an actual timestamp."
      ],
      "metadata": {
        "id": "VGRGbuMszQNF"
      }
    },
    {
      "cell_type": "markdown",
      "source": [
        "**Answer 1.2**"
      ],
      "metadata": {
        "id": "s9SOA54GxrVX"
      }
    },
    {
      "cell_type": "markdown",
      "source": [
        "**Answer 1.2.1**"
      ],
      "metadata": {
        "id": "73LlzorL555T"
      }
    },
    {
      "cell_type": "code",
      "source": [
        "\n",
        "\n",
        "# Calculate the number of reviews per unique gmap_id\n",
        "reviews_per_gmap = df_review.groupBy(\"gmap_id\").agg(count(\"*\").alias(\"review_count\"))\n",
        "\n",
        "# show total no of unique businesses by gmap id\n",
        "print(f\"Total unique gmap_ids: {reviews_per_gmap.count()}\")\n",
        "\n",
        "# Cast the review_count to float type\n",
        "reviews_per_gmap = reviews_per_gmap.withColumn(\"review_count\", col(\"review_count\").cast(DoubleType()))\n",
        "\n",
        "# Show the top 5 results\n",
        "print(\"Number of reviews per unique gmap_id (Top 5):\")\n",
        "reviews_per_gmap.orderBy(col(\"review_count\").desc()).show(5)"
      ],
      "metadata": {
        "id": "aPzG0khxewGJ",
        "colab": {
          "base_uri": "https://localhost:8080/"
        },
        "outputId": "34d6ec21-710b-412b-dfa9-1aa7b49cb6e7"
      },
      "execution_count": 17,
      "outputs": [
        {
          "output_type": "stream",
          "name": "stdout",
          "text": [
            "Total unique gmap_ids: 6019\n",
            "Number of reviews per unique gmap_id (Top 5):\n",
            "+--------------------+------------+\n",
            "|             gmap_id|review_count|\n",
            "+--------------------+------------+\n",
            "|0x56c897b9ce6000d...|      2833.0|\n",
            "|0x56c899d05892048...|      2594.0|\n",
            "|0x56c897c63697ee3...|      2258.0|\n",
            "|0x56c8965ee2fb87a...|      2237.0|\n",
            "|0x56c89629bde7481...|      2219.0|\n",
            "+--------------------+------------+\n",
            "only showing top 5 rows\n",
            "\n"
          ]
        }
      ]
    },
    {
      "cell_type": "markdown",
      "source": [
        "**Comments**\n",
        "\n",
        "I) There are 6019 total unique businesses by (gmap_id).\n",
        "\n",
        "II)  The business with the highest reviews has 2833 reviews"
      ],
      "metadata": {
        "id": "eK3QC5GP5GFA"
      }
    },
    {
      "cell_type": "markdown",
      "source": [
        "**Answer 1.2.2**"
      ],
      "metadata": {
        "id": "smGy0nJf6Akh"
      }
    },
    {
      "cell_type": "code",
      "source": [
        "# Convert PySpark DataFrame to pandas DataFrame\n",
        "df = df_review.toPandas()\n",
        "\n",
        "# Create 'review_time' column at the hour level\n",
        "df['review_time'] = pd.to_datetime(df['time'], unit='ms').dt.hour\n",
        "\n",
        "# Display the first 5 rows of the pandas DataFrame\n",
        "print(\"Pandas DataFrame with 'review_time' column (Top 5):\")\n",
        "display(df.head())"
      ],
      "metadata": {
        "colab": {
          "base_uri": "https://localhost:8080/",
          "height": 224
        },
        "id": "GKKiQDDB4JRt",
        "outputId": "b4daad90-927b-41cc-ed9a-90a0b6639604"
      },
      "execution_count": 18,
      "outputs": [
        {
          "output_type": "stream",
          "name": "stdout",
          "text": [
            "Pandas DataFrame with 'review_time' column (Top 5):\n"
          ]
        },
        {
          "output_type": "display_data",
          "data": {
            "text/plain": [
              "        user_id               name           time  rating  \\\n",
              "0  1.091298e+20         Nicki Gore  1566331951619       5   \n",
              "1  1.132409e+20      Allen Ratliff  1504917982385       5   \n",
              "2  1.130448e+20  Jonathan Tringali  1474765901185       4   \n",
              "3  1.103292e+20             S Blad  1472858535682       4   \n",
              "4  1.089896e+20     Daniel Formoso  1529649811341       5   \n",
              "\n",
              "                                                text  pics  resp  \\\n",
              "0  We always stay here when in Valdez for silver ...  None  None   \n",
              "1  Great campground for the price. Nice hot unlim...  None  None   \n",
              "2  We tent camped here for 2 nights while explori...  None  None   \n",
              "3  This place is just a few miles outside Valdez,...  None  None   \n",
              "4  Probably the nicest and cleanest campground we...  None  None   \n",
              "\n",
              "                                 gmap_id     newtime  review_time  \n",
              "0  0x56b646ed2220b77f:0xd8975e316de80952  2019-08-20           20  \n",
              "1  0x56b646ed2220b77f:0xd8975e316de80952  2017-09-09            0  \n",
              "2  0x56b646ed2220b77f:0xd8975e316de80952  2016-09-25            1  \n",
              "3  0x56b646ed2220b77f:0xd8975e316de80952  2016-09-02           23  \n",
              "4  0x56b646ed2220b77f:0xd8975e316de80952  2018-06-22            6  "
            ],
            "text/html": [
              "\n",
              "  <div id=\"df-714f66a6-5e14-4723-9b43-5f2c1ba6cabd\" class=\"colab-df-container\">\n",
              "    <div>\n",
              "<style scoped>\n",
              "    .dataframe tbody tr th:only-of-type {\n",
              "        vertical-align: middle;\n",
              "    }\n",
              "\n",
              "    .dataframe tbody tr th {\n",
              "        vertical-align: top;\n",
              "    }\n",
              "\n",
              "    .dataframe thead th {\n",
              "        text-align: right;\n",
              "    }\n",
              "</style>\n",
              "<table border=\"1\" class=\"dataframe\">\n",
              "  <thead>\n",
              "    <tr style=\"text-align: right;\">\n",
              "      <th></th>\n",
              "      <th>user_id</th>\n",
              "      <th>name</th>\n",
              "      <th>time</th>\n",
              "      <th>rating</th>\n",
              "      <th>text</th>\n",
              "      <th>pics</th>\n",
              "      <th>resp</th>\n",
              "      <th>gmap_id</th>\n",
              "      <th>newtime</th>\n",
              "      <th>review_time</th>\n",
              "    </tr>\n",
              "  </thead>\n",
              "  <tbody>\n",
              "    <tr>\n",
              "      <th>0</th>\n",
              "      <td>1.091298e+20</td>\n",
              "      <td>Nicki Gore</td>\n",
              "      <td>1566331951619</td>\n",
              "      <td>5</td>\n",
              "      <td>We always stay here when in Valdez for silver ...</td>\n",
              "      <td>None</td>\n",
              "      <td>None</td>\n",
              "      <td>0x56b646ed2220b77f:0xd8975e316de80952</td>\n",
              "      <td>2019-08-20</td>\n",
              "      <td>20</td>\n",
              "    </tr>\n",
              "    <tr>\n",
              "      <th>1</th>\n",
              "      <td>1.132409e+20</td>\n",
              "      <td>Allen Ratliff</td>\n",
              "      <td>1504917982385</td>\n",
              "      <td>5</td>\n",
              "      <td>Great campground for the price. Nice hot unlim...</td>\n",
              "      <td>None</td>\n",
              "      <td>None</td>\n",
              "      <td>0x56b646ed2220b77f:0xd8975e316de80952</td>\n",
              "      <td>2017-09-09</td>\n",
              "      <td>0</td>\n",
              "    </tr>\n",
              "    <tr>\n",
              "      <th>2</th>\n",
              "      <td>1.130448e+20</td>\n",
              "      <td>Jonathan Tringali</td>\n",
              "      <td>1474765901185</td>\n",
              "      <td>4</td>\n",
              "      <td>We tent camped here for 2 nights while explori...</td>\n",
              "      <td>None</td>\n",
              "      <td>None</td>\n",
              "      <td>0x56b646ed2220b77f:0xd8975e316de80952</td>\n",
              "      <td>2016-09-25</td>\n",
              "      <td>1</td>\n",
              "    </tr>\n",
              "    <tr>\n",
              "      <th>3</th>\n",
              "      <td>1.103292e+20</td>\n",
              "      <td>S Blad</td>\n",
              "      <td>1472858535682</td>\n",
              "      <td>4</td>\n",
              "      <td>This place is just a few miles outside Valdez,...</td>\n",
              "      <td>None</td>\n",
              "      <td>None</td>\n",
              "      <td>0x56b646ed2220b77f:0xd8975e316de80952</td>\n",
              "      <td>2016-09-02</td>\n",
              "      <td>23</td>\n",
              "    </tr>\n",
              "    <tr>\n",
              "      <th>4</th>\n",
              "      <td>1.089896e+20</td>\n",
              "      <td>Daniel Formoso</td>\n",
              "      <td>1529649811341</td>\n",
              "      <td>5</td>\n",
              "      <td>Probably the nicest and cleanest campground we...</td>\n",
              "      <td>None</td>\n",
              "      <td>None</td>\n",
              "      <td>0x56b646ed2220b77f:0xd8975e316de80952</td>\n",
              "      <td>2018-06-22</td>\n",
              "      <td>6</td>\n",
              "    </tr>\n",
              "  </tbody>\n",
              "</table>\n",
              "</div>\n",
              "    <div class=\"colab-df-buttons\">\n",
              "\n",
              "  <div class=\"colab-df-container\">\n",
              "    <button class=\"colab-df-convert\" onclick=\"convertToInteractive('df-714f66a6-5e14-4723-9b43-5f2c1ba6cabd')\"\n",
              "            title=\"Convert this dataframe to an interactive table.\"\n",
              "            style=\"display:none;\">\n",
              "\n",
              "  <svg xmlns=\"http://www.w3.org/2000/svg\" height=\"24px\" viewBox=\"0 -960 960 960\">\n",
              "    <path d=\"M120-120v-720h720v720H120Zm60-500h600v-160H180v160Zm220 220h160v-160H400v160Zm0 220h160v-160H400v160ZM180-400h160v-160H180v160Zm440 0h160v-160H620v160ZM180-180h160v-160H180v160Zm440 0h160v-160H620v160Z\"/>\n",
              "  </svg>\n",
              "    </button>\n",
              "\n",
              "  <style>\n",
              "    .colab-df-container {\n",
              "      display:flex;\n",
              "      gap: 12px;\n",
              "    }\n",
              "\n",
              "    .colab-df-convert {\n",
              "      background-color: #E8F0FE;\n",
              "      border: none;\n",
              "      border-radius: 50%;\n",
              "      cursor: pointer;\n",
              "      display: none;\n",
              "      fill: #1967D2;\n",
              "      height: 32px;\n",
              "      padding: 0 0 0 0;\n",
              "      width: 32px;\n",
              "    }\n",
              "\n",
              "    .colab-df-convert:hover {\n",
              "      background-color: #E2EBFA;\n",
              "      box-shadow: 0px 1px 2px rgba(60, 64, 67, 0.3), 0px 1px 3px 1px rgba(60, 64, 67, 0.15);\n",
              "      fill: #174EA6;\n",
              "    }\n",
              "\n",
              "    .colab-df-buttons div {\n",
              "      margin-bottom: 4px;\n",
              "    }\n",
              "\n",
              "    [theme=dark] .colab-df-convert {\n",
              "      background-color: #3B4455;\n",
              "      fill: #D2E3FC;\n",
              "    }\n",
              "\n",
              "    [theme=dark] .colab-df-convert:hover {\n",
              "      background-color: #434B5C;\n",
              "      box-shadow: 0px 1px 3px 1px rgba(0, 0, 0, 0.15);\n",
              "      filter: drop-shadow(0px 1px 2px rgba(0, 0, 0, 0.3));\n",
              "      fill: #FFFFFF;\n",
              "    }\n",
              "  </style>\n",
              "\n",
              "    <script>\n",
              "      const buttonEl =\n",
              "        document.querySelector('#df-714f66a6-5e14-4723-9b43-5f2c1ba6cabd button.colab-df-convert');\n",
              "      buttonEl.style.display =\n",
              "        google.colab.kernel.accessAllowed ? 'block' : 'none';\n",
              "\n",
              "      async function convertToInteractive(key) {\n",
              "        const element = document.querySelector('#df-714f66a6-5e14-4723-9b43-5f2c1ba6cabd');\n",
              "        const dataTable =\n",
              "          await google.colab.kernel.invokeFunction('convertToInteractive',\n",
              "                                                    [key], {});\n",
              "        if (!dataTable) return;\n",
              "\n",
              "        const docLinkHtml = 'Like what you see? Visit the ' +\n",
              "          '<a target=\"_blank\" href=https://colab.research.google.com/notebooks/data_table.ipynb>data table notebook</a>'\n",
              "          + ' to learn more about interactive tables.';\n",
              "        element.innerHTML = '';\n",
              "        dataTable['output_type'] = 'display_data';\n",
              "        await google.colab.output.renderOutput(dataTable, element);\n",
              "        const docLink = document.createElement('div');\n",
              "        docLink.innerHTML = docLinkHtml;\n",
              "        element.appendChild(docLink);\n",
              "      }\n",
              "    </script>\n",
              "  </div>\n",
              "\n",
              "\n",
              "    <div id=\"df-7db1b4c1-b0f2-43a6-9fcf-3451ac3feaad\">\n",
              "      <button class=\"colab-df-quickchart\" onclick=\"quickchart('df-7db1b4c1-b0f2-43a6-9fcf-3451ac3feaad')\"\n",
              "                title=\"Suggest charts\"\n",
              "                style=\"display:none;\">\n",
              "\n",
              "<svg xmlns=\"http://www.w3.org/2000/svg\" height=\"24px\"viewBox=\"0 0 24 24\"\n",
              "     width=\"24px\">\n",
              "    <g>\n",
              "        <path d=\"M19 3H5c-1.1 0-2 .9-2 2v14c0 1.1.9 2 2 2h14c1.1 0 2-.9 2-2V5c0-1.1-.9-2-2-2zM9 17H7v-7h2v7zm4 0h-2V7h2v10zm4 0h-2v-4h2v4z\"/>\n",
              "    </g>\n",
              "</svg>\n",
              "      </button>\n",
              "\n",
              "<style>\n",
              "  .colab-df-quickchart {\n",
              "      --bg-color: #E8F0FE;\n",
              "      --fill-color: #1967D2;\n",
              "      --hover-bg-color: #E2EBFA;\n",
              "      --hover-fill-color: #174EA6;\n",
              "      --disabled-fill-color: #AAA;\n",
              "      --disabled-bg-color: #DDD;\n",
              "  }\n",
              "\n",
              "  [theme=dark] .colab-df-quickchart {\n",
              "      --bg-color: #3B4455;\n",
              "      --fill-color: #D2E3FC;\n",
              "      --hover-bg-color: #434B5C;\n",
              "      --hover-fill-color: #FFFFFF;\n",
              "      --disabled-bg-color: #3B4455;\n",
              "      --disabled-fill-color: #666;\n",
              "  }\n",
              "\n",
              "  .colab-df-quickchart {\n",
              "    background-color: var(--bg-color);\n",
              "    border: none;\n",
              "    border-radius: 50%;\n",
              "    cursor: pointer;\n",
              "    display: none;\n",
              "    fill: var(--fill-color);\n",
              "    height: 32px;\n",
              "    padding: 0;\n",
              "    width: 32px;\n",
              "  }\n",
              "\n",
              "  .colab-df-quickchart:hover {\n",
              "    background-color: var(--hover-bg-color);\n",
              "    box-shadow: 0 1px 2px rgba(60, 64, 67, 0.3), 0 1px 3px 1px rgba(60, 64, 67, 0.15);\n",
              "    fill: var(--button-hover-fill-color);\n",
              "  }\n",
              "\n",
              "  .colab-df-quickchart-complete:disabled,\n",
              "  .colab-df-quickchart-complete:disabled:hover {\n",
              "    background-color: var(--disabled-bg-color);\n",
              "    fill: var(--disabled-fill-color);\n",
              "    box-shadow: none;\n",
              "  }\n",
              "\n",
              "  .colab-df-spinner {\n",
              "    border: 2px solid var(--fill-color);\n",
              "    border-color: transparent;\n",
              "    border-bottom-color: var(--fill-color);\n",
              "    animation:\n",
              "      spin 1s steps(1) infinite;\n",
              "  }\n",
              "\n",
              "  @keyframes spin {\n",
              "    0% {\n",
              "      border-color: transparent;\n",
              "      border-bottom-color: var(--fill-color);\n",
              "      border-left-color: var(--fill-color);\n",
              "    }\n",
              "    20% {\n",
              "      border-color: transparent;\n",
              "      border-left-color: var(--fill-color);\n",
              "      border-top-color: var(--fill-color);\n",
              "    }\n",
              "    30% {\n",
              "      border-color: transparent;\n",
              "      border-left-color: var(--fill-color);\n",
              "      border-top-color: var(--fill-color);\n",
              "      border-right-color: var(--fill-color);\n",
              "    }\n",
              "    40% {\n",
              "      border-color: transparent;\n",
              "      border-right-color: var(--fill-color);\n",
              "      border-top-color: var(--fill-color);\n",
              "    }\n",
              "    60% {\n",
              "      border-color: transparent;\n",
              "      border-right-color: var(--fill-color);\n",
              "    }\n",
              "    80% {\n",
              "      border-color: transparent;\n",
              "      border-right-color: var(--fill-color);\n",
              "      border-bottom-color: var(--fill-color);\n",
              "    }\n",
              "    90% {\n",
              "      border-color: transparent;\n",
              "      border-bottom-color: var(--fill-color);\n",
              "    }\n",
              "  }\n",
              "</style>\n",
              "\n",
              "      <script>\n",
              "        async function quickchart(key) {\n",
              "          const quickchartButtonEl =\n",
              "            document.querySelector('#' + key + ' button');\n",
              "          quickchartButtonEl.disabled = true;  // To prevent multiple clicks.\n",
              "          quickchartButtonEl.classList.add('colab-df-spinner');\n",
              "          try {\n",
              "            const charts = await google.colab.kernel.invokeFunction(\n",
              "                'suggestCharts', [key], {});\n",
              "          } catch (error) {\n",
              "            console.error('Error during call to suggestCharts:', error);\n",
              "          }\n",
              "          quickchartButtonEl.classList.remove('colab-df-spinner');\n",
              "          quickchartButtonEl.classList.add('colab-df-quickchart-complete');\n",
              "        }\n",
              "        (() => {\n",
              "          let quickchartButtonEl =\n",
              "            document.querySelector('#df-7db1b4c1-b0f2-43a6-9fcf-3451ac3feaad button');\n",
              "          quickchartButtonEl.style.display =\n",
              "            google.colab.kernel.accessAllowed ? 'block' : 'none';\n",
              "        })();\n",
              "      </script>\n",
              "    </div>\n",
              "\n",
              "    </div>\n",
              "  </div>\n"
            ],
            "application/vnd.google.colaboratory.intrinsic+json": {
              "type": "dataframe",
              "repr_error": "Out of range float values are not JSON compliant: nan"
            }
          },
          "metadata": {}
        }
      ]
    },
    {
      "cell_type": "markdown",
      "source": [
        "**Comments**\n",
        "\n",
        "i) The above code extracts the review time on hours level after converting the spark dataframe into a pandas dataframe.\n"
      ],
      "metadata": {
        "id": "RbVzRYhK8iCm"
      }
    },
    {
      "cell_type": "markdown",
      "source": [
        "**Answer 1.2.3**"
      ],
      "metadata": {
        "id": "br0XEAsR6DPr"
      }
    },
    {
      "cell_type": "code",
      "metadata": {
        "colab": {
          "base_uri": "https://localhost:8080/",
          "height": 1000
        },
        "id": "2082982c",
        "outputId": "c0c90e86-7987-4dd9-bed4-6ebbe15cb1d8"
      },
      "source": [
        "# Analyze the distribution of reviews by hour\n",
        "plt.figure(figsize=(10, 6))\n",
        "sns.countplot(data=df, x='review_time', palette='viridis')\n",
        "plt.title('Distribution of Review Times by Hour')\n",
        "plt.xlabel('Hour of the Day')\n",
        "plt.ylabel('Number of Reviews')\n",
        "plt.xticks(range(0, 24))\n",
        "plt.grid(axis='y')\n",
        "plt.show()\n",
        "\n",
        "# Analyze the number of businesses reviewed at different times\n",
        "unique_gmap_ids_per_hour = df.groupby('review_time')['gmap_id'].nunique().reset_index()\n",
        "\n",
        "plt.figure(figsize=(10, 6))\n",
        "sns.barplot(data=unique_gmap_ids_per_hour, x='review_time', y='gmap_id', palette='viridis')\n",
        "plt.title('Number of Unique Businesses Reviewed per Hour')\n",
        "plt.xlabel('Hour of the Day')\n",
        "plt.ylabel('Number of Unique Businesses')\n",
        "plt.xticks(range(0, 24))\n",
        "plt.grid(axis='y')\n",
        "plt.show()"
      ],
      "execution_count": 19,
      "outputs": [
        {
          "output_type": "display_data",
          "data": {
            "text/plain": [
              "<Figure size 1000x600 with 1 Axes>"
            ],
            "image/png": "[encoded data removed]"
          },
          "metadata": {}
        },
        {
          "output_type": "display_data",
          "data": {
            "text/plain": [
              "<Figure size 1000x600 with 1 Axes>"
            ],
            "image/png": "[encoded data removed]"
          },
          "metadata": {}
        }
      ]
    },
    {
      "cell_type": "markdown",
      "metadata": {
        "id": "fe1c49ca"
      },
      "source": [
        "### Insights from Visualizations\n",
        "\n",
        "The visualizations above provide insights into the review patterns based on the time of day:\n",
        "\n",
        "**Distribution of Review Times by Hour:**\n",
        "- The first plot shows the total number of reviews submitted at each hour of the day.\n",
        "- We can observe that there is a peak in reviews during certain hours, indicating when users are most active in leaving feedback. This could be related to business operating hours, user routines, or other factors.\n",
        "\n",
        "**Number of Unique Businesses Reviewed per Hour:**\n",
        "- The second plot shows the number of distinct businesses (identified by `gmap_id`) that received at least one review during each hour.\n",
        "- This helps understand if reviews are spread across many businesses throughout the day or concentrated on a few during specific times.\n",
        "\n",
        "Further analysis could involve looking at the average rating per hour, the types of businesses reviewed at different times, or correlating review times with other features in the dataset."
      ]
    },
    {
      "cell_type": "markdown",
      "source": [
        "**Answer 1.3**"
      ],
      "metadata": {
        "id": "QdkOlMSFENva"
      }
    },
    {
      "cell_type": "markdown",
      "source": [
        "**Answer 1.3.1**"
      ],
      "metadata": {
        "id": "UtIiytTrERdE"
      }
    },
    {
      "cell_type": "code",
      "source": [
        "# rename the name column in the meta_data to avoid duplicate name error with the reviews data set\n",
        "df_meta = df_meta.withColumnRenamed(\"name\", \"business_name\")\n",
        "\n",
        "# Join the two DataFrames on the 'gmap_id' column\n",
        "joined_df = df_review.join(df_meta, on=\"gmap_id\", how=\"inner\")\n",
        "\n",
        "#show total count of records in joined dataset\n",
        "print(f\"The total no. of records in joined dataset is: {joined_df.count()}\")\n",
        "# Show the schema and some rows of the joined DataFrame\n",
        "print(\"Joined DataFrame Schema:\")\n",
        "joined_df.printSchema()\n",
        "\n",
        "print(\"Joined DataFrame (Top 5):\")\n",
        "joined_df.show(5, truncate=False)"
      ],
      "metadata": {
        "colab": {
          "base_uri": "https://localhost:8080/"
        },
        "id": "480yoGtO52Oy",
        "outputId": "52f9839b-8dcb-4ad9-ec1b-9e30749df893"
      },
      "execution_count": 20,
      "outputs": [
        {
          "output_type": "stream",
          "name": "stdout",
          "text": [
            "The total no. of records in joined dataset is: 521997\n",
            "Joined DataFrame Schema:\n",
            "root\n",
            " |-- gmap_id: string (nullable = true)\n",
            " |-- user_id: double (nullable = true)\n",
            " |-- name: string (nullable = true)\n",
            " |-- time: long (nullable = true)\n",
            " |-- rating: integer (nullable = true)\n",
            " |-- text: string (nullable = false)\n",
            " |-- pics: string (nullable = true)\n",
            " |-- resp: string (nullable = true)\n",
            " |-- newtime: date (nullable = true)\n",
            " |-- business_name: string (nullable = true)\n",
            " |-- address: string (nullable = true)\n",
            " |-- description: string (nullable = true)\n",
            " |-- latitude: double (nullable = true)\n",
            " |-- longitude: double (nullable = true)\n",
            " |-- category: string (nullable = true)\n",
            " |-- avg_rating: double (nullable = true)\n",
            " |-- num_of_reviews: integer (nullable = true)\n",
            " |-- price: string (nullable = true)\n",
            " |-- hours: string (nullable = true)\n",
            " |-- MISC: string (nullable = true)\n",
            " |-- state: string (nullable = true)\n",
            " |-- relative_results: string (nullable = true)\n",
            " |-- url: string (nullable = true)\n",
            "\n",
            "Joined DataFrame (Top 5):\n",
            "+-------------------------------------+---------------------+-----------------+-------------+------+------------------------------------------------------------------------------------------------------------------------------------------------------------------------------------------------------------------------------------------------------------------------------------------------------------------------------------------------------------------------------------------------------------------------------------------------------------------------------------------------------------------------------------------------------------------------------------------------------------------------------------------------------------------------------------------------------------------------------------------------------------------------+----+----+----------+---------------------------+------------------------------------------------------------------+-----------+----------+-------------------+------------------------------------------------+----------+--------------+-----+-----+----+-----+-------------------------------------------------------------------------------------------------------------------------------------------------------------------------------------------------------------+----------------------------------------------------------------------------------------------------------------+\n",
            "|gmap_id                              |user_id              |name             |time         |rating|text                                                                                                                                                                                                                                                                                                                                                                                                                                                                                                                                                                                                                                                                                                                                                                    |pics|resp|newtime   |business_name              |address                                                           |description|latitude  |longitude          |category                                        |avg_rating|num_of_reviews|price|hours|MISC|state|relative_results                                                                                                                                                                                             |url                                                                                                             |\n",
            "+-------------------------------------+---------------------+-----------------+-------------+------+------------------------------------------------------------------------------------------------------------------------------------------------------------------------------------------------------------------------------------------------------------------------------------------------------------------------------------------------------------------------------------------------------------------------------------------------------------------------------------------------------------------------------------------------------------------------------------------------------------------------------------------------------------------------------------------------------------------------------------------------------------------------+----+----+----------+---------------------------+------------------------------------------------------------------+-----------+----------+-------------------+------------------------------------------------+----------+--------------+-----+-----+----+-----+-------------------------------------------------------------------------------------------------------------------------------------------------------------------------------------------------------------+----------------------------------------------------------------------------------------------------------------+\n",
            "|0x56b646ed2220b77f:0xd8975e316de80952|1.091298048426862E20 |Nicki Gore       |1566331951619|5     |We always stay here when in Valdez for silver salmon fishing. The elderly couple that run it are amazing to talk to, extremely helpful. The campsites are very well maintained.                                                                                                                                                                                                                                                                                                                                                                                                                                                                                                                                                                                         |NULL|NULL|2019-08-20|Bear Creek Cabins & RV Park|Bear Creek Cabins & RV Park, 3181 Richardson Hwy, Valdez, AK 99686|NULL       |61.1006437|-146.21455179999998|['RV park', 'Cabin rental agency', 'Campground']|4.5       |18            |NULL |NULL |NULL|NULL |['0x56b6445fd9f9e387:0x6dd3d374ef56431a', '0x56b646917980df8b:0x5092593808fd5683', '0x56b646902f0e02db:0xe98efd617fbcc18b', '0x56b6468ea1b3a017:0x9e4cf985a172fcac', '0x56b6468d13a3cf57:0xf06b0906affed5b6']|https://www.google.com/maps/place//data=!4m2!3m1!1s0x56b646ed2220b77f:0xd8975e316de80952?authuser=-1&hl=en&gl=us|\n",
            "|0x56b646ed2220b77f:0xd8975e316de80952|1.091298048426862E20 |Nicki Gore       |1566331951619|5     |We always stay here when in Valdez for silver salmon fishing. The elderly couple that run it are amazing to talk to, extremely helpful. The campsites are very well maintained.                                                                                                                                                                                                                                                                                                                                                                                                                                                                                                                                                                                         |NULL|NULL|2019-08-20|Bear Creek Cabins & RV Park|Bear Creek Cabins & RV Park, 3181 Richardson Hwy, Valdez, AK 99686|NULL       |61.1006437|-146.21455179999998|['RV park', 'Cabin rental agency', 'Campground']|4.5       |18            |NULL |NULL |NULL|NULL |['0x56b6445fd9f9e387:0x6dd3d374ef56431a', '0x56b646917980df8b:0x5092593808fd5683', '0x56b646902f0e02db:0xe98efd617fbcc18b', '0x56b6468ea1b3a017:0x9e4cf985a172fcac', '0x56b6468d13a3cf57:0xf06b0906affed5b6']|https://www.google.com/maps/place//data=!4m2!3m1!1s0x56b646ed2220b77f:0xd8975e316de80952?authuser=-1&hl=en&gl=us|\n",
            "|0x56b646ed2220b77f:0xd8975e316de80952|1.1324092640575896E20|Allen Ratliff    |1504917982385|5     |Great campground for the price. Nice hot unlimited showers, laundy, and  spacious wooded lots. Full hook ups. Late check in available.                                                                                                                                                                                                                                                                                                                                                                                                                                                                                                                                                                                                                                  |NULL|NULL|2017-09-09|Bear Creek Cabins & RV Park|Bear Creek Cabins & RV Park, 3181 Richardson Hwy, Valdez, AK 99686|NULL       |61.1006437|-146.21455179999998|['RV park', 'Cabin rental agency', 'Campground']|4.5       |18            |NULL |NULL |NULL|NULL |['0x56b6445fd9f9e387:0x6dd3d374ef56431a', '0x56b646917980df8b:0x5092593808fd5683', '0x56b646902f0e02db:0xe98efd617fbcc18b', '0x56b6468ea1b3a017:0x9e4cf985a172fcac', '0x56b6468d13a3cf57:0xf06b0906affed5b6']|https://www.google.com/maps/place//data=!4m2!3m1!1s0x56b646ed2220b77f:0xd8975e316de80952?authuser=-1&hl=en&gl=us|\n",
            "|0x56b646ed2220b77f:0xd8975e316de80952|1.1324092640575896E20|Allen Ratliff    |1504917982385|5     |Great campground for the price. Nice hot unlimited showers, laundy, and  spacious wooded lots. Full hook ups. Late check in available.                                                                                                                                                                                                                                                                                                                                                                                                                                                                                                                                                                                                                                  |NULL|NULL|2017-09-09|Bear Creek Cabins & RV Park|Bear Creek Cabins & RV Park, 3181 Richardson Hwy, Valdez, AK 99686|NULL       |61.1006437|-146.21455179999998|['RV park', 'Cabin rental agency', 'Campground']|4.5       |18            |NULL |NULL |NULL|NULL |['0x56b6445fd9f9e387:0x6dd3d374ef56431a', '0x56b646917980df8b:0x5092593808fd5683', '0x56b646902f0e02db:0xe98efd617fbcc18b', '0x56b6468ea1b3a017:0x9e4cf985a172fcac', '0x56b6468d13a3cf57:0xf06b0906affed5b6']|https://www.google.com/maps/place//data=!4m2!3m1!1s0x56b646ed2220b77f:0xd8975e316de80952?authuser=-1&hl=en&gl=us|\n",
            "|0x56b646ed2220b77f:0xd8975e316de80952|1.1304483789114126E20|Jonathan Tringali|1474765901185|4     |We tent camped here for 2 nights while exploring Valdez. The center of the campground was in the open and there are treed sites around the edges. Don't expect lower foliage separating the sites. Still this is much nicer than the other RV parking lots in town which seemed wide open.\\n\\nThere is a bath house with 1 set of coin operated washer/dryer, 2 restrooms (sink toilet) and 2 shower rooms (sink, toilet, shower). The hot water will run out after a few showers. They provide floor mats towels for you to use which is nice, but they lack vent fans to remove moisture so it is prone to mold.\\n\\nWi-Fi didn't reach our site on the back edge of the campground. Overall we were happy with our stay at this campground and would stay there again.|NULL|NULL|2016-09-25|Bear Creek Cabins & RV Park|Bear Creek Cabins & RV Park, 3181 Richardson Hwy, Valdez, AK 99686|NULL       |61.1006437|-146.21455179999998|['RV park', 'Cabin rental agency', 'Campground']|4.5       |18            |NULL |NULL |NULL|NULL |['0x56b6445fd9f9e387:0x6dd3d374ef56431a', '0x56b646917980df8b:0x5092593808fd5683', '0x56b646902f0e02db:0xe98efd617fbcc18b', '0x56b6468ea1b3a017:0x9e4cf985a172fcac', '0x56b6468d13a3cf57:0xf06b0906affed5b6']|https://www.google.com/maps/place//data=!4m2!3m1!1s0x56b646ed2220b77f:0xd8975e316de80952?authuser=-1&hl=en&gl=us|\n",
            "+-------------------------------------+---------------------+-----------------+-------------+------+------------------------------------------------------------------------------------------------------------------------------------------------------------------------------------------------------------------------------------------------------------------------------------------------------------------------------------------------------------------------------------------------------------------------------------------------------------------------------------------------------------------------------------------------------------------------------------------------------------------------------------------------------------------------------------------------------------------------------------------------------------------------+----+----+----------+---------------------------+------------------------------------------------------------------+-----------+----------+-------------------+------------------------------------------------+----------+--------------+-----+-----+----+-----+-------------------------------------------------------------------------------------------------------------------------------------------------------------------------------------------------------------+----------------------------------------------------------------------------------------------------------------+\n",
            "only showing top 5 rows\n",
            "\n"
          ]
        }
      ]
    },
    {
      "cell_type": "markdown",
      "source": [
        "**Observations**\n",
        "\n",
        "i) The total no of records in the reviews data set before joining was 521,515, the total no in the joined data frame is 521,997 pointing to possibly few duplicates in the joined dataset."
      ],
      "metadata": {
        "id": "LAl3HeI89hSB"
      }
    },
    {
      "cell_type": "code",
      "source": [
        "# Extract the day of the week from the 'newtime' column\n",
        "joined_df_with_day = joined_df.withColumn(\"day_of_week\", date_format(col(\"newtime\"), \"E\"))\n",
        "\n",
        "\n",
        "#Count reviews per day\n",
        "daily_counts = joined_df_with_day.groupBy(\"day_of_week\").agg(\n",
        "    count(\"*\").alias(\"daily_review_count\")\n",
        ")\n",
        "\n",
        "#Average review count across all Mondays, Tuesdays, etc.\n",
        "avg_by_weekday = daily_counts.groupBy(\"day_of_week\").agg(\n",
        "    {\"daily_review_count\": \"avg\"}\n",
        ").withColumnRenamed(\"avg(daily_review_count)\", \"avg_daily_reviews\")\n",
        "\n",
        "\n",
        "# Define the order of the days of the week for plotting\n",
        "day_order = [\"Mon\", \"Tue\", \"Wed\", \"Thu\", \"Fri\", \"Sat\", \"Sun\"]\n",
        "\n",
        "# Convert to pandas DataFrame for plotting\n",
        "reviews_by_day_pd = avg_by_weekday.toPandas()\n",
        "\n",
        "# Sort the pandas DataFrame by the defined day order\n",
        "reviews_by_day_pd['day_of_week'] = pd.Categorical(reviews_by_day_pd['day_of_week'], categories=day_order, ordered=True)\n",
        "reviews_by_day_pd = reviews_by_day_pd.sort_values('day_of_week')\n",
        "\n",
        "\n",
        "# Plot average number of daily reviews per weekday\n",
        "plt.figure(figsize=(10, 6))\n",
        "sns.lineplot(\n",
        "    data=reviews_by_day_pd,\n",
        "    x='day_of_week',\n",
        "    y='avg_daily_reviews',\n",
        "    marker='o',\n",
        "    linewidth=2,\n",
        "    color='seagreen'\n",
        ")\n",
        "plt.title('Average Daily Review Submissions per Day of the Week', fontsize=14)\n",
        "plt.xlabel('Day of the Week')\n",
        "plt.ylabel('Average Reviews per Day')\n",
        "plt.grid(True, linestyle='--', alpha=0.6)\n",
        "plt.tight_layout()\n",
        "plt.show()\n",
        "\n",
        "print(\"Average number of reviews per day of the week:\")\n",
        "display(reviews_by_day_pd.reset_index(drop=True).round(2))\n",
        "\n"
      ],
      "metadata": {
        "id": "w54ao2_eCUEV"
      },
      "execution_count": null,
      "outputs": []
    },
    {
      "cell_type": "markdown",
      "source": [
        "#### **Observations**\n",
        "The above code extracts the day of the week from the joined dataset and groups this data by average daily review count. The spark data frame is then converted into a pandas data frame for plotting.\n",
        "\n",
        "The day of the week that has the highest averaged submissions is Sunday while Friday has the lowest reviews. Overall, weekends (Saturday and Sunday have the highest reviews.)"
      ],
      "metadata": {
        "id": "Gre5uj3qKl6j"
      }
    },
    {
      "cell_type": "markdown",
      "source": [
        "**Answer 1.3.2**"
      ],
      "metadata": {
        "id": "9Ei1XwjWKUo3"
      }
    },
    {
      "cell_type": "code",
      "source": [
        "# Find the day with the maximum number of reviews\n",
        "peak_day = reviews_by_day_pd.loc[reviews_by_day_pd['avg_daily_reviews'].idxmax()]['day_of_week']\n",
        "print(f\"The workday with the most reviews is: {peak_day}\")\n",
        "\n",
        "# Filter the joined DataFrame for the peak day\n",
        "peak_day_df = joined_df_with_day.filter(col(\"day_of_week\") == peak_day)\n",
        "\n",
        "# Group by business name and category and calculate the average rating\n",
        "avg_rating_by_business = peak_day_df.groupBy(\"business_name\", \"category\").agg(avg(\"rating\").alias(\"average_rating\"))\n",
        "\n",
        "# Find the business(es) with the highest average rating on the peak day\n",
        "highest_rated_businesses = avg_rating_by_business.orderBy(col(\"average_rating\").desc()).limit(5)\n",
        "\n",
        "print(f\"\\nBusinesses with the highest average rating on {peak_day} (Top 5):\")\n",
        "highest_rated_businesses.show(truncate=False)"
      ],
      "metadata": {
        "id": "Oliw0wxTDMIX"
      },
      "execution_count": null,
      "outputs": []
    },
    {
      "cell_type": "markdown",
      "source": [
        "**Observations**\n",
        "\n",
        "The workday with  the most reviews is sunday, while top 5 businesses and their categories are shown in the table output with an average rating of 5."
      ],
      "metadata": {
        "id": "C_GBPA07ImBU"
      }
    },
    {
      "cell_type": "markdown",
      "source": [
        "**Answer 1.3.3**"
      ],
      "metadata": {
        "id": "lyKfEILCEeiL"
      }
    },
    {
      "cell_type": "code",
      "metadata": {
        "id": "e0549d5b"
      },
      "source": [
        "# Group by category and count the number of businesses\n",
        "category_counts = joined_df.groupBy(\"category\").count()\n",
        "\n",
        "# Order by count in descending order\n",
        "category_counts = category_counts.orderBy(col(\"count\").desc())\n",
        "\n",
        "# Convert to pandas DataFrame\n",
        "category_counts_pd = category_counts.toPandas()\n",
        "\n",
        "# Select the top 10 categories\n",
        "top_10_categories = category_counts_pd.head(10)\n",
        "\n",
        "# Create a bar plot\n",
        "plt.figure(figsize=(12, 7))\n",
        "sns.barplot(data=top_10_categories, x='category', y='count', palette='viridis')\n",
        "plt.title('Top 10 Business Categories by Count')\n",
        "plt.xlabel('Business Category')\n",
        "plt.ylabel('Number of Businesses')\n",
        "plt.xticks(rotation=45, ha='right')\n",
        "plt.tight_layout()\n",
        "plt.show()"
      ],
      "execution_count": null,
      "outputs": []
    },
    {
      "cell_type": "code",
      "metadata": {
        "id": "e45abe92"
      },
      "source": [
        "# Get the list of top 10 categories\n",
        "top_categories_list = top_10_categories['category'].tolist()\n",
        "\n",
        "# Filter the joined DataFrame to include only the top 10 categories\n",
        "filtered_df = joined_df_with_day.filter(col(\"category\").isin(top_categories_list))\n",
        "\n",
        "# Extract the hour of the day from the 'newtime' column\n",
        "filtered_df = filtered_df.withColumn(\"review_hour\", date_format(col(\"newtime\"), \"H\"))\n",
        "\n",
        "# Show the schema and some rows of the filtered DataFrame with the new column\n",
        "print(\"Filtered DataFrame Schema:\")\n",
        "filtered_df.printSchema()\n",
        "\n",
        "print(\"Filtered DataFrame (Top 5):\")\n",
        "filtered_df.show(5, truncate=False)"
      ],
      "execution_count": null,
      "outputs": []
    },
    {
      "cell_type": "code",
      "metadata": {
        "id": "7ece5d5c"
      },
      "source": [
        "# Group by category and review_hour and count the number of reviews\n",
        "reviews_by_category_hour = filtered_df.groupBy(\"category\", \"review_hour\").count()\n",
        "\n",
        "# Find the peak review hour for each category\n",
        "\n",
        "window_spec = Window.partitionBy(\"category\").orderBy(col(\"count\").desc())\n",
        "\n",
        "ranked_reviews = reviews_by_category_hour.withColumn(\"rank\", rank().over(window_spec))\n",
        "\n",
        "peak_hours_per_category = ranked_reviews.filter(col(\"rank\") == 1)\n",
        "\n",
        "# Display the peak review hour for each of the top 10 categories\n",
        "print(\"Peak review hour for each of the top 10 categories:\")\n",
        "peak_hours_per_category.orderBy(col(\"count\").desc()).show(truncate=False)"
      ],
      "execution_count": null,
      "outputs": []
    },
    {
      "cell_type": "markdown",
      "metadata": {
        "id": "56150fc3"
      },
      "source": [
        "## Analyze average ratings by category\n"
      ]
    },
    {
      "cell_type": "code",
      "metadata": {
        "id": "eb3b8c25"
      },
      "source": [
        "# Group by category and calculate the average rating\n",
        "avg_rating_by_category = joined_df.groupBy(\"category\").agg(avg(\"rating\").alias(\"average_rating\"))\n",
        "\n",
        "# Order by average_rating in descending order\n",
        "avg_rating_by_category = avg_rating_by_category.orderBy(col(\"average_rating\").desc())\n",
        "\n",
        "# Convert to pandas DataFrame\n",
        "avg_rating_by_category_pd = avg_rating_by_category.toPandas()\n",
        "\n",
        "# Select the top 10 categories by average rating\n",
        "top_10_avg_rating_categories = avg_rating_by_category_pd.head(10)\n",
        "\n",
        "# Create a bar plot\n",
        "plt.figure(figsize=(20, 15))\n",
        "sns.barplot(data=top_10_avg_rating_categories, x='category', y='average_rating', palette='viridis')\n",
        "plt.title('Top 10 Business Categories by Average Rating')\n",
        "plt.xlabel('Business Category')\n",
        "plt.ylabel('Average Rating')\n",
        "plt.xticks(rotation=45, ha='right')\n",
        "plt.tight_layout()\n",
        "plt.show()"
      ],
      "execution_count": null,
      "outputs": []
    },
    {
      "cell_type": "markdown",
      "metadata": {
        "id": "65ac079f"
      },
      "source": [
        "**Analysis Summary:**\n",
        "\n",
        "Business Categories, Peak Hours, and Average Ratings\n",
        "This analysis explored review patterns based on business categories, focusing on the distribution of businesses, peak review hours for top categories, and average ratings across categories.\n",
        "\n",
        "**Distribution of Businesses Across Categories:**\n",
        "\n",
        "Based on the analysis of business categories, the most frequent categories in the dataset are:\n",
        "\n",
        "['Shopping mall']\n",
        "['Fast food restaurant', 'Breakfast restaurant', 'Hamburger restaurant', 'Restaurant', 'Sandwich shop']\n",
        "['Department store', 'Clothing store', 'Craft store', 'Shoe store', 'Sporting goods store']\n",
        "['Grocery store', 'Grocery delivery service']\n",
        "['Mexican restaurant']\n",
        "['Fast food restaurant', 'Breakfast restaurant', 'Burger joint', 'Restaurant', 'Sandwich shop']\n",
        "['Restaurant']\n",
        "['Warehouse store', 'Department store']\n",
        "['American restaurant']\n",
        "['Gas station']\n",
        "The bar plot titled \"Top 10 Business Categories by Count\" visually represents this distribution, clearly showing the categories with the highest number of associated businesses.\n",
        "\n",
        "**Peak Review Hours for Top Categories:**\n",
        "\n",
        "The analysis of peak review hours for the top 10 business categories revealed that for all of these categories, the hour with the highest number of reviews is '0' (which likely corresponds to midnight or the beginning of the day, depending on the exact time data representation).\n",
        "\n",
        "**Average Ratings by Category:**\n",
        "\n",
        "The calculation of average ratings by category identified the categories with the highest average ratings. The top 10 categories by average rating are:\n",
        "\n",
        "['Beauty salon', 'Hair care', 'Hair salon', 'Nail salon']\n",
        "['Snowboard shop', 'Clothing store', 'Shoe store', 'Ski shop', 'Sporting goods store', 'Store']\n",
        "['Horseback riding service', 'Bed & breakfast', 'Cabin rental agency', 'Cottage', 'Guest house']\n",
        "['Pediatric dentist', 'Dentist']\n",
        "['Pediatrician']\n",
        "['Surgeon', 'Doctor', 'Medical spa']\n",
        "['Waterfall', 'Tourist attraction']\n",
        "['Rafting', 'Raft trip outfitter', 'Scenic spot']\n",
        "['Dogsled ride service', 'Helicopter tour agency', 'Tour operator']\n",
        "['Leather goods store', 'Store']\n",
        "The bar plot titled \"Top 10 Business Categories by Average Rating\" illustrates these top-rated categories and their corresponding average ratings.\n",
        "\n"
      ]
    },
    {
      "cell_type": "markdown",
      "source": [
        "**Answer 1.4**"
      ],
      "metadata": {
        "id": "31fBMbZwOxX3"
      }
    },
    {
      "cell_type": "code",
      "source": [
        "# Combine all review text into a single string in PySpark\n",
        "all_reviews_text_df = joined_df.select(concat_ws(\" \", col(\"text\"))).collect()\n",
        "all_reviews_text = all_reviews_text_df[0][0] if all_reviews_text_df else \"\"\n",
        "\n",
        "\n",
        "# Remove punctuation and convert to lowercase using PySpark functions\n",
        "words_df = joined_df.select(lower(regexp_replace(col(\"text\"), r'[^\\w\\s]', '')).alias(\"text\"))\n",
        "words_df = words_df.select(explode(split(col(\"text\"), \"\\s+\")).alias(\"word\"))\n",
        "\n",
        "# Remove common English stop words using PySpark\n",
        "stop_words = set([\n",
        "    \"i\", \"me\", \"my\", \"myself\", \"we\", \"our\", \"ours\", \"ourselves\", \"you\", \"your\", \"yours\",\n",
        "    \"yourself\", \"yourselves\", \"he\", \"him\", \"his\", \"himself\", \"she\", \"her\", \"herself\",\n",
        "    \"it\", \"its\", \"itself\", \"they\", \"them\", \"their\", \"theirs\", \"themselves\", \"what\",\n",
        "    \"which\", \"who\", \"whom\", \"this\", \"that\", \"these\", \"those\", \"am\", \"is\", \"are\", \"was\",\n",
        "    \"were\", \"be\", \"been\", \"being\", \"have\", \"has\", \"had\", \"having\", \"do\", \"does\", \"did\",\n",
        "    \"doing\", \"a\", \"an\", \"the\", \"and\", \"but\", \"if\", \"or\", \"because\", \"as\", \"until\",\n",
        "    \"while\", \"of\", \"at\", \"by\", \"for\", \"with\", \"about\", \"against\", \"between\", \"into\",\n",
        "    \"through\", \"during\", \"before\", \"after\", \"above\", \"below\", \"to\", \"from\", \"up\", \"down\",\n",
        "    \"in\", \"out\", \"on\", \"off\", \"over\", \"under\", \"again\", \"further\", \"then\", \"once\", \"here\",\n",
        "    \"there\", \"when\", \"where\", \"why\", \"how\", \"all\", \"any\", \"both\", \"each\", \"few\", \"more\",\n",
        "    \"most\", \"other\", \"some\", \"such\", \"no\", \"nor\", \"not\", \"only\", \"own\", \"same\", \"so\",\n",
        "    \"than\", \"too\", \"very\", \"s\", \"t\", \"can\", \"will\", \"just\", \"don\", \"should\", \"now\", \"no\", \"review\"\n",
        "])\n",
        "\n",
        "words_df = words_df.filter(~col(\"word\").isin(stop_words)).filter(length(col(\"word\")) > 1)\n",
        "\n",
        "\n",
        "# Count the frequency of each word using PySpark\n",
        "word_counts_df = words_df.groupBy(\"word\").count().orderBy(col(\"count\").desc())\n",
        "\n",
        "# Get the top 30 most common words\n",
        "top_30_words = word_counts_df.limit(30).collect()\n",
        "\n",
        "print(\"Top 30 most common words:\")\n",
        "for row in top_30_words:\n",
        "    print(f\"{row['word']}: {row['count']}\")\n",
        "\n",
        "# Generate word clouds for each year\n",
        "# Extract the year from the 'newtime' column\n",
        "reviews_with_year = joined_df.withColumn(\"review_year\", year(col(\"newtime\")))\n",
        "\n",
        "# Group by year and concatenate text for each year\n",
        "reviews_by_year_df = reviews_with_year.groupBy(\"review_year\").agg(concat_ws(\" \", collect_list(col(\"text\"))).alias(\"all_text\"))\n",
        "\n",
        "# Collect the data for word cloud generation\n",
        "reviews_by_year_pd = reviews_by_year_df.toPandas()"
      ],
      "metadata": {
        "id": "wUgBkQKWuWMY"
      },
      "execution_count": null,
      "outputs": []
    },
    {
      "cell_type": "code",
      "source": [
        "#sort reviews by year before plotting the word clouds\n",
        "reviews_by_year_pd.sort_values(by='review_year', inplace=True)\n",
        "reviews_by_year_pd.head()"
      ],
      "metadata": {
        "id": "3hMxZDzmoq8e"
      },
      "execution_count": null,
      "outputs": []
    },
    {
      "cell_type": "code",
      "source": [
        "# Generate word cloud for each year\n",
        "num_years = len(reviews_by_year_pd)\n",
        "num_cols = 2\n",
        "# Calculate number of rows needed\n",
        "num_rows = (num_years + num_cols - 1) // num_cols\n",
        "\n",
        "fig, axes = plt.subplots(num_rows, num_cols, figsize=(10 * num_cols, 5 * num_rows))\n",
        "# Flatten the array of axes for easy iteration\n",
        "\n",
        "axes = axes.flatten()\n",
        "for i, (index, row) in enumerate(reviews_by_year_pd.iterrows()):\n",
        "    review_year_val = row['review_year']\n",
        "    text = row['all_text']\n",
        "\n",
        "    if text: # Check if there is any text for the year\n",
        "        # Remove punctuation and convert to lowercase\n",
        "        text = re.sub(r'[^\\w\\s]', '', text).lower()\n",
        "        words = text.split()\n",
        "        words = [word for word in words if word not in stop_words and len(word) > 1]\n",
        "        text = \" \".join(words)\n",
        "\n",
        "        if text: # Check if there are any words left after removing stop words\n",
        "            wordcloud = WordCloud(width=800, height=400, background_color='white').generate(text)\n",
        "            axes[i].imshow(wordcloud, interpolation='bilinear')\n",
        "            axes[i].axis('off')\n",
        "            axes[i].set_title(f'Word Cloud for {review_year_val}')\n",
        "        else:\n",
        "            axes[i].axis('off') # Hide axis if no words to display\n",
        "            axes[i].set_title(f'No significant words for {review_year_val}')\n",
        "    else:\n",
        "        axes[i].axis('off') # Hide axis if no text for the year\n",
        "        axes[i].set_title(f'No reviews for {review_year_val}')\n",
        "\n",
        "# Hide any unused subplots\n",
        "for j in range(i + 1, len(axes)):\n",
        "    axes[j].axis('off')\n",
        "\n",
        "plt.tight_layout()\n",
        "plt.show()"
      ],
      "metadata": {
        "id": "uqufND1Fx74k"
      },
      "execution_count": null,
      "outputs": []
    },
    {
      "cell_type": "markdown",
      "metadata": {
        "id": "33b12f9d"
      },
      "source": [
        "### Insights from Top Words by Year\n",
        "\n",
        "Analyzing the top words for each year provides a clearer view of the review content and highlights shifts in focus over time:\n",
        "\n",
        "*   **Consistency of Core Themes:** Words like \"great,\" \"good,\" \"food,\" \"place,\" and \"service\" consistently appear in the top words across many years, indicating that these are fundamental aspects of the reviewed businesses that users frequently comment on.\n",
        "*   **Growth in Review Volume:** The increasing counts for the top words over the years (especially noticeable from 2016 onwards) directly reflect the significant growth in the number of reviews in the dataset during this period.\n",
        "*   **Dominance of Positive Language:** The prevalence of positive words like \"great,\" \"good,\" and \"amazing\" in the top lists suggests a generally positive sentiment within the reviews, based on the most frequent terms.\n",
        "*   **Specific Mentions:** While the very top words are quite general, looking beyond the top 5 or 10 for each year might reveal more specific keywords related to particular types of businesses or events that were prominent in those years.\n"
      ]
    },
    {
      "cell_type": "markdown",
      "source": [
        "**Answer 1.5**"
      ],
      "metadata": {
        "id": "Ah_-9i6IDq67"
      }
    },
    {
      "cell_type": "code",
      "source": [
        "# Determine the number of unique reviewers per business\n",
        "unique_reviewers_per_business = joined_df.groupBy(\"business_name\", \"gmap_id\").agg(countDistinct(\"user_id\").alias(\"unique_reviewer_count\"))\n",
        "\n",
        "print(\"Number of unique reviewers per business (Top 10):\")\n",
        "unique_reviewers_per_business.orderBy(col(\"unique_reviewer_count\").desc()).show(10, truncate=False)\n",
        "\n",
        "# Determine the number of unique reviewers per category\n",
        "unique_reviewers_per_category = joined_df.groupBy(\"category\").agg(countDistinct(\"user_id\").alias(\"unique_reviewer_count\"))\n",
        "\n",
        "print(\"Number of unique reviewers per category (Top 10):\")\n",
        "unique_reviewers_per_category.orderBy(col(\"unique_reviewer_count\").desc()).show(10, truncate=False)\n",
        "\n",
        "# Analyze temporal patterns of reviews by year\n",
        "reviews_by_year = joined_df.withColumn(\"review_year\", year(col(\"newtime\"))).groupBy(\"review_year\").count().orderBy(\"review_year\")\n",
        "\n",
        "print(\"Number of reviews per year:\")\n",
        "reviews_by_year.show(truncate=False)\n",
        "\n",
        "# Analyze temporal patterns of reviews by month\n",
        "reviews_by_month = joined_df.withColumn(\"review_month\", month(col(\"newtime\"))).groupBy(\"review_month\").count().orderBy(\"review_month\")\n",
        "\n",
        "print(\"Number of reviews per month:\")\n",
        "reviews_by_month.show(truncate=False)\n",
        "\n",
        "# Analyze temporal patterns of reviews by day of the week\n",
        "reviews_by_dayofweek = joined_df.withColumn(\"review_dayofweek\", dayofweek(col(\"newtime\"))).groupBy(\"review_dayofweek\").count().orderBy(\"review_dayofweek\")\n",
        "\n",
        "print(\"Number of reviews per day of the week (1 = Sunday, 7 = Saturday):\")\n",
        "reviews_by_dayofweek.show(truncate=False)"
      ],
      "metadata": {
        "id": "X9W8FCkpyf-T"
      },
      "execution_count": null,
      "outputs": []
    },
    {
      "cell_type": "markdown",
      "source": [
        "### Insights from Unique Reviewers and Temporal Patterns\n",
        "\n",
        "**Unique Reviewers per Business and Category:**\n",
        "\n",
        "*   The analysis of unique reviewers per business reveals the businesses that have attracted the largest number of distinct individuals to leave reviews. The top businesses with the highest unique reviewer counts are:\n",
        "    *   Moose's Tooth Pub & Pizzeria\n",
        "    *   Dimond Center\n",
        "    *   Walmart Supercenter (multiple locations appear in the top 10)\n",
        "    *   Costco Wholesale (multiple locations appear in the top 10)\n",
        "    *   Anchorage 5th Avenue Mall\n",
        "    *   49th State Brewing - Anchorage\n",
        "    *   Tikahtnu Commons\n",
        "\n",
        "*   Similarly, examining unique reviewers per category highlights the business categories that receive reviews from the broadest range of users. The top categories by unique reviewer count are:\n",
        "    *   ['Shopping mall']\n",
        "    *   ['Department store', 'Clothing store', 'Craft store', 'Discount store', 'Electronics store', 'Grocery store', 'Home goods store', 'Sporting goods store', 'Supermarket', 'Toy store']\n",
        "    *   ['Fast food restaurant', 'Breakfast restaurant', 'Coffee shop', 'Hamburger restaurant', 'Restaurant', 'Sandwich shop']\n",
        "    *   ['Grocery store', 'Grocery delivery service']\n",
        "    *   ['Mexican restaurant']\n",
        "    *   ['Warehouse store', 'Department store']\n",
        "    *   ['Fast food restaurant', 'Breakfast restaurant', 'Burrito restaurant', 'Lunch restaurant', 'Takeout Restaurant', 'Mexican restaurant', 'Restaurant', 'Taco restaurant', 'Tex-Mex restaurant', 'Vegetarian restaurant']\n",
        "    *   ['Restaurant']\n",
        "    *   ['American restaurant']\n",
        "    *   ['Grocery store', 'Propane supplier']\n",
        "\n",
        "These findings indicate that large retail centers, popular restaurants (especially fast food and casual dining), and general merchandise stores tend to attract reviews from a wider customer base.\n",
        "\n",
        "**Seasonal Patterns of Reviews:**\n",
        "\n",
        "*   **Reviews by Year:** The number of reviews has significantly increased over the years, with a substantial jump starting around 2016 and peaking in 2019 and 2020. This suggests a growing trend of users leaving reviews or an expansion of the dataset's coverage in recent years.\n",
        "\n",
        "* **Reviews by Month:** The months June to September have the highest review counts > 45k. This shows that most customers tend to spend more time during summer months shopping at large retail centers, restuarants and general merchandise shops. It might also be reflective customer behavioral patterns during different times of the year.\n",
        "\n",
        "* **Reviews by day of week** The days (saturday and sunday) have more review counts > 75k, compared to the rest of the days an indicator that customers tend to spend more times shopping during the weekend that over the rest of the days.\n"
      ],
      "metadata": {
        "id": "uMvJ65wBDlE0"
      }
    },
    {
      "cell_type": "markdown",
      "source": [
        "**Answer 1.6**"
      ],
      "metadata": {
        "id": "Jyv13UA09Paa"
      }
    },
    {
      "cell_type": "markdown",
      "source": [
        "**Answer 1.6.1**"
      ],
      "metadata": {
        "id": "U5SdPuMk-x0t"
      }
    },
    {
      "cell_type": "markdown",
      "source": [
        "A common approach for building a recommendation system for businesses based on customer reviews is using Collaborative Filtering . This method relies on the idea that users who liked similar items in the past will like similar items in the future (*Su,X,Khoshgoftaar, T. M 2009*).\n",
        "\n",
        "Our strategy is to use the Alternating Least squares approach (ALS). This is a matrix factorization method which alternately solves for user and item feature matrices to minimize rating prediction error *(Zhou et al., 2008; Tan, Steinbach and Kumar, 2019)*. It is widely used in large-scale collaborative filtering systems due to its scalability and parallelization capabilities *(Zhou et al., 2008)*.\n",
        "\n",
        "The algorithm alternates between fixing one matrix and solving for the other using least squares regression, iteratively minimizing the prediction error until convergence.\n",
        "\n",
        "ALS is especially suited for large-scale, sparse datasets and is efficiently implemented in distributed computing frameworks like Apache Spark’ `MLib`.\n",
        "\n",
        "**a.\tCreate User-Item Matrix:**\n",
        "\n",
        "This involves creating a matrix where rows represent users, columns represent businesses, and the values are the ratings given by the user to the business.\n",
        "\n",
        "**b.\tModel iniatialization:**\n",
        "Model initialization in ALS refers to how the latent user and item feature matrices are initially set before the optimization process begins.\n",
        "The ALS aims to find matrices U (user features) and V(item features in this case the businesses) such that: R≈U×VTranspose.\n",
        "\n",
        "(where\n",
        "R is the user–item rating matrix), the algorithm needs starting values for\n",
        "𝑈\n",
        "U and\n",
        "𝑉\n",
        "V.\n",
        " Spark MLlib internally distributes the computation across the cluster (or your local CPU cores).\n",
        "It iteratively updates the user and item matrices to minimize prediction error (regularized least squares).\n",
        "\n",
        "**c.\tModel training:**\n",
        "This involves splitting the data into training and testing sets. The model predicts ratings for (user, business) pairs in the test set. To measure how close the predicted ratings are to the actual ratings RMSE (Root Mean Sqaured Error) is used. The lower the RMSE, the better the accuracy.\n",
        "\n",
        "**d.\tGenerate Recommendations**:\n",
        "\n",
        "To generate the recommendations the to N businesses each user is most likely to rate based on their latent vector similarity is used. This is achieved by the dot products between users and business latent vectors. The higher the score, the stronger is the recommendation.\n",
        "\n"
      ],
      "metadata": {
        "id": "Tii81soO-0sb"
      }
    },
    {
      "cell_type": "markdown",
      "source": [
        "**Answer 1.6.2**"
      ],
      "metadata": {
        "id": "0NtvmG0C-uKx"
      }
    },
    {
      "cell_type": "code",
      "metadata": {
        "id": "af38ad06"
      },
      "source": [
        "# Create a user-item matrix using the relevant columns from the joined DataFrame\n",
        "# Select and cast the necessary columns\n",
        "ratings_df = joined_df.select(\n",
        "    col(\"user_id\").cast(IntegerType()).alias(\"userId\"),\n",
        "    col(\"gmap_id\").alias(\"itemId\"),\n",
        "    col(\"rating\").cast(DoubleType()).alias(\"rating\")\n",
        ")\n",
        "\n",
        "# Drop rows with null values in the selected columns\n",
        "ratings_df = ratings_df.dropna(subset=[\"userId\", \"itemId\", \"rating\"])\n",
        "\n",
        "# Convert item IDs to numerical IDs for ALS\n",
        "# Hash the string IDs\n",
        "ratings_df = ratings_df.withColumn(\"itemIdNumeric\", hash(col(\"itemId\")))\n",
        "\n",
        "# Split the data into training and testing sets\n",
        "(training, test) = ratings_df.randomSplit([0.8, 0.2], seed=123)\n",
        "\n",
        "# Build the recommendation model using ALS (Alternating Least Squares)\n",
        "als = ALS(maxIter=5, regParam=0.09, rank=20, userCol=\"userId\", itemCol=\"itemIdNumeric\", ratingCol=\"rating\",\n",
        "          coldStartStrategy=\"drop\")\n",
        "model = als.fit(training)\n",
        "\n",
        "# Evaluate the model by computing the RMSE on the test data\n",
        "predictions = model.transform(test)\n",
        "evaluator = RegressionEvaluator(metricName=\"rmse\", labelCol=\"rating\",\n",
        "                                predictionCol=\"prediction\")\n",
        "rmse = evaluator.evaluate(predictions)\n",
        "print(f\"Root-mean-square error = {rmse}\")\n",
        "\n",
        "# Generate top 10 business recommendations for each user\n",
        "userRecs = model.recommendForAllUsers(10)\n",
        "\n",
        "# Show the recommendations for a few users\n",
        "print(\"Top 10 recommendations for users:\")\n",
        "userRecs.show(5, truncate=False)\n",
        "\n",
        "# Generate top 10 user recommendations for each business\n",
        "itemRecs = model.recommendForAllItems(10)\n",
        "\n",
        "# Show the recommendations for a few businesses\n",
        "print(\"Top 10 user recommendations for businesses:\")\n",
        "itemRecs.show(5, truncate=False)\n",
        "\n"
      ],
      "execution_count": null,
      "outputs": []
    },
    {
      "cell_type": "markdown",
      "source": [
        "**Comments**\n",
        "\n",
        "\n"
      ],
      "metadata": {
        "id": "QfyfCUSlc3_z"
      }
    },
    {
      "cell_type": "markdown",
      "source": [
        "**Answer 1.7**"
      ],
      "metadata": {
        "id": "kSfKc7-f__gf"
      }
    },
    {
      "cell_type": "markdown",
      "source": [
        "**Answer 1.7.1**"
      ],
      "metadata": {
        "id": "vGWISAV8AGHL"
      }
    },
    {
      "cell_type": "code",
      "metadata": {
        "id": "44fae181"
      },
      "source": [
        "# Group by category and calculate the average rating\n",
        "avg_rating_by_category = joined_df.groupBy(\"category\").agg(avg(\"rating\").alias(\"average_rating\"))\n",
        "\n",
        "# Order by average_rating in descending order\n",
        "avg_rating_by_category = avg_rating_by_category.orderBy(col(\"average_rating\").desc())\n",
        "\n",
        "# Convert to pandas DataFrame for plotting\n",
        "avg_rating_by_category_pd = avg_rating_by_category.toPandas()\n",
        "\n",
        "# Select the top 20 categories by average rating for better visualization\n",
        "top_20_avg_rating_categories = avg_rating_by_category_pd.head(20)\n",
        "\n",
        "# Create a bar plot\n",
        "plt.figure(figsize=(20, 15))\n",
        "sns.barplot(data=top_20_avg_rating_categories, x='category', y='average_rating', palette='viridis')\n",
        "plt.title('Top 20 Business Categories by Average Rating')\n",
        "plt.xlabel('Business Category')\n",
        "plt.ylabel('Average Rating')\n",
        "plt.xticks(rotation=90, ha='right')\n",
        "plt.tight_layout()\n",
        "plt.show()"
      ],
      "execution_count": null,
      "outputs": []
    },
    {
      "cell_type": "code",
      "source": [
        "# Explore the categories with the lowest average ratings\n",
        "bottom_20_avg_rating_categories = avg_rating_by_category_pd.tail(20)\n",
        "\n",
        "plt.figure(figsize=(20, 10))\n",
        "sns.barplot(data=bottom_20_avg_rating_categories, x='category', y='average_rating', palette='viridis')\n",
        "plt.title('Bottom 20 Business Categories by Average Rating')\n",
        "plt.xlabel('Business Category')\n",
        "plt.ylabel('Average Rating')\n",
        "plt.xticks(rotation=90, ha='right')\n",
        "plt.tight_layout()\n",
        "plt.show()"
      ],
      "metadata": {
        "id": "Z2CfekSh_tIL"
      },
      "execution_count": null,
      "outputs": []
    },
    {
      "cell_type": "markdown",
      "metadata": {
        "id": "7afc34b1"
      },
      "source": [
        "### Insights from Relationship between Rating and Business Categories\n",
        "\n",
        "The visualizations above illustrate the relationship between business categories and their average ratings.\n",
        "\n",
        "**Top 20 Business Categories by Average Rating:**\n",
        "\n",
        "The first bar plot displays the top 20 business categories with the highest average ratings. Observing this plot, we can identify categories that consistently receive positive reviews from users. These might include niche services, specialized shops, or attractions that cater to specific interests and potentially exceed customer expectations within those areas. It's worth noting that some categories might have a smaller number of reviews contributing to their high average, which could make the average less representative.\n",
        "\n",
        "**Bottom 20 Business Categories by Average Rating:**\n",
        "\n",
        "The second bar plot shows the bottom 20 business categories with the lowest average ratings. This plot helps pinpoint categories that tend to receive lower ratings. These could be types of businesses that are more prone to customer complaints, have inherent challenges in meeting expectations, or face strong competition leading to critical reviews. Understanding these categories can be valuable for businesses within them to identify areas for improvement.\n",
        "\n",
        "**General Observations:**\n",
        "\n",
        "*   The plots reveal a variation in average ratings across different business categories.\n",
        "*   Some categories seem to consistently perform better in terms of customer satisfaction (based on average rating) than others.\n",
        "*   To gain deeper insights, it would be beneficial to also consider the number of reviews for each category when interpreting the average ratings, as categories with very few reviews might have skewed averages.\n",
        "*   Further analysis could involve examining the distribution of ratings within specific categories or exploring the common themes in the reviews for high- and low-rated categories."
      ]
    },
    {
      "cell_type": "markdown",
      "source": [
        "**Answer 1.7.2**"
      ],
      "metadata": {
        "id": "e4y9yON4EDDU"
      }
    },
    {
      "cell_type": "code",
      "source": [
        "# Define a threshold for low ratings (e.g., ratings less than or equal to 2)\n",
        "low_rating_threshold = 2\n",
        "\n",
        "# Filter the joined DataFrame to get reviews with low ratings\n",
        "low_rated_reviews = joined_df.filter(col(\"rating\") <= low_rating_threshold)\n",
        "\n",
        "# Count the number of low-rated reviews\n",
        "num_low_rated_reviews = low_rated_reviews.count()\n",
        "\n",
        "print(f\"Number of reviews with a rating of {low_rating_threshold} or less: {num_low_rated_reviews}\")\n",
        "\n",
        "# Extract the text from the low-rated reviews and combine it into a single string\n",
        "low_rated_text_df = low_rated_reviews.select(concat_ws(\" \", col(\"text\"))).collect()\n",
        "low_rated_text = low_rated_text_df[0][0] if low_rated_text_df else \"\"\n",
        "\n",
        "# Process the text: remove punctuation, convert to lowercase, and split into words\n",
        "if low_rated_text:\n",
        "    low_rated_words = low_rated_reviews.select(lower(regexp_replace(col(\"text\"), r'[^\\w\\s]', '')).alias(\"text\"))\n",
        "    low_rated_words = low_rated_words.select(explode(split(col(\"text\"), \"\\s+\")).alias(\"word\"))\n",
        "\n",
        "    # Remove common English stop words and words with length less than or equal to 1\n",
        "    stop_words_extended = stop_words.union({\"no\", \"review\"}) # Add \"no\" and \"review\" to stop words\n",
        "    low_rated_words = low_rated_words.filter(~col(\"word\").isin(stop_words_extended)).filter(length(col(\"word\")) > 1)\n",
        "\n",
        "    # Count the frequency of each word\n",
        "    low_rated_word_counts_df = low_rated_words.groupBy(\"word\").count().orderBy(col(\"count\").desc())\n",
        "\n",
        "    # Get the top 30 most common words in low-rated reviews\n",
        "    top_30_low_rated_words = low_rated_word_counts_df.limit(30).collect()\n",
        "\n",
        "    print(\"\\nTop 30 most common words in low-rated reviews:\")\n",
        "    for row in top_30_low_rated_words:\n",
        "        print(f\"{row['word']}: {row['count']}\")\n",
        "else:\n",
        "    print(\"\\nNo low-rated reviews found to analyze text.\")"
      ],
      "metadata": {
        "id": "kHfAxoveGKvJ"
      },
      "execution_count": null,
      "outputs": []
    },
    {
      "cell_type": "markdown",
      "metadata": {
        "id": "7f4f3815"
      },
      "source": [
        "### **Analysis of Low-Rated Reviews**\n",
        "\n",
        "Based on the analysis of reviews with a rating of 2 or less:\n",
        "\n",
        "- There are **36884** reviews with a low rating.\n",
        "- The most common words appearing in these low-rated reviews include:\n",
        "\n",
        "\n",
        "**food**: This suggests a product indicating poor food quality or service\n",
        "\n",
        "**service**: This may relate to the quality of service, mostly poor services offered.\n",
        "\n",
        "**get**: This could relate to difficulty in receiving service or products\n",
        "\n",
        "**time**: This suggests that issues related to waiting times or the duration of service might be a common complaint.\n",
        "\n",
        "**like**: Can be used in various contexts, but in negative reviews, it might express disappointment or unfavorable comparisons.\n",
        "\n",
        "**bad**: A direct expression of dissatisfaction.\n",
        "\n",
        "**never**: Used to emphasize a consistently negative experience.\n",
        "\n",
        "**store**: Many low ratings are for retail establishments.\n",
        "\n",
        "**went**: Describes negative experiences encountered during a visit.\n",
        "\n",
        "**dont**: Indicates negative experiences or lack of something expected.\n",
        "\n",
        "These words collectively suggest that common reasons for low ratings include issues with service speed and efficiency, poor customer service and communication, problems with products or work quality, and negative experiences related to specific types of businesses like restaurants and retail stores."
      ]
    },
    {
      "cell_type": "markdown",
      "source": [
        "**Answer 1.8**"
      ],
      "metadata": {
        "id": "a0DnpY96QgaK"
      }
    },
    {
      "cell_type": "markdown",
      "source": [
        "**Answer 1.8.1**"
      ],
      "metadata": {
        "id": "u_QVVynzUcVk"
      }
    },
    {
      "cell_type": "code",
      "metadata": {
        "id": "74e87f3e"
      },
      "source": [
        "# Sort reviews for each business by newtime\n",
        "window_spec_business = Window.partitionBy(\"gmap_id\").orderBy(asc(\"newtime\"))\n",
        "sorted_reviews_by_business = joined_df.withColumn(\"row_number\", rank().over(window_spec_business)).drop(\"row_number\")\n",
        "\n",
        "# Group by user_id and collect the list of business names\n",
        "user_business_list_df = sorted_reviews_by_business.groupBy(\"user_id\").agg(collect_list(\"business_name\").alias(\"business_list\"))\n",
        "\n",
        "# Convert the result to a list of (user_id, business_list) tuples (optional, for display)\n",
        "user_business_list = user_business_list_df.collect()\n",
        "\n",
        "# Display the result for a few users\n",
        "print(\"Business list for each user (first 10 users):\")\n",
        "for row in user_business_list[:10]:\n",
        "    print(f\"User ID: {row['user_id']}, Businesses: {row['business_list']}\")"
      ],
      "execution_count": null,
      "outputs": []
    },
    {
      "cell_type": "markdown",
      "source": [
        "**Answer 1.8.2**"
      ],
      "metadata": {
        "id": "w35DT-eqWISM"
      }
    },
    {
      "cell_type": "code",
      "source": [
        "# Function to check for repeated business names in a list\n",
        "def has_repeated_businesses(business_list):\n",
        "    if not business_list:\n",
        "        return False\n",
        "    # Convert the list to a set to find unique businesses\n",
        "    unique_businesses = set(business_list)\n",
        "    # If the number of unique businesses is less than the total number of reviews,\n",
        "    # it means there are repeated business names\n",
        "    return len(unique_businesses) < len(business_list)\n",
        "\n",
        "# Count the number of users with repeated business names in their list\n",
        "users_with_repeated_businesses_count = sum(\n",
        "    1 for user_id, business_list in user_business_list if has_repeated_businesses(business_list)\n",
        ")\n",
        "\n",
        "print(f\"Number of users with repeated business names in their review history: {users_with_repeated_businesses_count}\")"
      ],
      "metadata": {
        "id": "gKYBp2ciQi7X"
      },
      "execution_count": null,
      "outputs": []
    },
    {
      "cell_type": "code",
      "source": [
        "# Identify and print duplicated business names and their counts for each reviewer\n",
        "print(\"\\nDuplicated business names and their counts for each user:\")\n",
        "count = 0\n",
        "for user_id, business_list in user_business_list:\n",
        "    if has_repeated_businesses(business_list):\n",
        "        # Use Counter to find duplicated business names and their counts\n",
        "        business_counts = Counter(business_list)\n",
        "        duplicated_businesses = {business: count for business, count in business_counts.items() if count > 1}\n",
        "        if duplicated_businesses:\n",
        "            print(f\"User ID: {user_id}\")\n",
        "            count += 1\n",
        "            for business, business_count in duplicated_businesses.items():\n",
        "                if count <= 1000:  # Limit to the first 1000 lines\n",
        "                    print(f\"  - {business}: {business_count} times\")\n",
        "                    count += 1\n",
        "                else:\n",
        "                    break # Exit the inner loop if 1000 lines are reached\n",
        "    if count > 1000: # Exit the outer loop if 1000 lines are reached\n",
        "        break"
      ],
      "metadata": {
        "id": "RFm7F0Q8lWRF"
      },
      "execution_count": null,
      "outputs": []
    },
    {
      "cell_type": "code",
      "metadata": {
        "id": "329ec989"
      },
      "source": [
        "# Create a new list to store user_id and a list of unique businesses\n",
        "user_business_list_unique = []\n",
        "\n",
        "# Iterate through the original list\n",
        "for user_id, business_list in user_business_list:\n",
        "    # Convert the business list to a set to get unique businesses, then convert back to a list\n",
        "    unique_businesses = list(set(business_list))\n",
        "    # Append the user_id and the list of unique businesses to the new list\n",
        "    user_business_list_unique.append((user_id, unique_businesses))\n",
        "\n",
        "# Display the result for a few users to verify\n",
        "print(\"Business list for each user with duplicates removed (first 10 users):\")\n",
        "for row in user_business_list_unique[:10]:\n",
        "    print(f\"User ID: {row[0]}, Businesses: {row[1]}\")"
      ],
      "execution_count": null,
      "outputs": []
    },
    {
      "cell_type": "markdown",
      "source": [
        "**Answer 1.8.3**"
      ],
      "metadata": {
        "id": "bMRLoyi2WNM8"
      }
    },
    {
      "cell_type": "code",
      "metadata": {
        "id": "898acacc"
      },
      "source": [
        "# Apply the hash function directly to each element in the business_list column\n",
        "encoded_user_business_list_df = user_business_list_df.withColumn(\n",
        "    \"encoded_business_list\",\n",
        "    # Use transform to apply the hash function to each element in the list\n",
        "    expr(\"transform(business_list, business -> hash(business))\")\n",
        ")\n",
        "\n",
        "# Display the result for a few users to verify\n",
        "print(\"Business list for each user with encoded business names (first 10 users):\")\n",
        "for row in encoded_user_business_list_df.collect()[:10]:\n",
        "    print(f\"User ID: {row['user_id']}, Encoded Businesses: {row['encoded_business_list']}\")"
      ],
      "execution_count": null,
      "outputs": []
    },
    {
      "cell_type": "code",
      "source": [
        "# Group the DataFrame by user_id and collect the unique gmap_id's into a set for fast lookups\n",
        "encoded_user_business_list_series = df.groupby('user_id')['gmap_id'].apply(lambda x: set(x.unique()))\n",
        "\n",
        "# Convert the Series back to a DataFrame with a descriptive column name\n",
        "encoded_user_business_list_df = encoded_user_business_list_series.rename('reviewed_businesses').to_frame()\n",
        "\n",
        "print(\"--- Encoded User-Business List (Sample) ---\")\n",
        "display(encoded_user_business_list_df.head())"
      ],
      "metadata": {
        "id": "NNfxxBOSsgvg"
      },
      "execution_count": null,
      "outputs": []
    },
    {
      "cell_type": "code",
      "source": [
        "#  created a sample user-item data set for memory efficiency to avoid running out of RAM\n",
        "user_sets = encoded_user_business_list_series  #get user sets\n",
        "\n",
        "sample_size = min(10000, len(user_sets))  # limit sample size to 10000\n",
        "user_sets_sample = user_sets.sample(n=sample_size, random_state=42)\n",
        "\n",
        "print(f\"Using {sample_size} users for similarity computation (sampled).\")\n",
        "\n",
        "\n",
        "# Create sparse user-item matrix\n",
        "\n",
        "unique_items = sorted({item for items in user_sets_sample for item in items})\n",
        "item_index = {item: i for i, item in enumerate(unique_items)}\n",
        "\n",
        "rows, cols = [], []\n",
        "for row_idx, items in enumerate(user_sets_sample):\n",
        "    cols.extend([item_index[i] for i in items])\n",
        "    rows.extend([row_idx] * len(items))\n",
        "\n",
        "data = np.ones(len(rows), dtype=np.float32)\n",
        "user_item_matrix = csr_matrix(\n",
        "    (data, (rows, cols)), shape=(len(user_sets_sample), len(unique_items))\n",
        ")\n",
        "\n",
        "\n",
        "# Compute cosine similarity\n",
        "cosine_sim_matrix = cosine_similarity(user_item_matrix, dense_output=False)\n",
        "\n",
        "\n",
        "# Extract Top-N similar users for each user\n",
        "top_N = 10\n",
        "user_ids = user_sets_sample.index.to_list()\n",
        "similar_users = []\n",
        "\n",
        "# Iterate over each user row in sparse similarity matrix\n",
        "for i, row in enumerate(cosine_sim_matrix):\n",
        "    # Convert sparse row → (user indices, similarity values)\n",
        "    row_coo = row.tocoo()\n",
        "    sim_scores = list(zip(row_coo.col, row_coo.data))\n",
        "\n",
        "    # Remove self-similarity\n",
        "    sim_scores = [(j, sim) for j, sim in sim_scores if j != i]\n",
        "\n",
        "    # Sort by similarity and select top N\n",
        "    top_neighbors = sorted(sim_scores, key=lambda x: x[1], reverse=True)[:top_N]\n",
        "\n",
        "    # Map back to user IDs\n",
        "    user_i = user_ids[i]\n",
        "    for j, sim in top_neighbors:\n",
        "        similar_users.append({\"user_a\": user_i, \"user_b\": user_ids[j], \"similarity\": sim})\n",
        "\n",
        "# Convert to DataFrame\n",
        "topN_df = pd.DataFrame(similar_users)\n",
        "\n",
        "\n",
        "# Display sample results\n",
        "\n",
        "print(f\"\\nTop {top_N} similar users per user (sample):\")\n",
        "display(topN_df.head(20))\n",
        "print(f\"\\nGenerated {len(topN_df):,} user–user similarity pairs across {len(user_ids)} users.\")\n"
      ],
      "metadata": {
        "id": "EtfBVQnq2Tmd"
      },
      "execution_count": null,
      "outputs": []
    },
    {
      "cell_type": "markdown",
      "source": [
        "Cosine similarity measures how similar two vectors are by comparing the angle between them, not their magnitude.\n",
        "\n",
        "Formally, for two users A and B represented as vectors of their item interactions:\n",
        "\n",
        "cosine_similarity\n",
        "(\n",
        "𝐴\n",
        ",\n",
        "𝐵\n",
        ")\n",
        "=\n",
        "𝐴\n",
        "⋅\n",
        "𝐵\n",
        "∥\n",
        "𝐴\n",
        "∥\n",
        "×\n",
        "∥\n",
        "𝐵\n",
        "∥\n",
        "cosine_similarity(A,B)=\n",
        "∥A∥×∥B∥\n",
        "A⋅B\n",
        "\t​\n",
        "\n",
        "\n",
        "𝐴\n",
        "⋅\n",
        "𝐵\n",
        "A⋅B → dot product (sum of element-wise products)\n",
        "\n",
        "∥\n",
        "𝐴\n",
        "∥\n",
        "∥A∥ and\n",
        "∥\n",
        "𝐵\n",
        "∥\n",
        "∥B∥ → vector magnitudes (lengths)\n",
        "\n",
        "The result ranges between 0 (completely dissimilar) and 1 (identical direction)."
      ],
      "metadata": {
        "id": "vzBSo8ZqiM8D"
      }
    },
    {
      "cell_type": "markdown",
      "source": [
        "**Answer 2**"
      ],
      "metadata": {
        "id": "7Ca7r1oW6oVs"
      }
    },
    {
      "cell_type": "markdown",
      "source": [
        "**Answer 2.1**"
      ],
      "metadata": {
        "id": "pCT7QOgH6rXH"
      }
    },
    {
      "cell_type": "code",
      "source": [
        "# convert newtime column into a date only column\n",
        "\n",
        "joined_df = joined_df.withColumn(\"newtime_date\", to_date(col(\"newtime\")))\n",
        "\n",
        "# aggregate total reviews per day (count rows per day)\n",
        "daily_counts_spark = joined_df.groupBy(\"newtime_date\").count().withColumnRenamed(\"count\", \"review_count\")\n",
        "\n",
        "# inspect a few rows on the new time date column\n",
        "display(daily_counts_spark.orderBy(\"newtime_date\").limit(10))\n",
        "\n",
        "\n",
        "# convert the spark data frame into a pandas df\n",
        "daily_counts_pd = daily_counts_spark.toPandas()\n",
        "\n",
        "# Ensure the column names the right types\n",
        "daily_counts_pd.rename(columns={\"newtime_date\": \"review_time\"}, inplace=True)\n",
        "daily_counts_pd[\"review_time\"] = pd.to_datetime(daily_counts_pd[\"review_time\"]).dt.normalize()\n",
        "daily_counts_pd = daily_counts_pd.sort_values(\"review_time\").reset_index(drop=True)\n",
        "\n",
        "\n",
        "#create a continuous daily time series and impute missing days with the mean\n",
        "# Create full date range from min to max\n",
        "min_date = daily_counts_pd[\"review_time\"].min()\n",
        "max_date = daily_counts_pd[\"review_time\"].max()\n",
        "full_range = pd.date_range(start=min_date, end=max_date, freq=\"D\")\n",
        "\n",
        "# Reindex to full range and compute mean for imputation\n",
        "daily_series = daily_counts_pd.set_index(\"review_time\")[\"review_count\"].reindex(full_range)\n",
        "\n",
        "# Compute mean reviews per day using the whole original counts\n",
        "# compute mean = total reviews / total calendar days in the full range.\n",
        "total_reviews = daily_counts_pd[\"review_count\"].sum()\n",
        "total_days = len(full_range)\n",
        "mean_reviews_imputation = total_reviews / total_days\n",
        "\n",
        "# Fill missing days with the mean value\n",
        "imputed_ts = daily_series.fillna(mean_reviews_imputation)\n",
        "imputed_ts.index.name = \"review_time\"\n",
        "imputed_ts.name = \"review_count\"\n",
        "imputed_ts = imputed_ts.astype(float)\n",
        "\n",
        " # flag frequency for decomposition\n",
        "imputed_ts.index.freq = \"D\"\n",
        "\n",
        "print(\"--- Imputation summary ---\")\n",
        "print(f\"Min date: {min_date}, Max date: {max_date}, Total days: {total_days}\")\n",
        "print(f\"Total reviews (original aggregated): {total_reviews}\")\n",
        "print(f\"Imputation value (mean reviews/day): {mean_reviews_imputation:.4f}\")\n",
        "print(f\"Original observed days: {len(daily_counts_pd)}, Missing days filled: {total_days - len(daily_counts_pd)}\")\n",
        "\n",
        "#Seasonal decomposition - additive\n",
        "# weekly seasonality\n",
        "period = 7\n",
        "min_required = 2 * period\n",
        "\n",
        "if len(imputed_ts) >= min_required:\n",
        "    decomposition = seasonal_decompose(imputed_ts, model=\"additive\", period=period)\n",
        "    decomposed_used_series = imputed_ts  # store for plotting below\n",
        "    used_freq = \"D\"\n",
        "    used_period = period\n",
        "    print(f\"Performing additive decomposition with period={period} on {len(imputed_ts)} daily points.\")\n",
        "else:\n",
        "    #aggregate to weekly sums and try decomposition on weeks\n",
        "    print(f\"Not enough daily observations ({len(imputed_ts)}). Aggregating to weekly and attempting decomposition.\")\n",
        "    weekly = imputed_ts.resample(\"W\").sum()\n",
        "    fallback_period = 4  # 4 weeks ~ monthly seasonality\n",
        "    if len(weekly) >= 2 * fallback_period:\n",
        "        decomposition = seasonal_decompose(weekly, model=\"additive\", period=fallback_period)\n",
        "        decomposed_used_series = weekly\n",
        "        used_freq = \"W\"\n",
        "        used_period = fallback_period\n",
        "        print(f\"Performing additive decomposition with period={fallback_period} on {len(weekly)} weekly points.\")\n",
        "    else:\n",
        "        # If still too short, we will not decompose, but will still show the (aggregated) series\n",
        "        decomposition = None\n",
        "        decomposed_used_series = weekly if \"weekly\" in locals() else imputed_ts\n",
        "        used_freq = \"W\" if \"weekly\" in locals() else \"D\"\n",
        "        used_period = fallback_period if \"weekly\" in locals() else None\n",
        "        print(\"Still not enough points for decomposition. Will show trend-only chart and descriptive stats.\")\n",
        "\n",
        "# Plot decomposition or fallback charts\n",
        "if decomposition is not None:\n",
        "    fig, axes = plt.subplots(4, 1, figsize=(14, 10), sharex=True)\n",
        "    decomposition.observed.plot(ax=axes[0], title=\"Observed (imputed) review counts\")\n",
        "    axes[0].set_ylabel(\"count\")\n",
        "    decomposition.trend.plot(ax=axes[1], title=\"Trend\")\n",
        "    axes[1].set_ylabel(\"count\")\n",
        "    decomposition.seasonal.plot(ax=axes[2], title=f\"Seasonal (period={used_period})\")\n",
        "    axes[2].set_ylabel(\"count\")\n",
        "    decomposition.resid.plot(ax=axes[3], title=\"Residuals\")\n",
        "    axes[3].set_ylabel(\"count\")\n",
        "    plt.tight_layout()\n",
        "    plt.show()\n",
        "else:\n",
        "    plt.figure(figsize=(12,4))\n",
        "    decomposed_used_series.plot(title=\"Review counts (fallback aggregation) — trend-only\")\n",
        "    plt.xlabel(\"Time\")\n",
        "    plt.ylabel(\"count\")\n",
        "    plt.tight_layout()\n",
        "    plt.show()\n",
        "\n",
        "# perform Quick quantitative seasonality check\n",
        "def seasonal_strength(decomp):\n",
        "    \"\"\"\n",
        "    Compute a simple seasonal strength metric:\n",
        "    S = max(0, 1 - Var(resid) / Var(trend + resid))\n",
        "    \"\"\"\n",
        "    resid = decomp.resid.dropna()\n",
        "    trend = decomp.trend.dropna()\n",
        "    # align lengths\n",
        "    common_index = resid.index.intersection(trend.index)\n",
        "    if len(common_index) < 2:\n",
        "        return np.nan\n",
        "    resid_var = np.var(resid.loc[common_index])\n",
        "    tr_plus_res_var = np.var((trend + resid).loc[common_index])\n",
        "    if tr_plus_res_var == 0:\n",
        "        return np.nan\n",
        "    return max(0.0, 1.0 - resid_var / tr_plus_res_var)\n",
        "\n",
        "if decomposition is not None:\n",
        "    s_strength = seasonal_strength(decomposition)\n",
        "    print(f\"Seasonal strength (0-1 heuristic): {s_strength:.3f}\")\n",
        "    # Print seasonal summary: peak day-of-week if daily decomposition\n",
        "    seasonal = decomposition.seasonal\n",
        "    if used_freq == \"D\" and used_period == 7:\n",
        "        # find day-of-week effect: map index to weekday name, aggregate by weekday\n",
        "        seasonal_df = seasonal.reset_index()\n",
        "        seasonal_df.columns = [\"review_time\", \"seasonal\"]\n",
        "        seasonal_df[\"weekday\"] = seasonal_df[\"review_time\"].dt.day_name()\n",
        "        weekday_avg = seasonal_df.groupby(\"weekday\")[\"seasonal\"].mean().reindex(\n",
        "            [\"Monday\",\"Tuesday\",\"Wednesday\",\"Thursday\",\"Friday\",\"Saturday\",\"Sunday\"]\n",
        "        )\n",
        "        print(\"\\nWeekly seasonal component average by weekday (higher -> positive seasonal uplift):\")\n",
        "        print(weekday_avg.round(3))\n",
        "    else:\n",
        "        print(\"Seasonal component summary (first 10 values):\")\n",
        "        print(seasonal.head(10).round(3))\n",
        "else:\n",
        "    print(\"Decomposition not available; no seasonal strength computed.\")"
      ],
      "metadata": {
        "id": "pC7vBeX5RAke"
      },
      "execution_count": null,
      "outputs": []
    },
    {
      "cell_type": "markdown",
      "source": [
        "**Answer 2.2**"
      ],
      "metadata": {
        "id": "1K0CuL1MBHzS"
      }
    },
    {
      "cell_type": "code",
      "source": [
        "# ARIMA grid search for best (p,d,q) based on MAE\n",
        "\n",
        "n_total = len(imputed_ts)\n",
        "if n_total < 10:\n",
        "    print(f\"Warning: only {n_total} observations available. ARIMA models might be unreliable still attempt grid search.\")\n",
        "\n",
        "# Time-based train/test split (80% train, 20% test) — use last 20% as test\n",
        "test_frac = 0.2\n",
        "n_test = max(1, int(round(n_total * test_frac)))\n",
        "n_train = n_total - n_test\n",
        "\n",
        "train_ts = imputed_ts.iloc[:n_train]\n",
        "test_ts  = imputed_ts.iloc[n_train:]\n",
        "\n",
        "print(f\"Total points: {n_total}, Train: {len(train_ts)}, Test: {len(test_ts)}\")\n",
        "\n",
        "# Parameter ranges\n",
        "p_vals = [0, 1, 2]\n",
        "d_vals = [0, 1, 2]\n",
        "q_vals = [0, 1, 2]\n",
        "\n",
        "results = []\n",
        "best_mae = np.inf\n",
        "best_cfg = None\n",
        "best_model = None\n",
        "best_forecast = None\n",
        "\n",
        "# Grid search\n",
        "for p in p_vals:\n",
        "    for d in d_vals:\n",
        "        for q in q_vals:\n",
        "            order = (p, d, q)\n",
        "            try:\n",
        "                # fit ARIMA on train set\n",
        "                model = ARIMA(train_ts, order=order)\n",
        "                fitted = model.fit(method_kwargs={\"warn_convergence\": False})\n",
        "\n",
        "                # forecast horizon equals length of test set\n",
        "                fc = fitted.get_forecast(steps=len(test_ts))\n",
        "                y_pred = fc.predicted_mean\n",
        "                y_true = test_ts\n",
        "\n",
        "                # Align index lengths (sometimes index types need conversion)\n",
        "                y_pred.index = y_true.index\n",
        "\n",
        "                mae = mean_absolute_error(y_true, y_pred)\n",
        "                aic = getattr(fitted, 'aic', np.nan)\n",
        "                bic = getattr(fitted, 'bic', np.nan)\n",
        "\n",
        "                results.append({\n",
        "                    \"p\": p, \"d\": d, \"q\": q,\n",
        "                    \"order\": order,\n",
        "                    \"mae\": mae,\n",
        "                    \"aic\": aic,\n",
        "                    \"bic\": bic\n",
        "                })\n",
        "\n",
        "                print(f\"Tested ARIMA{order} -> MAE={mae:.4f}, AIC={aic:.1f}\")\n",
        "\n",
        "                if mae < best_mae:\n",
        "                    best_mae = mae\n",
        "                    best_cfg = order\n",
        "                    best_model = fitted\n",
        "                    best_forecast = y_pred.copy()\n",
        "            except Exception as e:\n",
        "                # model failed to converge or other numerical issue; record NaN\n",
        "                print(f\"ARIMA{order} failed: {e}\")\n",
        "                results.append({\n",
        "                    \"p\": p, \"d\": d, \"q\": q,\n",
        "                    \"order\": order,\n",
        "                    \"mae\": np.nan,\n",
        "                    \"aic\": np.nan,\n",
        "                    \"bic\": np.nan,\n",
        "                    \"error\": str(e)\n",
        "                })\n",
        "\n",
        "# results -> DataFrame\n",
        "results_df = pd.DataFrame(results).sort_values(\"mae\", na_position=\"last\")\n",
        "print(\"\\n--- Grid search complete ---\")\n",
        "print(results_df[[\"order\", \"mae\", \"aic\", \"bic\"]].head(10))\n",
        "\n",
        "if best_cfg is None:\n",
        "    raise RuntimeError(\"No successful ARIMA models were fit. Check data length and stationarity.\")\n",
        "\n",
        "print(f\"\\nBest ARIMA order by MAE: {best_cfg} with MAE = {best_mae:.4f}\")\n",
        "\n",
        "# Plot predictions of the best model vs test\n",
        "plt.figure(figsize=(12,5))\n",
        "plt.plot(train_ts.index, train_ts.values, label=\"Train\", lw=1.5)\n",
        "plt.plot(test_ts.index, test_ts.values, label=\"Test (actual)\", lw=2)\n",
        "plt.plot(best_forecast.index, best_forecast.values, label=f\"ARIMA{best_cfg} forecast\", lw=2)\n",
        "plt.title(f\"Best ARIMA{best_cfg} forecast vs actual — MAE={best_mae:.4f}\")\n",
        "plt.legend()\n",
        "plt.xlabel(\"Date\")\n",
        "plt.ylabel(\"Review count\")\n",
        "plt.tight_layout()\n",
        "plt.show()\n",
        "\n",
        "# re-fit best model on full data and forecast future horizon (e.g., 30 days)\n",
        "full_model = ARIMA(imputed_ts, order=best_cfg).fit(method_kwargs={\"warn_convergence\": False})\n",
        "horizon = 30  # forecast next 30 days\n",
        "fc_full = full_model.get_forecast(steps=horizon)\n",
        "fc_index = pd.date_range(imputed_ts.index[-1] + pd.Timedelta(days=1), periods=horizon, freq=imputed_ts.index.freq or 'D')\n",
        "fc_mean = pd.Series(fc_full.predicted_mean.values, index=fc_index)\n",
        "\n",
        "plt.figure(figsize=(12,5))\n",
        "plt.plot(imputed_ts.index, imputed_ts.values, label=\"Observed (full series)\")\n",
        "plt.plot(fc_mean.index, fc_mean.values, label=f\"Forecast next {horizon} days (ARIMA{best_cfg})\")\n",
        "plt.title(\"Forecast on full series\")\n",
        "plt.legend()\n",
        "plt.tight_layout()\n",
        "plt.show()\n",
        "\n",
        "# Save results table for the report\n",
        "results_df.to_csv(\"arima_gridsearch_results.csv\", index=False)\n",
        "print(\"Saved grid search results to arima_gridsearch_results.csv\")\n"
      ],
      "metadata": {
        "id": "HhM3c1N9BVbN"
      },
      "execution_count": null,
      "outputs": []
    },
    {
      "cell_type": "markdown",
      "source": [
        "**Answer 2.3**"
      ],
      "metadata": {
        "id": "7RcKzCS2vPra"
      }
    },
    {
      "cell_type": "code",
      "source": [
        "#function to download pdf file from github\n",
        "def download_github_pdf(raw_url, local_filename):\n",
        "    \"\"\"\n",
        "    Downloads a file from a public GitHub 'raw' URL.\n",
        "\n",
        "    Args:\n",
        "        raw_url (str): The 'raw.githubusercontent.com' URL of the file.\n",
        "        local_filename (str): The name to save the file as locally.\n",
        "    \"\"\"\n",
        "    try:\n",
        "        # Fetch the content from the raw URL\n",
        "        print(f\"Attempting to download file from: {raw_url}\")\n",
        "\n",
        "        # Use stream=True to handle potentially large files\n",
        "        response = requests.get(raw_url, stream=True)\n",
        "\n",
        "        # Raise an exception for bad status codes (4xx or 5xx)\n",
        "        response.raise_for_status()\n",
        "\n",
        "        # Save the content to the local file\n",
        "        with open(local_filename, 'wb') as file:\n",
        "            # Iterate over the response content in chunks\n",
        "            for chunk in response.iter_content(chunk_size=8192):\n",
        "                file.write(chunk)\n",
        "\n",
        "        print(f\"\\n Successfully downloaded and saved to: {os.path.abspath(local_filename)}\")\n",
        "        print(f\"File size: {os.path.getsize(local_filename) / (1024*1024):.2f} MB\")\n",
        "\n",
        "    except requests.exceptions.HTTPError as e:\n",
        "        print(f\"\\n Error downloading file: HTTP Error {response.status_code}\")\n",
        "        print(f\"Details: {e}\")\n",
        "        print(\"Note: This often means the file or repository is private, or the URL is incorrect.\")\n",
        "    except requests.exceptions.RequestException as e:\n",
        "        print(f\"\\n An error occurred during the request: {e}\")\n",
        "    except Exception as e:\n",
        "        print(f\"\\n An unexpected error occurred: {e}\")\n",
        "\n",
        "\n",
        "# Use the RAW URL for downloading file contents\n",
        "raw_file = \"https://raw.githubusercontent.com/dnmuturi/SIT742/main/UA_Indigenous_Strategy_Annual_Report_May-2022.pdf\"\n",
        "\n",
        "# retain the same name of the downloaded file\n",
        "downloaded_file = \"UA_Indigenous_Strategy_Annual_Report_May-2022.pdf\"\n",
        "\n",
        "# Execute the function to download the pdf file\n",
        "download_github_pdf(raw_file, downloaded_file)"
      ],
      "metadata": {
        "id": "rfzA_ijkdySi"
      },
      "execution_count": null,
      "outputs": []
    },
    {
      "cell_type": "code",
      "source": [
        "!pip install pdfplumber"
      ],
      "metadata": {
        "id": "nxB_EnmNy0_-"
      },
      "execution_count": null,
      "outputs": []
    },
    {
      "cell_type": "code",
      "source": [
        "#load needed libraries\n",
        "from pathlib import Path\n",
        "import json\n",
        "import pdfplumber\n",
        "from matplotlib.ticker import FuncFormatter"
      ],
      "metadata": {
        "id": "Ht0vOYBYzx20"
      },
      "execution_count": null,
      "outputs": []
    },
    {
      "cell_type": "code",
      "source": [
        "#define path for downloaded PDF file and folder for csv file oututs\n",
        "PDF_PATH = Path(\"/content/UA_Indigenous_Strategy_Annual_Report_May-2022.pdf\")\n",
        "OUT_DIR = Path(\"/content\")\n",
        "OUT_DIR.mkdir(parents=True, exist_ok=True)\n",
        "\n",
        "#check if pdf file exists in the /content folder\n",
        "assert PDF_PATH.exists(), f\"PDF not found at {PDF_PATH}. Please upload it to /content/.\""
      ],
      "metadata": {
        "id": "b4tibjKR0r5n"
      },
      "execution_count": null,
      "outputs": []
    },
    {
      "cell_type": "code",
      "source": [
        "# Extract text from PDF ---\n",
        "with pdfplumber.open(str(PDF_PATH)) as pdf:\n",
        "    pages_text = [p.extract_text() or \"\" for p in pdf.pages]\n",
        "    full_text = \"\\n\".join(pages_text)\n",
        "\n",
        "print(f\"Extracted text length: {len(full_text)} characters, pages: {len(pages_text)}\")"
      ],
      "metadata": {
        "id": "6ofjXbvB5UI-"
      },
      "execution_count": null,
      "outputs": []
    },
    {
      "cell_type": "code",
      "source": [
        "# Extract data from figures\n",
        "#  Figure 1: Indigenous enrolments 2006–2020 ---\n",
        "fig1_idx = full_text.find(\"Figure 1:\")\n",
        "fig2_idx = full_text.find(\"Figure 2:\")\n",
        "fig1_block = full_text[fig1_idx:fig2_idx] if (fig1_idx != -1 and fig2_idx != -1) else full_text\n",
        "\n",
        "nums_candidate = re.findall(r'\\d{1,2},\\d{3}|(?<!,)\\b\\d{4,5}\\b', fig1_block)\n",
        "nums_clean = [int(n.replace(',', '')) for n in nums_candidate]\n",
        "enrol_numbers = [n for n in nums_clean if 8000 <= n <= 30000]\n",
        "\n",
        "years = list(range(2006, 2021))\n",
        "if len(enrol_numbers) >= 15:\n",
        "    enrol15 = enrol_numbers[:15][::-1]\n",
        "    enrol_df = pd.DataFrame({\"year\": years, \"indigenous_enrolments\": enrol15})\n",
        "    print(\"Indigenous enrolments extracted successfully:\")\n",
        "    display(enrol_df)\n",
        "else:\n",
        "    print(f\"Could not extract 15 enrolment numbers (found {len(enrol_numbers)}):\")\n",
        "    print(enrol_numbers)\n",
        "    enrol_df = None"
      ],
      "metadata": {
        "id": "73bvvCdS66o0"
      },
      "execution_count": null,
      "outputs": []
    },
    {
      "cell_type": "code",
      "source": [
        "# extract data from Figure 2 i.e. Share % 2006–2020 ---\n",
        "\n",
        "fig2_idx = full_text.find(\"Figure 2:\")\n",
        "fig3_idx = full_text.find(\"Figure 3:\")\n",
        "fig2_block = full_text[fig2_idx:fig3_idx] if (fig2_idx != -1 and fig3_idx != -1) else \"\"\n",
        "percs = re.findall(r'\\d+\\.\\d+%', fig2_block)\n",
        "percs_clean = [float(p.replace('%','')) for p in percs]\n",
        "\n",
        "if len(percs_clean) >= 15:\n",
        "    percs15 = percs_clean[:15][::-1]\n",
        "    share_df = pd.DataFrame({\"year\": years, \"share_percent\": percs15})\n",
        "    print(\"Share percentages extracted successfully:\")\n",
        "    display(share_df)\n",
        "else:\n",
        "    print(f\"Could not extract 15 share percentages (found {len(percs_clean)}):\")\n",
        "    print(percs_clean)\n",
        "    share_df = None\n"
      ],
      "metadata": {
        "id": "Cwqq75HB7oWc"
      },
      "execution_count": null,
      "outputs": []
    },
    {
      "cell_type": "code",
      "source": [
        "# Extract. Table 1: Indigenous enrolments, by course level, 2008 and 2020\n",
        "course_names = [\n",
        "    'Postgraduate research', 'Postgraduate coursework', 'Bachelor',\n",
        "    'Sub-bachelor', 'Enabling', 'Non-award', 'All courses'\n",
        "]\n",
        "course_rows = []\n",
        "for name in course_names:\n",
        "    idx = full_text.find(name)\n",
        "    if idx != -1:\n",
        "        snippet = full_text[idx: idx + 300]\n",
        "        nums = re.findall(r'\\d{1,2},\\d{3}|\\b\\d{1,5}\\b', snippet)\n",
        "        nums_clean = [int(n.replace(',', '')) for n in nums if re.search(r'\\d', n)]\n",
        "        val2008 = nums_clean[0] if len(nums_clean) >= 1 else np.nan\n",
        "        val2020 = nums_clean[1] if len(nums_clean) >= 2 else np.nan\n",
        "        course_rows.append({'course_level': name, '2008': val2008, '2020': val2020})\n",
        "    else:\n",
        "        course_rows.append({'course_level': name, '2008': np.nan, '2020': np.nan})\n",
        "\n",
        "table1_df = pd.DataFrame(course_rows, columns=['course_level', '2008', '2020'])\n",
        "print(\"table 1: Course-level data (2008 vs 2020):\")\n",
        "display(table1_df)"
      ],
      "metadata": {
        "id": "CAsjPsvx99sC"
      },
      "execution_count": null,
      "outputs": []
    },
    {
      "cell_type": "code",
      "source": [
        "# Extract Figure 11: Nine-year completion rates of commencing Indigenous and non-Indigenous Bachelor degree students\n",
        "cohort_pattern = re.compile(r'((?:\\d+\\.\\d+%\\s+){6,}\\d+\\.\\d+%)')\n",
        "cohort_match = cohort_pattern.search(full_text)\n",
        "if cohort_match:\n",
        "    cohort_percs = [float(x.replace('%','')) for x in re.split(r'\\s+', cohort_match.group(1).strip())]\n",
        "    years_cohort = list(range(2005, 2005 + len(cohort_percs)))\n",
        "    cohort_df = pd.DataFrame({'cohort_start_year': years_cohort, 'nine_year_completion_percent': cohort_percs})\n",
        "    print(\"Nine-year completion rates extracted:\")\n",
        "    display(cohort_df)\n",
        "else:\n",
        "    print(\"No nine-year completion data found.\")\n",
        "    cohort_df = None"
      ],
      "metadata": {
        "id": "xRvxZ__w-Yiv"
      },
      "execution_count": null,
      "outputs": []
    },
    {
      "cell_type": "code",
      "source": [
        "# Extract Staff figures ---\n",
        "staff_dict = {}\n",
        "m = re.search(r'from\\s+(\\d{1,3}(?:,\\d{3})?)\\s+staff\\s+to\\s+(\\d{1,3}(?:,\\d{3})?)\\s+staff\\s+in\\s+2020', full_text, re.I)\n",
        "if m:\n",
        "    staff_dict['total_staff_2005'] = int(m.group(1).replace(',',''))\n",
        "    staff_dict['total_staff_2020'] = int(m.group(2).replace(',',''))\n",
        "\n",
        "m2 = re.search(r'declining by 3\\.2 per cent to\\s+(\\d{1,3}(?:,\\d{3})?)\\s+staff in 2021', full_text, re.I)\n",
        "if m2:\n",
        "    staff_dict['total_staff_2021'] = int(m2.group(1).replace(',',''))\n",
        "\n",
        "m3 = re.search(r'from\\s+(\\d{1,3}(?:,\\d{3})?)\\s+in\\s+2005\\s+to\\s+(\\d{1,3}(?:,\\d{3})?)\\s+in\\s+2021', full_text, re.I)\n",
        "if m3:\n",
        "    staff_dict['ind_academic_2005'] = int(m3.group(1).replace(',',''))\n",
        "    staff_dict['ind_academic_2021'] = int(m3.group(2).replace(',',''))\n",
        "\n",
        "if staff_dict:\n",
        "    staff_df = pd.DataFrame([staff_dict])\n",
        "    print(\"Staff figures extracted:\")\n",
        "    display(staff_df)\n",
        "else:\n",
        "    print(\"No staff data found.\")\n",
        "    staff_df = None"
      ],
      "metadata": {
        "id": "tKHExgfG-7P2"
      },
      "execution_count": null,
      "outputs": []
    },
    {
      "cell_type": "code",
      "source": [
        "# Plotting graphs\n",
        "if enrol_df is not None:\n",
        "    plt.figure(figsize=(10,5))\n",
        "    plt.plot(enrol_df['year'], enrol_df['indigenous_enrolments'], marker='o', label='Enrolments')\n",
        "    plt.title('Indigenous Enrolments 2006–2020')\n",
        "    plt.xlabel('Year'); plt.ylabel('Enrolments'); plt.grid(True); plt.legend()\n",
        "    plt.show()\n",
        "\n",
        "if share_df is not None:\n",
        "    slope, intercept = np.polyfit(share_df['year'], share_df['share_percent'], 1)\n",
        "    plt.figure(figsize=(10,5))\n",
        "    plt.plot(share_df['year'], share_df['share_percent'], marker='o', label='Share %')\n",
        "    plt.plot(share_df['year'], intercept + slope*np.array(share_df['year']), '--', label='Trend')\n",
        "    plt.title('Share of Indigenous Enrolments (%) 2006–2020')\n",
        "    plt.xlabel('Year'); plt.ylabel('Share %'); plt.grid(True); plt.legend()\n",
        "    plt.show()\n",
        "\n",
        "if cohort_df is not None:\n",
        "    plt.figure(figsize=(8,4))\n",
        "    plt.plot(cohort_df['cohort_start_year'], cohort_df['nine_year_completion_percent'], marker='o')\n",
        "    plt.title('Nine-Year Completion Rates (2005–2012 Cohorts)')\n",
        "    plt.xlabel('Cohort Start Year'); plt.ylabel('Completion %'); plt.grid(True)\n",
        "    plt.show()\n"
      ],
      "metadata": {
        "id": "hm-KqOnO4WWY"
      },
      "execution_count": null,
      "outputs": []
    },
    {
      "cell_type": "markdown",
      "source": [
        "## **References**\n",
        "\n",
        "1. Su, X., & Khoshgoftaar, T. M. (2009). A Survey of Collaborative Filtering Techniques. Advances in Artificial Intelligence, vol. 2009, Article ID 421425.\n",
        "\n",
        "2. Tan, P.N., Steinbach, M. and Kumar, V., 2019. Introduction to Data Mining. 2nd ed. Harlow: Pearson Education, p.337-341.\n",
        "\n",
        "3. Huang, A., 2008. Similarity measures for text document clustering. Proceedings of the Sixth New Zealand Computer Science Research Student Conference (NZCSRSC), Christchurch, New Zealand, pp.49–56.\n",
        "\n",
        "4. Zhou, Y., Wilkinson, D., Schreiber, R. and Pan, R., 2008. Large-Scale Parallel Collaborative Filtering for the Netflix Prize. In: Proceedings of the 4th International Conference on Algorithmic Aspects in Information and Management (AAIM 2008). Berlin: Springer, pp.337–348."
      ],
      "metadata": {
        "id": "LowQB0czRJ0X"
      }
    }
  ]
}