{
  "nbformat": 4,
  "nbformat_minor": 0,
  "metadata": {
    "colab": {
      "provenance": [],
      "authorship_tag": "ABX9TyNWtK84Vc0zBPvuLrXMKh/y",
      "include_colab_link": true
    },
    "kernelspec": {
      "name": "python3",
      "display_name": "Python 3"
    },
    "language_info": {
      "name": "python"
    }
  },
  "cells": [
    {
      "cell_type": "markdown",
      "metadata": {
        "id": "view-in-github",
        "colab_type": "text"
      },
      "source": [
        "<a href=\"https://colab.research.google.com/github/dnmuturi/SIT742/blob/main/SIT742Task2code.ipynb\" target=\"_parent\"><img src=\"https://colab.research.google.com/assets/colab-badge.svg\" alt=\"Open In Colab\"/></a>"
      ]
    },
    {
      "cell_type": "markdown",
      "source": [
        "**END TERM ASSESSMENT**\n",
        "\n",
        " **GROUP C30 Members**\n",
        "\n",
        "1. David Muturi - S225177509\n",
        "2. Nhlanhla Matukane\n",
        "3. Vincent Nwobi"
      ],
      "metadata": {
        "id": "SzkIZK2xplg8"
      }
    },
    {
      "cell_type": "markdown",
      "source": [
        "### **Part 1**"
      ],
      "metadata": {
        "id": "cdkp7fJMbMMd"
      }
    },
    {
      "cell_type": "markdown",
      "source": [
        "**Answer 1.1**"
      ],
      "metadata": {
        "id": "G0MnsqpJbQ5r"
      }
    },
    {
      "cell_type": "code",
      "execution_count": null,
      "metadata": {
        "id": "0W0lVSZypj7B"
      },
      "outputs": [],
      "source": []
    }
  ]
}