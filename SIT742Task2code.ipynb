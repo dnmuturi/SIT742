{
  "nbformat": 4,
  "nbformat_minor": 0,
  "metadata": {
    "colab": {
      "provenance": [],
      "authorship_tag": "ABX9TyPHKJ6mRSKqCnX23SaGq7lI",
      "include_colab_link": true
    },
    "kernelspec": {
      "name": "python3",
      "display_name": "Python 3"
    },
    "language_info": {
      "name": "python"
    }
  },
  "cells": [
    {
      "cell_type": "markdown",
      "metadata": {
        "id": "view-in-github",
        "colab_type": "text"
      },
      "source": [
        "<a href=\"https://colab.research.google.com/github/dnmuturi/SIT742/blob/main/SIT742Task2code.ipynb\" target=\"_parent\"><img src=\"https://colab.research.google.com/assets/colab-badge.svg\" alt=\"Open In Colab\"/></a>"
      ]
    },
    {
      "cell_type": "markdown",
      "source": [
        "**END TERM ASSIGNMENT**\n",
        "\n",
        " **GROUP C30 Members**\n",
        "\n",
        "1. David Muturi - S225177509\n",
        "2. Nhlanhla Matukane\n",
        "3. Vincent Nwobi"
      ],
      "metadata": {
        "id": "SzkIZK2xplg8"
      }
    },
    {
      "cell_type": "markdown",
      "source": [
        "### **Part 1**"
      ],
      "metadata": {
        "id": "cdkp7fJMbMMd"
      }
    },
    {
      "cell_type": "markdown",
      "source": [
        "**Answer 1.1**"
      ],
      "metadata": {
        "id": "G0MnsqpJbQ5r"
      }
    },
    {
      "cell_type": "code",
      "metadata": {
        "colab": {
          "base_uri": "https://localhost:8080/"
        },
        "id": "53955062",
        "outputId": "b65cd44e-6457-47be-a459-6cb72a94e78f"
      },
      "source": [
        "#install the spark library\n",
        "!pip install pyspark"
      ],
      "execution_count": 1,
      "outputs": [
        {
          "output_type": "stream",
          "name": "stdout",
          "text": [
            "Requirement already satisfied: pyspark in /usr/local/lib/python3.12/dist-packages (3.5.1)\n",
            "Requirement already satisfied: py4j==0.10.9.7 in /usr/local/lib/python3.12/dist-packages (from pyspark) (0.10.9.7)\n"
          ]
        }
      ]
    },
    {
      "cell_type": "code",
      "source": [
        "#load necessary libraries\n",
        "from google.colab import drive\n",
        "from pyspark.sql import SparkSession\n",
        "from pyspark.sql.types import DoubleType\n",
        "from pyspark.sql.functions import col, from_unixtime, to_date, when, lit, trim\n",
        "from google.colab import drive"
      ],
      "metadata": {
        "id": "C4Ktnb9OqiWo"
      },
      "execution_count": 2,
      "outputs": []
    },
    {
      "cell_type": "code",
      "source": [
        "# Mount Google Drive\n",
        "drive.mount('/content/drive')\n",
        "# Define the path to the CSV file\n",
        "csv_path = '/content/drive/My Drive/SIT742/review.csv'"
      ],
      "metadata": {
        "colab": {
          "base_uri": "https://localhost:8080/"
        },
        "id": "_cA9x7Pi0Wc-",
        "outputId": "03f2ca49-6cd3-4f4e-831c-b92eb7c10d75"
      },
      "execution_count": 3,
      "outputs": [
        {
          "output_type": "stream",
          "name": "stdout",
          "text": [
            "Mounted at /content/drive\n"
          ]
        }
      ]
    },
    {
      "cell_type": "code",
      "source": [
        "# Create a SparkSession\n",
        "spark = SparkSession.builder.appName(\"ReadCSVCorrectly\").getOrCreate()\n",
        "# Read the CSV file into a PySpark DataFrame with options to improve parsing\n",
        "try:\n",
        "    df_review= spark.read.csv(\n",
        "        csv_path,\n",
        "        header=True,\n",
        "        inferSchema=True,\n",
        "        sep=',',  # Assuming comma is the delimiter\n",
        "        quote='\"', # Assuming double quotes are used for quoting fields\n",
        "        escape='\"', # Assuming double quotes are escaped by double quotes\n",
        "        multiLine=True # Set to true if text column contains newline characters\n",
        "    )\n",
        "    print(\"CSV file loaded successfully!\")\n",
        "    df_review.show(5, truncate=False) # Display the first five rows without truncating\n",
        "except Exception as e:\n",
        "    print(f\"An error occurred: {e}\")"
      ],
      "metadata": {
        "colab": {
          "base_uri": "https://localhost:8080/"
        },
        "id": "Lx7OlPqe6TN_",
        "outputId": "bce289e7-2807-4aac-8065-27912133cc7a"
      },
      "execution_count": 4,
      "outputs": [
        {
          "output_type": "stream",
          "name": "stdout",
          "text": [
            "CSV file loaded successfully!\n",
            "+---------------------+-----------------+-------------+------+------------------------------------------------------------------------------------------------------------------------------------------------------------------------------------------------------------------------------------------------------------------------------------------------------------------------------------------------------------------------------------------------------------------------------------------------------------------------------------------------------------------------------------------------------------------------------------------------------------------------------------------------------------------------------------------------------------------------------------------------------------------------+----+----+-------------------------------------+\n",
            "|user_id              |name             |time         |rating|text                                                                                                                                                                                                                                                                                                                                                                                                                                                                                                                                                                                                                                                                                                                                                                    |pics|resp|gmap_id                              |\n",
            "+---------------------+-----------------+-------------+------+------------------------------------------------------------------------------------------------------------------------------------------------------------------------------------------------------------------------------------------------------------------------------------------------------------------------------------------------------------------------------------------------------------------------------------------------------------------------------------------------------------------------------------------------------------------------------------------------------------------------------------------------------------------------------------------------------------------------------------------------------------------------+----+----+-------------------------------------+\n",
            "|1.091298048426862E20 |Nicki Gore       |1566331951619|5     |We always stay here when in Valdez for silver salmon fishing. The elderly couple that run it are amazing to talk to, extremely helpful. The campsites are very well maintained.                                                                                                                                                                                                                                                                                                                                                                                                                                                                                                                                                                                         |NULL|NULL|0x56b646ed2220b77f:0xd8975e316de80952|\n",
            "|1.1324092640575896E20|Allen Ratliff    |1504917982385|5     |Great campground for the price. Nice hot unlimited showers, laundy, and  spacious wooded lots. Full hook ups. Late check in available.                                                                                                                                                                                                                                                                                                                                                                                                                                                                                                                                                                                                                                  |NULL|NULL|0x56b646ed2220b77f:0xd8975e316de80952|\n",
            "|1.1304483789114126E20|Jonathan Tringali|1474765901185|4     |We tent camped here for 2 nights while exploring Valdez. The center of the campground was in the open and there are treed sites around the edges. Don't expect lower foliage separating the sites. Still this is much nicer than the other RV parking lots in town which seemed wide open.\\n\\nThere is a bath house with 1 set of coin operated washer/dryer, 2 restrooms (sink toilet) and 2 shower rooms (sink, toilet, shower). The hot water will run out after a few showers. They provide floor mats towels for you to use which is nice, but they lack vent fans to remove moisture so it is prone to mold.\\n\\nWi-Fi didn't reach our site on the back edge of the campground. Overall we were happy with our stay at this campground and would stay there again.|NULL|NULL|0x56b646ed2220b77f:0xd8975e316de80952|\n",
            "|1.1032915514759202E20|S Blad           |1472858535682|4     |This place is just a few miles outside Valdez, which I thought was a bonus.  It was surrounded by woods and had some trees throughout the park for shade.  The bathrooms were clean and the showers were nice.  The dump station was a little underwhelming.  Overall, I'm really glad I stayed here and not one of the gravel lots in valdez.                                                                                                                                                                                                                                                                                                                                                                                                                          |NULL|NULL|0x56b646ed2220b77f:0xd8975e316de80952|\n",
            "|1.08989634908602E20  |Daniel Formoso   |1529649811341|5     |Probably the nicest and cleanest campground we've been to in Alaska.                                                                                                                                                                                                                                                                                                                                                                                                                                                                                                                                                                                                                                                                                                    |NULL|NULL|0x56b646ed2220b77f:0xd8975e316de80952|\n",
            "+---------------------+-----------------+-------------+------+------------------------------------------------------------------------------------------------------------------------------------------------------------------------------------------------------------------------------------------------------------------------------------------------------------------------------------------------------------------------------------------------------------------------------------------------------------------------------------------------------------------------------------------------------------------------------------------------------------------------------------------------------------------------------------------------------------------------------------------------------------------------+----+----+-------------------------------------+\n",
            "only showing top 5 rows\n",
            "\n"
          ]
        }
      ]
    },
    {
      "cell_type": "code",
      "source": [
        "#display total no of rows\n",
        "print(df_review.count())"
      ],
      "metadata": {
        "colab": {
          "base_uri": "https://localhost:8080/"
        },
        "id": "ti5jdwz9672C",
        "outputId": "fa4ab00e-37bc-484e-988d-a0b4e0795588"
      },
      "execution_count": 5,
      "outputs": [
        {
          "output_type": "stream",
          "name": "stdout",
          "text": [
            "521515\n"
          ]
        }
      ]
    },
    {
      "cell_type": "code",
      "source": [
        "# show data tpes\n",
        "df_review.printSchema()"
      ],
      "metadata": {
        "colab": {
          "base_uri": "https://localhost:8080/"
        },
        "id": "WiMlxprAEUhs",
        "outputId": "1504b109-5c46-45af-9212-383c4ef43fdd"
      },
      "execution_count": 6,
      "outputs": [
        {
          "output_type": "stream",
          "name": "stdout",
          "text": [
            "root\n",
            " |-- user_id: double (nullable = true)\n",
            " |-- name: string (nullable = true)\n",
            " |-- time: long (nullable = true)\n",
            " |-- rating: integer (nullable = true)\n",
            " |-- text: string (nullable = true)\n",
            " |-- pics: string (nullable = true)\n",
            " |-- resp: string (nullable = true)\n",
            " |-- gmap_id: string (nullable = true)\n",
            "\n"
          ]
        }
      ]
    },
    {
      "cell_type": "markdown",
      "source": [
        "**Answer 1.1.1**"
      ],
      "metadata": {
        "id": "oRj2lOE-raGs"
      }
    },
    {
      "cell_type": "code",
      "source": [
        "#function to count rows that are none or null\n",
        "def show_empty_rows(df):\n",
        "  # Filter rows where 'text' column is null or an empty string\n",
        "  null_or_empty_text_count = df.filter(\n",
        "    col(\"text\").isNull() | (trim(col(\"text\")) == \"\")\n",
        "  ).count()\n",
        "  return null_or_empty_text_count"
      ],
      "metadata": {
        "id": "4nA-TOEw_6yz"
      },
      "execution_count": 7,
      "outputs": []
    },
    {
      "cell_type": "code",
      "source": [
        "#show count of empty rows in text field before filling in with no review\n",
        "print(f\"The number of empty rows in the text column before replacing with 'no review' is: {show_empty_rows(df_review)}\")"
      ],
      "metadata": {
        "colab": {
          "base_uri": "https://localhost:8080/"
        },
        "id": "jwc7vMd8CERM",
        "outputId": "b571667a-66a9-46f8-e6de-e0e3fe4c3dca"
      },
      "execution_count": 8,
      "outputs": [
        {
          "output_type": "stream",
          "name": "stdout",
          "text": [
            "The number of empty rows in the text column before replacing with 'no review' is: 223258\n"
          ]
        }
      ]
    },
    {
      "cell_type": "code",
      "source": [
        "# Replace null values with \"No review\"\n",
        "df_review = df_review.fillna({'text': 'no review'})\n",
        "\n",
        "# Replace empty strings (after trimming whitespace) with \"No review\"\n",
        "df_review = df_review.withColumn(\"text\",\n",
        "    when(trim(col(\"text\")) == \"\", lit(\"no review\")).otherwise(col(\"text\"))\n",
        ")\n",
        "\n",
        "# Show the count of text column with  to verify the changes\n",
        "print(f\"The number of empty rows in the text column after replacing with no review is: {show_empty_rows(df_review)}\")\n",
        "\n",
        "# Count rows where the 'text' column is 'no review'\n",
        "no_review_count = df_review.filter(col(\"text\") == \"no review\").count()\n",
        "\n",
        "print(f\"The number of reviews with 'no review' in the text column is: {no_review_count}\")\n"
      ],
      "metadata": {
        "colab": {
          "base_uri": "https://localhost:8080/"
        },
        "id": "xcXbFlC-Arya",
        "outputId": "63432032-9fe6-414b-ad6f-7aa89a0a6cf1"
      },
      "execution_count": 13,
      "outputs": [
        {
          "output_type": "stream",
          "name": "stdout",
          "text": [
            "The number of empty rows in the text column after replacing with no review is: 0\n",
            "The number of reviews with 'no review' in the text column is: 223258\n"
          ]
        }
      ]
    },
    {
      "cell_type": "markdown",
      "source": [
        "**Answer 1.1.2**"
      ],
      "metadata": {
        "id": "PGG6r7-otTdg"
      }
    },
    {
      "cell_type": "code",
      "source": [
        "# Set the time parser policy to legacy to handle potential parsing issues\n",
        "spark.conf.set(\"spark.sql.legacy.timeParserPolicy\", \"LEGACY\")\n",
        "\n",
        "# Convert 'time' from epoch milliseconds to a timestamp, then to a date string\n",
        "df_review = df_review.withColumn(\n",
        "    \"newdate\",\n",
        "    to_date(from_unixtime(col(\"time\") / 1000), \"yyyy-MM-dd\")\n",
        ")\n",
        "\n",
        "# Display the first few rows with the new column\n",
        "df_review.select(\"user_id\",\"name\",\"rating\",\"time\", \"newdate\",\"text\",\"gmap_id\").show(5)"
      ],
      "metadata": {
        "id": "e702ILlLH2oF",
        "colab": {
          "base_uri": "https://localhost:8080/"
        },
        "outputId": "5a76f6c3-6f0f-4bce-f04f-22d21b0d3fe6"
      },
      "execution_count": 10,
      "outputs": [
        {
          "output_type": "stream",
          "name": "stdout",
          "text": [
            "+--------------------+-----------------+------+-------------+----------+--------------------+--------------------+\n",
            "|             user_id|             name|rating|         time|   newdate|                text|             gmap_id|\n",
            "+--------------------+-----------------+------+-------------+----------+--------------------+--------------------+\n",
            "|1.091298048426862E20|       Nicki Gore|     5|1566331951619|2019-08-20|We always stay he...|0x56b646ed2220b77...|\n",
            "|1.132409264057589...|    Allen Ratliff|     5|1504917982385|2017-09-09|Great campground ...|0x56b646ed2220b77...|\n",
            "|1.130448378911412...|Jonathan Tringali|     4|1474765901185|2016-09-25|We tent camped he...|0x56b646ed2220b77...|\n",
            "|1.103291551475920...|           S Blad|     4|1472858535682|2016-09-02|This place is jus...|0x56b646ed2220b77...|\n",
            "| 1.08989634908602E20|   Daniel Formoso|     5|1529649811341|2018-06-22|Probably the nice...|0x56b646ed2220b77...|\n",
            "+--------------------+-----------------+------+-------------+----------+--------------------+--------------------+\n",
            "only showing top 5 rows\n",
            "\n"
          ]
        }
      ]
    },
    {
      "cell_type": "markdown",
      "source": [
        "**Answer 1.2**"
      ],
      "metadata": {
        "id": "s9SOA54GxrVX"
      }
    },
    {
      "cell_type": "code",
      "source": [],
      "metadata": {
        "id": "aPzG0khxewGJ"
      },
      "execution_count": 10,
      "outputs": []
    }
  ]
}