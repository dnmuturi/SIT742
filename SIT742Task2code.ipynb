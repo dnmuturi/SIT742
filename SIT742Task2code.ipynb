{
  "nbformat": 4,
  "nbformat_minor": 0,
  "metadata": {
    "colab": {
      "provenance": [],
      "authorship_tag": "ABX9TyOnlDyY82Q4++dCpi2sBzvE",
      "include_colab_link": true
    },
    "kernelspec": {
      "name": "python3",
      "display_name": "Python 3"
    },
    "language_info": {
      "name": "python"
    }
  },
  "cells": [
    {
      "cell_type": "markdown",
      "metadata": {
        "id": "view-in-github",
        "colab_type": "text"
      },
      "source": [
        "<a href=\"https://colab.research.google.com/github/dnmuturi/SIT742/blob/main/SIT742Task2code.ipynb\" target=\"_parent\"><img src=\"https://colab.research.google.com/assets/colab-badge.svg\" alt=\"Open In Colab\"/></a>"
      ]
    },
    {
      "cell_type": "markdown",
      "source": [
        "**END TERM ASSESSMENT**\n",
        "\n",
        " **GROUP C30 Members**\n",
        "\n",
        "1. David Muturi - S225177509\n",
        "2. Nhlanhla Matukane\n",
        "3. Vincent Nwobi"
      ],
      "metadata": {
        "id": "SzkIZK2xplg8"
      }
    },
    {
      "cell_type": "markdown",
      "source": [
        "### **Part 1**"
      ],
      "metadata": {
        "id": "cdkp7fJMbMMd"
      }
    },
    {
      "cell_type": "markdown",
      "source": [
        "**Answer 1.1**"
      ],
      "metadata": {
        "id": "G0MnsqpJbQ5r"
      }
    },
    {
      "cell_type": "code",
      "metadata": {
        "colab": {
          "base_uri": "https://localhost:8080/"
        },
        "id": "53955062",
        "outputId": "9dadd8ac-789b-4bd2-97d2-3493c1cf9c98"
      },
      "source": [
        "#install the spark library\n",
        "!pip install pyspark"
      ],
      "execution_count": 1,
      "outputs": [
        {
          "output_type": "stream",
          "name": "stdout",
          "text": [
            "Requirement already satisfied: pyspark in /usr/local/lib/python3.12/dist-packages (3.5.1)\n",
            "Requirement already satisfied: py4j==0.10.9.7 in /usr/local/lib/python3.12/dist-packages (from pyspark) (0.10.9.7)\n"
          ]
        }
      ]
    },
    {
      "cell_type": "code",
      "source": [
        "#load necessary libraries\n",
        "from google.colab import drive\n",
        "from pyspark.sql import SparkSession\n",
        "from pyspark.sql.functions import col, from_unixtime, to_date, when, lit, trim\n",
        "from google.colab import drive"
      ],
      "metadata": {
        "id": "C4Ktnb9OqiWo"
      },
      "execution_count": 2,
      "outputs": []
    },
    {
      "cell_type": "code",
      "source": [
        "# Mount Google Drive\n",
        "drive.mount('/content/drive')\n",
        "# Define the path to the CSV file\n",
        "csv_path = '/content/drive/My Drive/SIT742/review.csv'"
      ],
      "metadata": {
        "colab": {
          "base_uri": "https://localhost:8080/"
        },
        "id": "_cA9x7Pi0Wc-",
        "outputId": "06d7aa30-b5d9-47d1-f1f8-2443b46005fd"
      },
      "execution_count": 3,
      "outputs": [
        {
          "output_type": "stream",
          "name": "stdout",
          "text": [
            "Drive already mounted at /content/drive; to attempt to forcibly remount, call drive.mount(\"/content/drive\", force_remount=True).\n"
          ]
        }
      ]
    },
    {
      "cell_type": "code",
      "source": [
        "# Create a SparkSession\n",
        "spark = SparkSession.builder.appName(\"ReadCSVCorrectly\").getOrCreate()\n",
        "# Read the CSV file into a PySpark DataFrame with options to improve parsing\n",
        "try:\n",
        "    df_review= spark.read.csv(\n",
        "        csv_path,\n",
        "        header=True,\n",
        "        inferSchema=True,\n",
        "        sep=',',  # Assuming comma is the delimiter\n",
        "        quote='\"', # Assuming double quotes are used for quoting fields\n",
        "        escape='\"', # Assuming double quotes are escaped by double quotes\n",
        "        multiLine=True # Set to true if text column contains newline characters\n",
        "    )\n",
        "    print(\"CSV file loaded successfully!\")\n",
        "    df_review.show(5, truncate=False) # Display the first five rows without truncating\n",
        "except Exception as e:\n",
        "    print(f\"An error occurred: {e}\")"
      ],
      "metadata": {
        "colab": {
          "base_uri": "https://localhost:8080/"
        },
        "id": "Lx7OlPqe6TN_",
        "outputId": "db6af986-ccbc-49a9-c913-e00a3cd1d2c6"
      },
      "execution_count": 4,
      "outputs": [
        {
          "output_type": "stream",
          "name": "stdout",
          "text": [
            "CSV file loaded successfully!\n",
            "+---------------------+-----------------+-------------+------+------------------------------------------------------------------------------------------------------------------------------------------------------------------------------------------------------------------------------------------------------------------------------------------------------------------------------------------------------------------------------------------------------------------------------------------------------------------------------------------------------------------------------------------------------------------------------------------------------------------------------------------------------------------------------------------------------------------------------------------------------------------------+----+----+-------------------------------------+\n",
            "|user_id              |name             |time         |rating|text                                                                                                                                                                                                                                                                                                                                                                                                                                                                                                                                                                                                                                                                                                                                                                    |pics|resp|gmap_id                              |\n",
            "+---------------------+-----------------+-------------+------+------------------------------------------------------------------------------------------------------------------------------------------------------------------------------------------------------------------------------------------------------------------------------------------------------------------------------------------------------------------------------------------------------------------------------------------------------------------------------------------------------------------------------------------------------------------------------------------------------------------------------------------------------------------------------------------------------------------------------------------------------------------------+----+----+-------------------------------------+\n",
            "|109129804842686000000|Nicki Gore       |1566331951619|5     |We always stay here when in Valdez for silver salmon fishing. The elderly couple that run it are amazing to talk to, extremely helpful. The campsites are very well maintained.                                                                                                                                                                                                                                                                                                                                                                                                                                                                                                                                                                                         |NULL|NULL|0x56b646ed2220b77f:0xd8975e316de80952|\n",
            "|113240926405758000000|Allen Ratliff    |1504917982385|5     |Great campground for the price. Nice hot unlimited showers, laundy, and  spacious wooded lots. Full hook ups. Late check in available.                                                                                                                                                                                                                                                                                                                                                                                                                                                                                                                                                                                                                                  |NULL|NULL|0x56b646ed2220b77f:0xd8975e316de80952|\n",
            "|113044837891141000000|Jonathan Tringali|1474765901185|4     |We tent camped here for 2 nights while exploring Valdez. The center of the campground was in the open and there are treed sites around the edges. Don't expect lower foliage separating the sites. Still this is much nicer than the other RV parking lots in town which seemed wide open.\\n\\nThere is a bath house with 1 set of coin operated washer/dryer, 2 restrooms (sink toilet) and 2 shower rooms (sink, toilet, shower). The hot water will run out after a few showers. They provide floor mats towels for you to use which is nice, but they lack vent fans to remove moisture so it is prone to mold.\\n\\nWi-Fi didn't reach our site on the back edge of the campground. Overall we were happy with our stay at this campground and would stay there again.|NULL|NULL|0x56b646ed2220b77f:0xd8975e316de80952|\n",
            "|110329155147592000000|S Blad           |1472858535682|4     |This place is just a few miles outside Valdez, which I thought was a bonus.  It was surrounded by woods and had some trees throughout the park for shade.  The bathrooms were clean and the showers were nice.  The dump station was a little underwhelming.  Overall, I'm really glad I stayed here and not one of the gravel lots in valdez.                                                                                                                                                                                                                                                                                                                                                                                                                          |NULL|NULL|0x56b646ed2220b77f:0xd8975e316de80952|\n",
            "|108989634908602000000|Daniel Formoso   |1529649811341|5     |Probably the nicest and cleanest campground we've been to in Alaska.                                                                                                                                                                                                                                                                                                                                                                                                                                                                                                                                                                                                                                                                                                    |NULL|NULL|0x56b646ed2220b77f:0xd8975e316de80952|\n",
            "+---------------------+-----------------+-------------+------+------------------------------------------------------------------------------------------------------------------------------------------------------------------------------------------------------------------------------------------------------------------------------------------------------------------------------------------------------------------------------------------------------------------------------------------------------------------------------------------------------------------------------------------------------------------------------------------------------------------------------------------------------------------------------------------------------------------------------------------------------------------------+----+----+-------------------------------------+\n",
            "only showing top 5 rows\n",
            "\n"
          ]
        }
      ]
    },
    {
      "cell_type": "code",
      "source": [
        "#display total no of rows\n",
        "print(df_review.count())"
      ],
      "metadata": {
        "colab": {
          "base_uri": "https://localhost:8080/"
        },
        "id": "ti5jdwz9672C",
        "outputId": "2989107c-a761-4c13-9e53-0508cbd8dea0"
      },
      "execution_count": 5,
      "outputs": [
        {
          "output_type": "stream",
          "name": "stdout",
          "text": [
            "521515\n"
          ]
        }
      ]
    },
    {
      "cell_type": "code",
      "source": [
        "# Filter rows where 'text' column is null or an empty string\n",
        "null_or_empty_text_count = df_review.filter(\n",
        "    col(\"text\").isNull() | (trim(col(\"text\")) == \"\")\n",
        ").count()\n",
        "\n",
        "# Display the count\n",
        "print(f\"Number of rows with Null or empty text in the text column: {null_or_empty_text_count}\")"
      ],
      "metadata": {
        "id": "4nA-TOEw_6yz"
      },
      "execution_count": null,
      "outputs": []
    },
    {
      "cell_type": "markdown",
      "source": [
        "**Answer 1.1.1**"
      ],
      "metadata": {
        "id": "oRj2lOE-raGs"
      }
    },
    {
      "cell_type": "markdown",
      "source": [
        "**Answer 1.1.2**"
      ],
      "metadata": {
        "id": "PGG6r7-otTdg"
      }
    }
  ]
}